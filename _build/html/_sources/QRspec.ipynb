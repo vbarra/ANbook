{
 "cells": [
  {
   "cell_type": "markdown",
   "id": "cccec043",
   "metadata": {},
   "source": [
    "# Puissances groupées et méthode QR\n",
    "\n",
    "On peut généraliser la méthode des puissances itérées à des itérations dites groupées, permettant d'identifier les vecteurs propres associés aux $p$ plus grandes valeurs propres\n",
    "en valeur absolue. A chaque itération, on applique la transformation $A$ à chacun des vecteurs orthonormés, et on orthogonalise (par Gram-Schmidt ou Householder) le système résultant.\n",
    "\n",
    "## Itération des puissances itérées\n",
    "\n",
    "Soit $\\{q_1^{(k)}\\cdots q_p^{(k)}\\}$ un système de $p$ vecteurs orthonormés obtenu à l'itération $k$ On calcule les $p$ premiers vecteurs propres en itérant les étapes suivantes : \n",
    "\n",
    "1. construire le système $\\{Aq_1^{(k)}\\cdots Aq_p^{(k)}\\}$\n",
    "2. calculer les quotients de Rayleigh : $\\lambda_i={q^{(k)}_i}^\\top Aq_i^{(k)},\\quad 1\\leq i\\leq p$\n",
    "3. tester la convergence : $\\displaystyle\\max_{1\\leq i\\leq p} \\|Aq_i^{(k)}-\\lambda_i q_i^{(k)} \\|<Tol$\n",
    "4. orthogonaliser $\\{Aq_1^{(k)}\\cdots Aq_p^{(k)}\\} \\rightarrow \\{q_1^{(k+1)}\\cdots q_p^{(k+1)}\\}$\n",
    "\n",
    "\n",
    "\n",
    "## Méthode QR\n",
    "\n",
    "\n",
    "La méthode QR correspond au cas $p=n$ : soit $Q_k$ la matrice ($n\\times n$) dont les colonnes sont les vecteurs orthogonaux $q_i^{(k)}$ et soit $A_k=Q_k^\\top AQ_k$ la représentation de $A$ sur la base des $\\{q_i^{(k)}\\}$. On peut écrire alors (Gram-Schmidt) : \n",
    "\n",
    "$AQ_k=Q_{k+1}R_{k+1}$ \n",
    "\n",
    "où $R_{k+1}$ est triangulaire supérieure. Et ainsi \n",
    "\n",
    "$\\begin{align*}\n",
    "A_k&=Q_k^\\top Q_{k+1}R_{k+1}=QR_{k+1}\\\\\n",
    "A_{k+1}&=Q_{k+1}^\\top AQ_{k+1}=R_{k+1}Q_k^\\top Q_{k+1}=R_{k+1}Q\n",
    "\\end{align*}$\n",
    "\n",
    "En résumé, $Q$ est la matrice orthogonale qui permet de triangulariser $A_k$ et on écrit $A_{k+1}$ en inversant le produit $QR$. La méthode QR prend alors la forme particulièrement simple suivante :\n",
    "\n",
    "```{prf:algorithm} Algorithme QR\n",
    ":label: QR\n",
    "**Entrée :** La matrice ${\\bf A}$\n",
    "\n",
    "**Sortie :** Les matrices ${\\bf Q}$ et ${\\bf R}$\n",
    "\n",
    "1. $A_0=A$\n",
    "2. k=0\n",
    "2. Tant que le plus grand élément non diagonal de  $A_k$ est non nul\n",
    "    1. $A_k=Q_kR_k$ (par Gram-Schmidt par exemple)\n",
    "    2. $A_{k+1}=R_kQ_k$\n",
    "    3. k=k+1\n",
    "    \n",
    "```\n",
    "\n",
    "Observons que $A_{k+1}=Q^\\top A_kQ$, ce qui implique que les matrices sont toutes semblables et que la suite des matrices  $Q$ converge vers la matrice des vecteurs propres. La matrice $A_k$ converge vers une matrice diagonale où les valeurs propres sont rangées dans l'ordre décroissant. \n",
    "\n",
    "\n",
    "\n",
    "```{prf:remark}\n",
    ":class: dropdown\n",
    "Les performances sont considérablement améliorées si on intègre deux modifications :\n",
    "- décalage de la matrice en prenant comme approximation de la plus petite valeur propre l'élément ($n\\times n$) de $A_k$\n",
    "- transformation préalable de $A$ en une matrice tridiagonale. Les matrices $A_k$ restent tridiagonales et l'orthogonalisation s'effectue en $O(n)$ flops.\n",
    "```"
   ]
  }
 ],
 "metadata": {
  "jupytext": {
   "formats": "md:myst",
   "text_representation": {
    "extension": ".md",
    "format_name": "myst"
   }
  },
  "kernelspec": {
   "display_name": "Python 3",
   "language": "python",
   "name": "python3"
  },
  "language_info": {
   "codemirror_mode": {
    "name": "ipython",
    "version": 3
   },
   "file_extension": ".py",
   "mimetype": "text/x-python",
   "name": "python",
   "nbconvert_exporter": "python",
   "pygments_lexer": "ipython3",
   "version": "3.9.13"
  },
  "source_map": [
   11
  ]
 },
 "nbformat": 4,
 "nbformat_minor": 5
}