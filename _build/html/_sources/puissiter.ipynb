{
 "cells": [
  {
   "cell_type": "markdown",
   "id": "aa14886c",
   "metadata": {},
   "source": [
    "# Méthode des puissances itérées\n",
    "\n",
    "\n",
    "## Quotient de Rayleigh\n",
    "```{index} Rayleigh;quotient de \n",
    "```\n",
    "```{prf:definition}\n",
    "Pour une matrice symétrique $A$, le *quotient de Rayleigh* est le rapport défini pour tout $x\\neq 0$ par :\n",
    "\n",
    "$\\rho_A(x)=\\frac{x^\\top Ax}{x^\\top x}$\n",
    "```\n",
    "On vérifie immédiatement que si $x$ est vecteur propre, le quotient de Rayleigh fournit la valeur propre associée : en effet $Ax=\\lambda x \\Rightarrow x^\\top Ax=\\lambda x^\\top x$.\n",
    "\n",
    "Si $\\lambda_1$ et $\\lambda_n$ sont respectivement la plus petite et la plus grande valeur propre de $A$, et $x^1$,$x^n$ les vecteurs propres associés, on a également les résultats suivants :\n",
    "\n",
    "```{prf:theorem} Théorème min-max de Courant-Fischer\n",
    "$\\begin{align*}\n",
    "\\lambda_1&=\\rho_A(x^1)=\\displaystyle\\min_{x\\in \\mathbb{R}^n}\\{\\rho_A(x)\\}\\\\\n",
    "\\lambda_n&=\\rho_A(x^n)=\\displaystyle\\max_{x\\in \\mathbb{R}^n}\\{\\rho_A(x)\\}\n",
    "\\end{align*}\n",
    "$\n",
    "\n",
    "De plus, si les valeurs propres sont rangées dans l'ordre croissant, on a \n",
    "\n",
    "$\\begin{align*}\n",
    "\\lambda_i&=\\displaystyle\\min_{S_i}\\{\\displaystyle\\max_{x\\in S_i}\\{\\rho_A(x)\\}\\}\\\\\n",
    "\\lambda_i&=\\displaystyle\\max_{S_{i-1}}\\{\\displaystyle\\min_{x\\in S_{i-1}^\\bot}\\{\\rho_A(x)\\}\\}\n",
    "\\end{align*}$\n",
    "\n",
    "où $S_i$ est un sous-espace quelconque de dimension $i$.\n",
    "```\n",
    "\n",
    "Le sous-espace $S_i$ pour lequel le quotient de Rayleigh est maximum est le sous-espace propre associé aux $i$ premières valeurs propres. Le sous-espace pour lequel il est minimum est orthogonal au sous-espace propre associé aux $i-1$ premières valeurs propres. C'est donc le sous-espace engendré par les $n-i+1$ vecteurs propres associés à $\\{\\lambda_i\\cdots\\lambda_n\\}$.\n",
    "\n",
    "## Méthode des puissances itérées\n",
    "\n",
    "La méthode des puissances itérées permet de calculer le vecteur propre associé à la plus grande valeur propre.\n",
    "\n",
    "Supposons $A$ symétrique de valeurs propres ordonnées selon $|\\lambda_1|\\leq\\cdots|\\lambda_{n-1}|<|\\lambda_n|$.\n",
    "\n",
    "On considère l'itération suivante définie à partir d'un vecteur initial $q_0$ donné, tel que $\\|q_0\\|=1$, et $q_0$ n'est pas orthogonal à $v^n$, le vecteur propre associé à la plus grande valeur propre isolée $\\lambda_n$ :\n",
    "\n",
    "$\\begin{align*}\n",
    "x_{k+1}&=Aq_k\\\\\n",
    "q_{k+1}&=\\frac{x_{k+1}}{\\|x_{k+1}\\|}\n",
    "\\end{align*}$\n",
    "\n",
    "Par récurrence, on montre alors que  $q_k=\\frac{A^kq_0}{\\|A^kq_0\\|}$ et comme les vecteurs propres $\\{v^1\\cdots v^n\\}$ forment une base de $\\mathbb{R}^n$, on peut écrire \n",
    "\n",
    " $q_0=\\displaystyle\\sum{i=1}^n\\alpha_iv^i,\\quad\\alpha_n\\neq 0$\n",
    " et \n",
    "\n",
    " $A^kq_0=\\alpha_n\\lambda_n^k\\left (v^n+\\displaystyle\\sum{i=1}^{n-1}\\frac{\\alpha_i}{\\alpha_n}\\left (\\frac{\\lambda_i}{\\lambda_n}\\right )^kv^i\\right )$\n",
    "\n",
    " Lorsque $k\\rightarrow\\infty$, les rapports $\\left (\\frac{\\lambda_i}{\\lambda_n}\\right )^k$ tendent vers 0 pour $i\\neq n$, \n",
    " ce qui signifie que la suite des itérés $\\{q_k\\}$ converge vers le vecteur propre $v^n$ ou $-v^n$. \n",
    " On peut montrer de plus que $\\|Aq_k\\|$ tend vers $|\\lambda_n|$ et que la convergence est linéaire de taux $\\left |\\frac{\\lambda_{n-1}}{\\lambda_n}\\right |$ si $\\alpha_{n-1}\\neq 0$."
   ]
  },
  {
   "cell_type": "code",
   "execution_count": 1,
   "id": "7c6bdfd2",
   "metadata": {},
   "outputs": [
    {
     "name": "stdout",
     "output_type": "stream",
     "text": [
      "La plus grande valeur propre de A est  4.675130870566646\n"
     ]
    },
    {
     "data": {
      "image/png": "[encoded data removed]",
      "text/plain": [
       "<Figure size 720x360 with 2 Axes>"
      ]
     },
     "metadata": {
      "filenames": {
       "image/png": "/Users/vibarra/Documents/Cours/FISA/envbook/ANbook/_build/jupyter_execute/puissiter_1_1.png"
      },
      "needs_background": "light"
     },
     "output_type": "display_data"
    }
   ],
   "source": [
    "import numpy as np\n",
    "import matplotlib.pyplot as plt\n",
    "\n",
    "def plot_vector2d(vector2d, origin=[0, 0], **options):\n",
    "    return plt.arrow(origin[0], origin[1], vector2d[0], vector2d[1],\n",
    "              head_width=0.05, head_length=0.1, length_includes_head=True,\n",
    "              **options)\n",
    "\n",
    "\n",
    "def puissiter(A,v0,lam,niter,epsilon):\n",
    "    v = v0\n",
    "    vv=[v0]\n",
    "    l = np.dot(v0,np.dot(A,v0))\n",
    "    ll = [l]\n",
    "    k=0\n",
    "    while np.fabs(lam-l)>epsilon and k<niter:\n",
    "        w = np.dot(A,v)\n",
    "        v = w/np.linalg.norm(w)\n",
    "        l = np.dot(v,np.dot(A,v))\n",
    "        vv.append(v)\n",
    "        ll.append(l)\n",
    "        k=k+1\n",
    "    return ll, vv,k\n",
    "\n",
    "A = np.array([[2.,1,-1],[1,3,1],[-1,1,4]])\n",
    "lam =np.max(np.linalg.eigvals(A))\n",
    "print(\"La plus grande valeur propre de A est \",lam)\n",
    "\n",
    "epsilon = 1e-4\n",
    "niter=50\n",
    "ll, vv,k = puissiter(A,np.ones(3),lam,niter,epsilon)\n",
    "\n",
    "plt.figure(figsize=(10,5))\n",
    "plt.subplot(121)\n",
    "plt.plot(range(len(ll)),ll,'-o',label='Puissances itérées')\n",
    "plt.plot(range(len(ll)),lam*np.ones((len(ll)), dtype=np.uint8) ,'r')\n",
    "plt.ylabel('valeur propre')\n",
    "plt.xlabel('Iteration');\n",
    "plt.text(0, lam+0.3, \"$\\lambda$\", color=\"r\", fontsize=18)\n",
    "plt.legend()\n",
    "plt.title(\"Valeur propre approchée à \"+ str(epsilon)+\" près en \"+str(k)+\" itérations\")\n",
    "\n",
    "plt.subplot(122)\n",
    "plot_vector2d(vv[0], color=\"b\", linestyle=\"dotted\")\n",
    "plt.text(vv[0][0],vv[0][1],'v0')\n",
    "plot_vector2d(vv[k-1], color=\"r\", linestyle=\"dotted\")\n",
    "plt.text(vv[k-1][0],vv[k-1][1],'vfinal')\n",
    "\n",
    "plt.title(\"Vecteur propre approché\")\n",
    "plt.tight_layout()\n",
    "\n",
    "\n"
   ]
  },
  {
   "cell_type": "markdown",
   "id": "65e4fe4a",
   "metadata": {},
   "source": [
    "## Méthode des puissances inverses\n",
    "\n",
    "Pour les mêmes raisons, l'itération \n",
    "\n",
    "$\\begin{align*}\n",
    "Ax_{k+1}&=q_k\\\\\n",
    "q_{k+1}&=\\frac{x_{k+1}}{\\|x_{k+1}\\|}\n",
    "\\end{align*}$\n",
    "\n",
    "avec $\\|q_0\\|=1$, et $q_0$ n'est pas orthogonal à $v^1$, converge vers la direction du vecteur propre associé à la plus \n",
    "petite valeur propre en module. On remarquera le coût de calcul en $O(n^2)$.\n",
    "\n",
    "```{prf:remark}\n",
    ":class: dropdown\n",
    "1. Accélération par *décalage* : la matrice $A+\\alpha I$ a les mêmes vecteurs propres que $A$ et ses valeurs propres sont décalées de la quantité $\\alpha$. La méthode des puissances itérées inverses converge d'autant plus vite que les rapports $\\left|\\frac{\\lambda_1}{\\lambda_2}\\right|^k$ tendent rapidement vers 0. On a donc intérêt à ce que $\\lambda_1$ soit le plus proche possible de 0, et de plus, la méthode sera d'autant plus rapide que l'écart entre les deux plus petites valeurs propres se creuse. La technique du décalage consiste donc à remplacer $A$ par $A+\\alpha I$, avec $\\alpha\\approx -\\lambda_1$. Plus l'estimation de $\\lambda_1$ sera précise, plus la convergence sera rapide. Toutefois, il faut que $\\alpha\\neq -\\lambda_1$ pour éviter que la matrice ne devienne singulière\n",
    "2. Technique de *déflation* : la méthode des puissances itérées peut être étendue pour permettre le calcul de toutes les valeurs propres d'une matrice symétrique. Supposons en effet calculée la plus grande valeur propre $\\lambda_n$ ainsi qu'un vecteur propre associé $v^n$. Soit $P_n$ la la matrice de projection orthogonale sur l'hyperplan $(v^n)^\\bot$. La matrice $P_nA$ possède les mêmes vecteurs propres que $A$ et les mêmes valeurs propres à l'exception de $\\lambda_n$ qui est remplacée par 0. L'application de la méthode des puissances itérées à $P_nA$ permettra donc de calculer la deuxième plus grande valeur propre de $A$. Cette technique, dite de déflation, permet théoriquement de calculer toutes les valeurs propres de $A$. Elle est toutefois numériquement instable sans précautions, et on lui préférera généralement la méthode des puissances groupées.\n",
    "```"
   ]
  }
 ],
 "metadata": {
  "jupytext": {
   "formats": "md:myst",
   "text_representation": {
    "extension": ".md",
    "format_name": "myst"
   }
  },
  "kernelspec": {
   "display_name": "Python 3",
   "language": "python",
   "name": "python3"
  },
  "language_info": {
   "codemirror_mode": {
    "name": "ipython",
    "version": 3
   },
   "file_extension": ".py",
   "mimetype": "text/x-python",
   "name": "python",
   "nbconvert_exporter": "python",
   "pygments_lexer": "ipython3",
   "version": "3.9.13"
  },
  "source_map": [
   11,
   73,
   127
  ]
 },
 "nbformat": 4,
 "nbformat_minor": 5
}