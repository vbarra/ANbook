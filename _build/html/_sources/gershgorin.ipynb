{
 "cells": [
  {
   "cell_type": "markdown",
   "id": "2c3c7429",
   "metadata": {},
   "source": [
    "# Disques de Gershgorin\n",
    "\n",
    "Avant d'aborder quelques algorithmes de calcul des valeurs propres d'une matrice, donnons une alternative pratique à ces algorithmes . Le théorème suivant  permet de localiser les valeurs propres dans des disques, dits disques de Gershgorin, du plan complexe.\n",
    "\n",
    "```{prf:theorem} Théorème de Gershgorin\n",
    "Si on représente une matrice $A$ (ou toute matrice semblable à $A$) sous la forme $A=diag\\{d_1\\cdots d_n\\}+F$, où $F$ est une matrice de diagonale nulle, alors le spectre de $A$ est contenu dans l'union des disques $D_i,1\\leq i\\leq n$ du plan complexe, tels que \n",
    "\n",
    "$D_i=\\left \\{ z\\in \\mathbb{C}, |z-d_i|\\leq \\displaystyle\\sum_{j=1}^n|f_{ij}|\\right \\}$\n",
    "```\n",
    "\n",
    "```{index} Gershgorin;théorème\n",
    "```\n",
    "\n",
    "```{margin} \n",
    "![](./images/gershgorinsemyon.png)\n",
    "```\n",
    "\n",
    "\n",
    "\n",
    "\n",
    "Une application intéressante de ce résultat est l'estimation des valeurs propres d'une matrice obtenue en perturbant une matrice dont on connaît le spectre.\n",
    "\n",
    "\n",
    "```{prf:example}\n",
    "$A =\n",
    "\\left[\n",
    "\\begin{array}{ccc}\n",
    "1&0.1&-0.1\\\\\n",
    "0&2&0.4\\\\\n",
    "-0.2&0&3\\\\\n",
    "\\end{array}\n",
    "\\right]\n",
    "$\n",
    "\n",
    "dont les valeurs propres sont situées dans les disques suivants\n",
    "$\\begin{align*}\n",
    "D_1&=\\left \\{ z\\in \\mathbb{C}, |z-1|\\leq 0.2\\right\\}\\\\\n",
    "D_2&=\\left \\{ z\\in \\mathbb{C}, |z-2|\\leq 0.4\\right\\}\\\\\n",
    "D_3&=\\left \\{ z\\in \\mathbb{C}, |z-3|\\leq 0.2\\right\\}\n",
    "\\end{align*}$\n",
    "```"
   ]
  },
  {
   "cell_type": "code",
   "execution_count": 1,
   "id": "99ea8232",
   "metadata": {},
   "outputs": [
    {
     "data": {
      "text/latex": [
       "$\\displaystyle \\left[\\begin{matrix}0 & 0.5137 & 0.6842 & 0.579 & 0.2386\\\\0.4864 & -1.0 & 0.5871 & 0.2609 & 0.05569\\\\0.4654 & 0.2654 & 4.0 & 0.5691 & 0.246\\\\0.6149 & 0.5578 & 0.354 & 1.0 & 0.9717\\\\0.7809 & 0.4985 & 0.7871 & 0.02668 & 7.0\\end{matrix}\\right]$"
      ],
      "text/plain": [
       "Matrix([\n",
       "[     0, 0.5137, 0.6842,   0.579,  0.2386],\n",
       "[0.4864,   -1.0, 0.5871,  0.2609, 0.05569],\n",
       "[0.4654, 0.2654,    4.0,  0.5691,   0.246],\n",
       "[0.6149, 0.5578,  0.354,     1.0,  0.9717],\n",
       "[0.7809, 0.4985, 0.7871, 0.02668,     7.0]])"
      ]
     },
     "execution_count": 1,
     "metadata": {},
     "output_type": "execute_result"
    },
    {
     "data": {
      "image/png": "[encoded data removed]",
      "text/plain": [
       "<Figure size 432x288 with 1 Axes>"
      ]
     },
     "metadata": {
      "filenames": {
       "image/png": "/Users/vibarra/Documents/Cours/FISA/envbook/ANbook/_build/jupyter_execute/gershgorin_1_1.png"
      },
      "needs_background": "light"
     },
     "output_type": "display_data"
    }
   ],
   "source": [
    "import numpy as np\n",
    "import matplotlib.pyplot as plt\n",
    "from sympy import Matrix\n",
    "n = 5 \n",
    "\n",
    "D = np.diag([0, -1, 4 , 1 , 7 ])\n",
    "M = np.random.rand(n, n) + D\n",
    "for k in range(n):\n",
    "  M[k][k] = D[k][k]\n",
    "\n",
    "R = np.zeros(n) \n",
    "for i in range(n):\n",
    "    R[i] = sum(abs(M[i,:])) - abs(M[i,i])\n",
    "\n",
    "eigenvalues = np.linalg.eigvals(M)\n",
    "\n",
    "fig, ax = plt.subplots()\n",
    "for k in range(n):\n",
    "    x, y = M[k,k].real, M[k,k].imag\n",
    "    ax.add_artist( plt.Circle((x, y), R[k], alpha=0.5) )\n",
    "    plt.plot(eigenvalues[k].real, eigenvalues[k].imag, 'k+')\n",
    "    plt.text(D[k][k],0.2,str(M[k][k]))\n",
    "\n",
    "ax.axis([-4, 12.5, -4, 9])\n",
    "ax.set_aspect(1)    \n",
    "plt.xlabel(\"$x$\")\n",
    "plt.ylabel(\"$y$\")\n",
    "plt.title(\"Disques de Gershgorin dans le plan complexe\")\n",
    "plt.tight_layout()\n",
    "Matrix(M).evalf(4)"
   ]
  }
 ],
 "metadata": {
  "jupytext": {
   "formats": "md:myst",
   "text_representation": {
    "extension": ".md",
    "format_name": "myst"
   }
  },
  "kernelspec": {
   "display_name": "Python 3",
   "language": "python",
   "name": "python3"
  },
  "language_info": {
   "codemirror_mode": {
    "name": "ipython",
    "version": 3
   },
   "file_extension": ".py",
   "mimetype": "text/x-python",
   "name": "python",
   "nbconvert_exporter": "python",
   "pygments_lexer": "ipython3",
   "version": "3.9.13"
  },
  "source_map": [
   11,
   54
  ]
 },
 "nbformat": 4,
 "nbformat_minor": 5
}