{
 "cells": [
  {
   "cell_type": "markdown",
   "id": "94df72ec",
   "metadata": {},
   "source": [
    "# Moindres carrés linéaires\n",
    "\n",
    "Avant d'aborder quelques algorithmes de calcul des valeurs propres d'une matrice, donnons une alternative pratique à ces algorithmes . Le théorème suivant  permet de localiser les valeurs propres dans des disques, dits disques de Gershgorin, du plan complexe.\n",
    "\n",
    "```{prf:theorem}Théorème de Gershgorin\n",
    "Si on représente une matrice $A$ (ou toute matrice semblable à $A$) sous la forme $A=diag\\{d_1\\cdots d_n\\}+F$, où $F$ est une matrice de diagonale nulle, alors le spectre de $A$ est contenu dans l'union des disques $D_i,1\\leq i\\leq n$ du plan complexe, tels que \n",
    "$$D_i=\\left \\{ z\\in \\mathbb{C}, |z-d_i|\\leq \\dsum_{j=1}^n|f_{ij}|\\right \\}$$\n",
    "```\n",
    "\n",
    "```{index} Gershgorin;théorème\n",
    "```\n",
    "\n",
    "Une application intéressante de ce résultat est l'estimation des valeurs propres d'une matrice obtenue en perturbant une matrice dont on connaît le spectre.\n",
    "\n",
    "\n",
    "```{margin} \n",
    "![](./images/gershgorin.png)\n",
    "```\n",
    "\n",
    "```{prf:example}\n",
    "$A =\n",
    "\\left[\n",
    "\\begin{array}{ccc}\n",
    "1&0.1&-0.1\\\\\n",
    "0&2&0.4\\\\\n",
    "-0.2&0&3\\\\\n",
    "\\end{array}\n",
    "\\right]\n",
    "$\n",
    "\n",
    "dont les valeurs propres sont situées dans les disques suivants\n",
    "$\\begin{align*}\n",
    "D_1&=\\left \\{ z\\in \\mathbb{C}, |z-1|\\leq 0.2\\right\\}\\\\\n",
    "D_2&=\\left \\{ z\\in \\mathbb{C}, |z-2|\\leq 0.4\\right\\}\\\\\n",
    "D_3&=\\left \\{ z\\in \\mathbb{C}, |z-3|\\leq 0.2\\right\\}\n",
    "\\end{align*}$\n",
    "```"
   ]
  }
 ],
 "metadata": {
  "jupytext": {
   "formats": "md:myst",
   "text_representation": {
    "extension": ".md",
    "format_name": "myst"
   }
  },
  "kernelspec": {
   "display_name": "Python 3",
   "language": "python",
   "name": "python3"
  },
  "language_info": {
   "codemirror_mode": {
    "name": "ipython",
    "version": 3
   },
   "file_extension": ".py",
   "mimetype": "text/x-python",
   "name": "python",
   "nbconvert_exporter": "python",
   "pygments_lexer": "ipython3",
   "version": "3.9.13"
  },
  "source_map": [
   11
  ]
 },
 "nbformat": 4,
 "nbformat_minor": 5
}