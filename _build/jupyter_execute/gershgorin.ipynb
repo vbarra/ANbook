{
 "cells": [
  {
   "cell_type": "code",
   "execution_count": 1,
   "id": "a7216def",
   "metadata": {},
   "outputs": [
    {
     "name": "stdout",
     "output_type": "stream",
     "text": [
      "Requirement already satisfied: sympy in /usr/local/lib/python3.11/site-packages (1.12)\r\n",
      "Requirement already satisfied: numpy in /usr/local/lib/python3.11/site-packages (1.23.5)\r\n",
      "Requirement already satisfied: matplotlib in /usr/local/lib/python3.11/site-packages (3.8.1)\r\n",
      "Requirement already satisfied: mpmath>=0.19 in /usr/local/lib/python3.11/site-packages (from sympy) (1.3.0)\r\n"
     ]
    },
    {
     "name": "stdout",
     "output_type": "stream",
     "text": [
      "Requirement already satisfied: contourpy>=1.0.1 in /usr/local/lib/python3.11/site-packages (from matplotlib) (1.0.7)\r\n",
      "Requirement already satisfied: cycler>=0.10 in /usr/local/lib/python3.11/site-packages (from matplotlib) (0.11.0)\r\n",
      "Requirement already satisfied: fonttools>=4.22.0 in /usr/local/lib/python3.11/site-packages (from matplotlib) (4.39.4)\r\n",
      "Requirement already satisfied: kiwisolver>=1.3.1 in /usr/local/lib/python3.11/site-packages (from matplotlib) (1.4.4)\r\n",
      "Requirement already satisfied: packaging>=20.0 in /usr/local/lib/python3.11/site-packages (from matplotlib) (23.1)\r\n",
      "Requirement already satisfied: pillow>=8 in /usr/local/lib/python3.11/site-packages (from matplotlib) (10.1.0)\r\n",
      "Requirement already satisfied: pyparsing>=2.3.1 in /usr/local/lib/python3.11/site-packages (from matplotlib) (3.0.9)\r\n",
      "Requirement already satisfied: python-dateutil>=2.7 in /usr/local/lib/python3.11/site-packages (from matplotlib) (2.8.2)\r\n"
     ]
    },
    {
     "name": "stdout",
     "output_type": "stream",
     "text": [
      "Requirement already satisfied: six>=1.5 in /usr/local/lib/python3.11/site-packages (from python-dateutil>=2.7->matplotlib) (1.16.0)\r\n"
     ]
    },
    {
     "name": "stdout",
     "output_type": "stream",
     "text": [
      "\r\n",
      "\u001b[1m[\u001b[0m\u001b[34;49mnotice\u001b[0m\u001b[1;39;49m]\u001b[0m\u001b[39;49m A new release of pip is available: \u001b[0m\u001b[31;49m23.2.1\u001b[0m\u001b[39;49m -> \u001b[0m\u001b[32;49m23.3.1\u001b[0m\r\n",
      "\u001b[1m[\u001b[0m\u001b[34;49mnotice\u001b[0m\u001b[1;39;49m]\u001b[0m\u001b[39;49m To update, run: \u001b[0m\u001b[32;49mpython3.11 -m pip install --upgrade pip\u001b[0m\r\n"
     ]
    }
   ],
   "source": [
    "# n'exécuter qu'une fois\n",
    "!pip3 install sympy numpy matplotlib\n"
   ]
  },
  {
   "cell_type": "markdown",
   "id": "79f60308",
   "metadata": {},
   "source": [
    "# Disques de Gershgorin\n",
    "\n",
    "Avant d'aborder quelques algorithmes de calcul des valeurs propres d'une matrice, donnons une alternative pratique à ces algorithmes . Le théorème suivant  permet de localiser les valeurs propres dans des disques, dits disques de Gershgorin, du plan complexe.\n",
    "\n",
    "```{margin} \n",
    "![](./images/gershgorinsemyon.png)\n",
    "```\n",
    "\n",
    "```{prf:theorem} Théorème de Gershgorin\n",
    "Si on représente une matrice $A$ (ou toute matrice semblable à $A$) sous la forme $A=diag\\{d_1\\cdots d_n\\}+F$, où $F$ est une matrice de diagonale nulle, alors le spectre de $A$ est contenu dans l'union des disques $D_i,1\\leq i\\leq n$ du plan complexe, tels que \n",
    "\n",
    "$D_i=\\left \\{ z\\in \\mathbb{C}, |z-d_i|\\leq \\displaystyle\\sum_{j=1}^n|f_{ij}|\\right \\}$\n",
    "```\n",
    "\n",
    "```{index} Gershgorin;théorème\n",
    "```\n",
    "\n",
    "\n",
    "\n",
    "\n",
    "\n",
    "\n",
    "Une application intéressante de ce résultat est l'estimation des valeurs propres d'une matrice obtenue en perturbant une matrice dont on connaît le spectre.\n",
    "\n",
    "\n",
    "```{prf:example}\n",
    "$A =\n",
    "\\left[\n",
    "\\begin{array}{ccc}\n",
    "1&0.1&-0.1\\\\\n",
    "0&2&0.4\\\\\n",
    "-0.2&0&3\\\\\n",
    "\\end{array}\n",
    "\\right]\n",
    "$\n",
    "\n",
    "dont les valeurs propres sont situées dans les disques suivants\n",
    "$\\begin{align*}\n",
    "D_1&=\\left \\{ z\\in \\mathbb{C}, |z-1|\\leq 0.2\\right\\}\\\\\n",
    "D_2&=\\left \\{ z\\in \\mathbb{C}, |z-2|\\leq 0.4\\right\\}\\\\\n",
    "D_3&=\\left \\{ z\\in \\mathbb{C}, |z-3|\\leq 0.2\\right\\}\n",
    "\\end{align*}$\n",
    "```"
   ]
  },
  {
   "cell_type": "code",
   "execution_count": 2,
   "id": "efe69899",
   "metadata": {},
   "outputs": [
    {
     "data": {
      "text/latex": [
       "$\\displaystyle \\left[\\begin{matrix}0 & 0.999 & 0.4127 & 0.793 & 0.5769\\\\0.984 & -1.0 & 0.8112 & 0.3828 & 0.8765\\\\0.1997 & 0.1112 & 4.0 & 0.559 & 0.7338\\\\0.1868 & 0.01051 & 0.6544 & 1.0 & 0.9439\\\\0.5505 & 0.9846 & 0.1204 & 0.9419 & 7.0\\end{matrix}\\right]$"
      ],
      "text/plain": [
       "Matrix([\n",
       "[     0,   0.999, 0.4127,  0.793, 0.5769],\n",
       "[ 0.984,    -1.0, 0.8112, 0.3828, 0.8765],\n",
       "[0.1997,  0.1112,    4.0,  0.559, 0.7338],\n",
       "[0.1868, 0.01051, 0.6544,    1.0, 0.9439],\n",
       "[0.5505,  0.9846, 0.1204, 0.9419,    7.0]])"
      ]
     },
     "execution_count": 2,
     "metadata": {},
     "output_type": "execute_result"
    },
    {
     "data": {
      "image/png": "[encoded data removed]",
      "text/plain": [
       "<Figure size 432x288 with 1 Axes>"
      ]
     },
     "metadata": {
      "filenames": {
       "image/png": "/Users/vibarra/Documents/Cours/FISA/envbook/ANbook/_build/jupyter_execute/gershgorin_2_1.png"
      },
      "needs_background": "light"
     },
     "output_type": "display_data"
    }
   ],
   "source": [
    "import numpy as np\n",
    "import matplotlib.pyplot as plt\n",
    "from sympy import Matrix\n",
    "n = 5 \n",
    "\n",
    "D = np.diag([0, -1, 4 , 1 , 7 ])\n",
    "M = np.random.rand(n, n) + D\n",
    "for k in range(n):\n",
    "  M[k][k] = D[k][k]\n",
    "\n",
    "R = np.zeros(n) \n",
    "for i in range(n):\n",
    "    R[i] = sum(abs(M[i,:])) - abs(M[i,i])\n",
    "\n",
    "eigenvalues = np.linalg.eigvals(M)\n",
    "\n",
    "fig, ax = plt.subplots()\n",
    "for k in range(n):\n",
    "    x, y = M[k,k].real, M[k,k].imag\n",
    "    ax.add_artist( plt.Circle((x, y), R[k], alpha=0.5) )\n",
    "    plt.plot(eigenvalues[k].real, eigenvalues[k].imag, 'k+')\n",
    "    plt.text(D[k][k],0.2,str(M[k][k]))\n",
    "\n",
    "ax.axis([-4, 10.5, -4, 4])\n",
    "ax.set_aspect(1)    \n",
    "plt.xlabel(\"$x$\")\n",
    "plt.ylabel(\"$y$\")\n",
    "plt.title(\"Disques de Gershgorin dans le plan complexe\")\n",
    "plt.tight_layout()\n",
    "Matrix(M).evalf(4)"
   ]
  }
 ],
 "metadata": {
  "jupytext": {
   "formats": "md:myst",
   "text_representation": {
    "extension": ".md",
    "format_name": "myst"
   }
  },
  "kernelspec": {
   "display_name": "Python 3",
   "language": "python",
   "name": "python3"
  },
  "language_info": {
   "codemirror_mode": {
    "name": "ipython",
    "version": 3
   },
   "file_extension": ".py",
   "mimetype": "text/x-python",
   "name": "python",
   "nbconvert_exporter": "python",
   "pygments_lexer": "ipython3",
   "version": "3.9.18"
  },
  "source_map": [
   13,
   17,
   63
  ]
 },
 "nbformat": 4,
 "nbformat_minor": 5
}