{
 "cells": [
  {
   "cell_type": "markdown",
   "metadata": {},
   "source": [
    "# Tutoriel Numpy"
   ]
  },
  {
   "cell_type": "markdown",
   "metadata": {},
   "source": [
    "[Numpy](https://numpy.org) est la bibliothèque centrale de calcul scientifique en Python. Elle utilise un type de tableau multidimensionnel, et des outils pour travailler sur ces tableaux.\n",
    "Pour utiliser la bibliothèque `numpy`, on l'importe :"
   ]
  },
  {
   "cell_type": "code",
   "execution_count": 1,
   "metadata": {},
   "outputs": [],
   "source": [
    "import numpy as np"
   ]
  },
  {
   "cell_type": "markdown",
   "metadata": {},
   "source": [
    "## Arrays\n",
    "### Définition\n",
    "Un `array` est un tableau de valeurs, toutes du même type, indexées par un tuples d'entiers. Le nombre de dimensions est le rang du tableau. "
   ]
  },
  {
   "cell_type": "code",
   "execution_count": 2,
   "metadata": {
    "scrolled": true
   },
   "outputs": [
    {
     "name": "stdout",
     "output_type": "stream",
     "text": [
      "taille du vecteur :  (3,)\n",
      "l'élément  0  du vecteur est : 1\n",
      "l'élément  1  du vecteur est : 2\n",
      "l'élément  2  du vecteur est : 3\n",
      "\n",
      "taille de la matrice :  (2, 3)\n",
      "[[1 2 3]\n",
      " [4 5 6]]\n"
     ]
    }
   ],
   "source": [
    "# Création d'un vecteur\n",
    "v = np.array([1, 2, 3])  \n",
    "print('taille du vecteur : ',v.shape)\n",
    "for i in range(v.shape[0]):\n",
    "    print(\"l'élément \",i,\" du vecteur est :\",v[i])\n",
    "\n",
    "# Matrice      \n",
    "m = np.array([[1,2,3],[4,5,6]])   \n",
    "print('\\ntaille de la matrice : ',m.shape)\n",
    "print(m)\n",
    "     "
   ]
  },
  {
   "cell_type": "code",
   "execution_count": 3,
   "metadata": {},
   "outputs": [],
   "source": [
    "# Initialisations particulières\n",
    "z = np.zeros((2,2))         # matrice nulle\n",
    "o = np.ones((5,3))          # matrice de 1\n",
    "c = np.full((2,2), 7)       # matrice de 7\n",
    "i = np.eye(4,4)              # matrice identité\n",
    "r = np.random.random((2,2)) # valeurs aléatoires"
   ]
  },
  {
   "cell_type": "markdown",
   "metadata": {},
   "source": [
    "### Indexation\n",
    "On résume dans la suite quelques méthodes d'accès, voir la [documentation](https://docs.scipy.org/doc/numpy/reference/arrays.indexing.html) pour plus de détails."
   ]
  },
  {
   "cell_type": "markdown",
   "metadata": {},
   "source": [
    "* par Slicing : "
   ]
  },
  {
   "cell_type": "code",
   "execution_count": 4,
   "metadata": {},
   "outputs": [
    {
     "name": "stdout",
     "output_type": "stream",
     "text": [
      "[[ 1  2  3  4]\n",
      " [ 5  6  7  8]\n",
      " [ 9 10 11 12]]\n",
      "Sous-tableau composé des coefficients à l'intersection  deux premières lignes et des colonnes 1 et 2\n",
      " [[2 3]\n",
      " [6 7]]\n",
      "a[0, 1] =  2\n",
      "b pointe sur a, donc modifier b modifie a :nouvelle valeur de a[0, 1] :  -100\n"
     ]
    }
   ],
   "source": [
    "a = np.array([[1,2,3,4], [5,6,7,8], [9,10,11,12]])\n",
    "print(a)\n",
    "b = a[:2, 1:3]\n",
    "print(\"Sous-tableau composé des coefficients à l'intersection  deux premières lignes et des colonnes 1 et 2\\n\", b)\n",
    "print('a[0, 1] = ',a[0, 1])  \n",
    "b[0, 0] = -100    \n",
    "print('b pointe sur a, donc modifier b modifie a :nouvelle valeur de a[0, 1] : ',a[0, 1]) "
   ]
  },
  {
   "cell_type": "markdown",
   "metadata": {},
   "source": [
    "* par accès aux lignes/colonnes : "
   ]
  },
  {
   "cell_type": "code",
   "execution_count": 5,
   "metadata": {},
   "outputs": [
    {
     "name": "stdout",
     "output_type": "stream",
     "text": [
      "ligne  [5 6 7 8] de rang  (4,)\n",
      "ligne  [[5 6 7 8]] de rang  (1, 4)\n",
      "ligne  [[5 6 7 8]] de rang  (1, 4)\n",
      "colonne  [-100    6   10] de rang  (3,)\n",
      "colonne  [[-100]\n",
      " [   6]\n",
      " [  10]] de rang  (3, 1)\n"
     ]
    }
   ],
   "source": [
    "lig_r1 = a[1, :]    # deuxième ligne de a, de range 1\n",
    "lig_r2 = a[1:2, :]  # deuxième ligne de a, de range 2\n",
    "lig_r3 = a[[1], :]  # deuxième ligne de a, de range 2\n",
    "print('ligne ',lig_r1,'de rang ', lig_r1.shape) \n",
    "print('ligne ',lig_r2, 'de rang ',lig_r2.shape)\n",
    "print('ligne ',lig_r3, 'de rang ',lig_r2.shape)\n",
    "\n",
    "col_r1 = a[:, 1]\n",
    "col_r2 = a[:, 1:2]\n",
    "print('colonne ',col_r1, 'de rang ',col_r1.shape)\n",
    "print('colonne ',col_r2, 'de rang ',col_r2.shape)"
   ]
  },
  {
   "cell_type": "markdown",
   "metadata": {},
   "source": [
    "* par tableau d'indices"
   ]
  },
  {
   "cell_type": "code",
   "execution_count": 6,
   "metadata": {},
   "outputs": [
    {
     "name": "stdout",
     "output_type": "stream",
     "text": [
      "a= [[ 1  2  3]\n",
      " [ 4  5  6]\n",
      " [ 7  8  9]\n",
      " [10 11 12]]\n",
      "Sélection par une liste d'indices [ 1  6  7 11]\n",
      "On ne modifie que les coefficients décrits par b\n",
      "[[-99   2   3]\n",
      " [  4   5 -94]\n",
      " [-93   8   9]\n",
      " [ 10 -89  12]]\n"
     ]
    }
   ],
   "source": [
    "a = np.array([[1,2,3], [4,5,6], [7,8,9], [10, 11, 12]])\n",
    "print(\"a=\",a)\n",
    "# On sélectionne le 1e élément de la première ligne, le 3e de la deuxième ligne, le 1e de la troisième et le 2e de la quatrième\n",
    "b = np.array([0, 2, 0, 1])\n",
    "res =  a[np.arange(4), b]\n",
    "print(\"Sélection par une liste d'indices\", res)  \n",
    "\n",
    "a[np.arange(4), b] -=100\n",
    "print(\"On ne modifie que les coefficients décrits par b\")\n",
    "print(a)"
   ]
  },
  {
   "cell_type": "markdown",
   "metadata": {},
   "source": [
    "* par accès booléen"
   ]
  },
  {
   "cell_type": "code",
   "execution_count": 7,
   "metadata": {},
   "outputs": [
    {
     "name": "stdout",
     "output_type": "stream",
     "text": [
      "[[False False  True]\n",
      " [ True  True  True]\n",
      " [False False False]\n",
      " [False False  True]]\n",
      "résultat :  [3 4 5 6 3]  également accessible par  [3 4 5 6 3]\n"
     ]
    }
   ],
   "source": [
    "a = np.array([[1,2,3], [4,5,6], [-1,-1,-3], [1, 2, 3]])\n",
    "bool_idx = (a > 2)  \n",
    "print(bool_idx)\n",
    "# Accès aux éléments de a satisfaisant la contrainte\n",
    "b = a[bool_idx]\n",
    "c = a[a > 2]\n",
    "print('résultat : ',b,' également accessible par ',c)"
   ]
  },
  {
   "cell_type": "markdown",
   "metadata": {},
   "source": [
    "## Types de données\n",
    "`numpy` essaye de déterminer le type de données lors de la création, mais on peut spécifier explicitement le type désiré ([documentation](http://docs.scipy.org/doc/numpy/reference/arrays.dtypes.html))."
   ]
  },
  {
   "cell_type": "code",
   "execution_count": 8,
   "metadata": {},
   "outputs": [
    {
     "name": "stdout",
     "output_type": "stream",
     "text": [
      "type de x :  int64 \n",
      "type de y :  float64 \n",
      "type de z :  int64\n"
     ]
    }
   ],
   "source": [
    "x = np.array([1, 2])  \n",
    "y = np.array([1.0, 2.0])  \n",
    "z = np.array([1, 2], dtype=np.int64)  \n",
    "\n",
    "print('type de x : ',x.dtype, '\\ntype de y : ',y.dtype, '\\ntype de z : ',z.dtype)"
   ]
  },
  {
   "cell_type": "markdown",
   "metadata": {},
   "source": [
    "### Opérations mathématiques\n",
    "opèrent point à point dans le tableau. Sont disponibles comme surchare d'opérateur ou comme fonction ([documentation](http://docs.scipy.org/doc/numpy/reference/routines.math.html))."
   ]
  },
  {
   "cell_type": "code",
   "execution_count": 9,
   "metadata": {},
   "outputs": [
    {
     "name": "stdout",
     "output_type": "stream",
     "text": [
      "\n",
      " Addition\n",
      "[[ 6.  8.]\n",
      " [10. 12.]]\n",
      "[[ 6.  8.]\n",
      " [10. 12.]]\n",
      "\n",
      " Division\n",
      "[[0.2        0.33333333]\n",
      " [0.42857143 0.5       ]]\n",
      "[[0.2        0.33333333]\n",
      " [0.42857143 0.5       ]]\n",
      "\n",
      " Racine carrée\n",
      "[[1.         1.41421356]\n",
      " [1.73205081 2.        ]]\n"
     ]
    }
   ],
   "source": [
    "x = np.array([[1,2],[3,4]], dtype=np.float64)\n",
    "y = np.array([[5,6],[7,8]], dtype=np.float64)\n",
    "\n",
    "print('\\n Addition')\n",
    "print(x + y)\n",
    "print(np.add(x, y))\n",
    "\n",
    "print('\\n Division')\n",
    "print(x / y)\n",
    "print(np.divide(x, y))\n",
    "\n",
    "print('\\n Racine carrée')\n",
    "print(np.sqrt(x))\n"
   ]
  },
  {
   "cell_type": "markdown",
   "metadata": {},
   "source": [
    "On récupère également les opérations d'algèbre linéaire"
   ]
  },
  {
   "cell_type": "code",
   "execution_count": 10,
   "metadata": {},
   "outputs": [
    {
     "name": "stdout",
     "output_type": "stream",
     "text": [
      "\n",
      " Transposée\n",
      "[[1 3]\n",
      " [2 4]]\n",
      "\n",
      " Produit scalaire\n",
      "219  ou  219\n",
      "\n",
      " Produit matrice/vecteur\n",
      "[29 67]  ou  [29 67]\n",
      "\n",
      " Produit matrice/matrice\n",
      "[[19 22]\n",
      " [43 50]]  ou \n",
      " [[19 22]\n",
      " [43 50]]\n"
     ]
    }
   ],
   "source": [
    "x = np.array([[1,2],[3,4]])\n",
    "y = np.array([[5,6],[7,8]])\n",
    "\n",
    "v = np.array([9,10])\n",
    "w = np.array([11, 12])\n",
    "\n",
    "# Transposée\n",
    "print('\\n Transposée')\n",
    "print(x.T)\n",
    "\n",
    "# Produit scalaire\n",
    "print('\\n Produit scalaire')\n",
    "print(v.dot(w), ' ou ', np.dot(v, w))\n",
    "\n",
    "#Produit matrice/vecteur\n",
    "print('\\n Produit matrice/vecteur')\n",
    "print(x.dot(v), ' ou ', np.dot(x, v))\n",
    "\n",
    "# Produit matrice/matrice\n",
    "print('\\n Produit matrice/matrice')\n",
    "print(x.dot(y), ' ou \\n', np.dot(x, y))"
   ]
  },
  {
   "cell_type": "markdown",
   "metadata": {},
   "source": [
    "D'autres fonctions sont classiquement utilisées comme par exemple `sum`:"
   ]
  },
  {
   "cell_type": "code",
   "execution_count": 11,
   "metadata": {},
   "outputs": [
    {
     "name": "stdout",
     "output_type": "stream",
     "text": [
      "Somme de tous les éléments d'un tableau :  10\n",
      "Somme de tous les éléments de chaque colonne d'un tableau :  [4 6]\n",
      "Somme de tous les éléments de chaque ligne d'un tableau :  [3 7]\n"
     ]
    }
   ],
   "source": [
    "x = np.array([[1,2],[3,4]])\n",
    "\n",
    "print(\"Somme de tous les éléments d'un tableau : \",np.sum(x))  \n",
    "print(\"Somme de tous les éléments de chaque colonne d'un tableau : \",np.sum(x, axis=0)) \n",
    "print(\"Somme de tous les éléments de chaque ligne d'un tableau : \",np.sum(x, axis=1))  "
   ]
  },
  {
   "cell_type": "markdown",
   "metadata": {},
   "source": [
    "    \n",
    "### Broadcasting \n",
    "[Le broadcasting](http://docs.scipy.org/doc/numpy/user/basics.broadcasting.html) : permet de travailler avec des tableaux de différentes tailles pour réaliser des opérations arithmétiques. \n"
   ]
  },
  {
   "cell_type": "markdown",
   "metadata": {},
   "source": [
    "Par exemple, pour ajouter un vecteur constant à chaque ligne d'une matrice "
   ]
  },
  {
   "cell_type": "code",
   "execution_count": 12,
   "metadata": {},
   "outputs": [
    {
     "name": "stdout",
     "output_type": "stream",
     "text": [
      "[[ 2  2  4]\n",
      " [ 5  5  7]\n",
      " [ 8  8 10]\n",
      " [11 11 13]]\n"
     ]
    }
   ],
   "source": [
    "x = np.array([[1,2,3], [4,5,6], [7,8,9], [10, 11, 12]])\n",
    "v = np.array([1, 0, 1])\n",
    "y = x + v  \n",
    "print(y)"
   ]
  }
 ],
 "metadata": {
  "kernelspec": {
   "display_name": "Python 3 (ipykernel)",
   "language": "python",
   "name": "python3"
  },
  "language_info": {
   "codemirror_mode": {
    "name": "ipython",
    "version": 3
   },
   "file_extension": ".py",
   "mimetype": "text/x-python",
   "name": "python",
   "nbconvert_exporter": "python",
   "pygments_lexer": "ipython3",
   "version": "3.12.3"
  }
 },
 "nbformat": 4,
 "nbformat_minor": 4
}