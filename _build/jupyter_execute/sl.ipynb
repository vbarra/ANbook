{
 "cells": [
  {
   "cell_type": "code",
   "execution_count": 1,
   "id": "4c76ec37",
   "metadata": {},
   "outputs": [
    {
     "name": "stdout",
     "output_type": "stream",
     "text": [
      "\u001b[33mDEPRECATION: Configuring installation scheme with distutils config files is deprecated and will no longer work in the near future. If you are using a Homebrew or Linuxbrew Python, please see discussion at https://github.com/Homebrew/homebrew-core/issues/76621\u001b[0m\u001b[33m\r\n",
      "\u001b[0m"
     ]
    },
    {
     "name": "stdout",
     "output_type": "stream",
     "text": [
      "Requirement already satisfied: sympy in /usr/local/lib/python3.9/site-packages (1.8)\r\n",
      "Requirement already satisfied: numpy in /usr/local/lib/python3.9/site-packages (1.22.0)\r\n",
      "Requirement already satisfied: matplotlib in /usr/local/lib/python3.9/site-packages (3.5.2)\r\n",
      "Requirement already satisfied: mpmath>=0.19 in /usr/local/lib/python3.9/site-packages (from sympy) (1.2.1)\r\n",
      "Requirement already satisfied: python-dateutil>=2.7 in /usr/local/lib/python3.9/site-packages (from matplotlib) (2.8.1)\r\n",
      "Requirement already satisfied: kiwisolver>=1.0.1 in /usr/local/lib/python3.9/site-packages (from matplotlib) (1.3.1)\r\n",
      "Requirement already satisfied: packaging>=20.0 in /usr/local/lib/python3.9/site-packages (from matplotlib) (20.9)\r\n",
      "Requirement already satisfied: fonttools>=4.22.0 in /usr/local/lib/python3.9/site-packages (from matplotlib) (4.29.1)\r\n"
     ]
    },
    {
     "name": "stdout",
     "output_type": "stream",
     "text": [
      "Requirement already satisfied: pyparsing>=2.2.1 in /usr/local/lib/python3.9/site-packages (from matplotlib) (2.4.7)\r\n",
      "Requirement already satisfied: cycler>=0.10 in /usr/local/lib/python3.9/site-packages (from matplotlib) (0.10.0)\r\n",
      "Requirement already satisfied: pillow>=6.2.0 in /usr/local/lib/python3.9/site-packages (from matplotlib) (9.1.0)\r\n",
      "Requirement already satisfied: six in /usr/local/lib/python3.9/site-packages (from cycler>=0.10->matplotlib) (1.15.0)\r\n"
     ]
    },
    {
     "name": "stdout",
     "output_type": "stream",
     "text": [
      "\u001b[33mDEPRECATION: Configuring installation scheme with distutils config files is deprecated and will no longer work in the near future. If you are using a Homebrew or Linuxbrew Python, please see discussion at https://github.com/Homebrew/homebrew-core/issues/76621\u001b[0m\u001b[33m\r\n",
      "\u001b[0m"
     ]
    },
    {
     "name": "stdout",
     "output_type": "stream",
     "text": [
      "\u001b[33mWARNING: There was an error checking the latest version of pip.\u001b[0m\u001b[33m\r\n",
      "\u001b[0m"
     ]
    }
   ],
   "source": [
    "# n'exécuter qu'une fois\n",
    "!pip3 install sympy numpy matplotlib\n"
   ]
  },
  {
   "cell_type": "markdown",
   "id": "a011bf32",
   "metadata": {},
   "source": [
    "# Systèmes d'équations linéaires\n",
    "```{index} Système linéaire\n",
    "```\n",
    "Les systèmes linéaires interviennent dans de nombreux contextes\n",
    "d'applications (physique, mécanique, sciences du vivant, chimie,\n",
    "économie,\\...).\n",
    "\n",
    "Un système linéaire s'écrit d'une manière générale sous la forme\n",
    "${\\bf A}{\\bf x}={\\bf b}$ où\n",
    "${\\bf A}\\in \\mathcal{M}_{m,n}(\\mathbb{R})$, ${\\bf x}\\in \\mathbb R^n$ et\n",
    "${\\bf b}\\in \\mathbb R^m$. ${\\bf A}$ est donnée, ${\\bf b}$ est le second\n",
    "membre également donné, et il s'agit de trouver s'il existe un (ou des)\n",
    "vecteur(s) ${\\bf x}$ satisfaisant l'équation : il faut donc résoudre le\n",
    "système linéaire.\n",
    "\n",
    "````{prf:definition} Système singulier\n",
    "```{index} Système linéaire ; singulier\n",
    "```\n",
    "On dira que le système est singulier s'il n'a pas de\n",
    "solution ou s'il a une infinité de solutions.\n",
    "````\n",
    "\n",
    "## Représentations des systèmes d'équations linéaires\n",
    "\n",
    "Considérons le système de 2 équations à 2 inconnues $\\begin{aligned}\n",
    "2x_1-x_2&=&1\\label{explsl1}\\\\\n",
    "x_1+x_2&=&5 \\label{explsl2}\\end{aligned}$\n",
    "\n",
    "\n",
    "```{margin} \n",
    "![](./images/syslin1.png)\n",
    "```\n",
    "- *Première interprétation (lecture par ligne).* Chaque équation\n",
    "représente une droite de $\\mathbb R^2$. La solution se trouve à\n",
    "l'intersection des deux droites (à moins qu'elles ne soient parallèles).\n",
    "On obtient ici le point $x_1=2$, $x_2=3$, c'est-à-dire le vecteur\n",
    "$x=\\left(\\begin{array}{c}2\\\\ 3\\end{array}\\right)$ de $\\mathbb R^2$ .\n",
    "\n",
    "\n",
    "```{margin} \n",
    "![](./images/syslin2.png)\n",
    "```\n",
    "- *Deuxième interprétation (lecture par colonne).* On écrit le\n",
    "système sous la forme vectorielle\n",
    "$x_1\\left(\\begin{array}{c}2\\\\ 1\\end{array}\\right)\n",
    "+x_2\\left(\\begin{array}{c}-1\\\\ 1\\end{array}\\right)=\n",
    "\\left(\\begin{array}{c}1\\\\ 5\\end{array}\\right).$ ou\n",
    "$x_1{\\bf u} + x_2{\\bf v} ={\\bf z}$. Il\n",
    "faut donc trouver les coefficients d'une combinaison linéaire de deux\n",
    "vecteurs qui donnent un troisième.\n",
    "\n",
    "\n",
    "Si ${\\bf A} = \\begin{pmatrix}\n",
    "2&-1\\\\1&1\n",
    "\\end{pmatrix}$, il s'agit donc de trouver si ${\\bf y} = \\begin{pmatrix}\n",
    "1\\\\5\n",
    "\\end{pmatrix}$ peut s'écrire comme combinaison linéaire des colonnes de\n",
    "${\\bf A}$, et donc de savoir si ${\\bf y}\\in {Im(\\bf A})$.\n",
    "\n",
    "## Systèmes d'équations linéaires homogènes\n",
    "\n",
    "````{prf:definition} Système homogène \n",
    "```{index} Système linéaire ; homogène\n",
    "```\n",
    "Un système d'équations linéaires est dit homogène si le\n",
    "second membre est nul.\n",
    "````\n",
    "\n",
    "Soit ${\\bf A}\\in \\mathcal{M}_{m,n}(\\mathbb{R})$ la matrice du système\n",
    "${\\bf A}{\\bf x}={\\bf b}$. Analysons l'ensemble des solutions du système\n",
    "d'équations linéaires homogène\n",
    "${\\bf A}{\\bf x}={\\bf 0}$. Il est clair que ${\\bf 0}$\n",
    "est toujours solution.\n",
    "\n",
    "````{prf:definition} Noyau d'une matrice \n",
    "```{index} Noyau\n",
    "```\n",
    "```{index} Matrice ; noyau\n",
    "```\n",
    "L'ensemble des solutions du système linéaire est un sous-espace vectoriel de $\\mathbb R^n$. Ce\n",
    "sous-espace est appelé noyau de ${\\bf A}$, noté $Ker({\\bf A})$.\n",
    "````\n",
    "\n",
    "En effet, si ${\\bf x}$ et ${\\bf y}$ sont solutions de\n",
    "${\\bf A}{\\bf x}={\\bf 0}$, ${\\bf x}+{\\bf y}$ est aussi solution, ainsi\n",
    "que $\\lambda {\\bf x}$, $\\lambda\\in\\mathbb R$.\n",
    "\n",
    "```{important}\n",
    "On s'aperçoit alors que tout sous-espace peut être représenté de deux manières\n",
    "distinctes :\n",
    "\n",
    "-   comme ensemble de combinaisons linéaires d'un nombre fini de\n",
    "    vecteurs (espace des vecteurs colonnes ou image de la matrice formée\n",
    "    par ces colonnes) :\n",
    "    ${\\bf y}=\\displaystyle\\sum_{j=1}^nx_jA_{\\bullet j}$\n",
    "\n",
    "-   comme ensemble des solutions d'un système linéaire homogène (noyau\n",
    "    de la matrice dont les lignes contiennent les coefficients des\n",
    "    équations) :\n",
    "    $(\\forall i\\in [\\![ 1,m]\\!])A_{i\\bullet}^\\top x = 0$\n",
    "```\n",
    "\n",
    "```{margin} \n",
    "![](./images/ssesp.png)\n",
    "```\n",
    "````{prf:property}  Sous-espaces supplémentaires d'une matrice \n",
    "```{index} Sous-espace ; supplémentaire\n",
    "```\n",
    "\n",
    "Soit\n",
    "${\\bf A}\\in \\mathcal{M}_{m,n}(\\mathbb{R})$. On a :\n",
    "\n",
    "$\\begin{aligned}\n",
    "&& Ker({\\bf A})\\perp Im({\\bf A^\\top} ),\\quad\\mbox{dans}\\ \\mathbb R^n\\\\\n",
    "&& Ker({\\bf A^\\top} )\\perp Im({\\bf A}),\\quad\\mbox{dans}\\ \\mathbb R^m.\\end{aligned}$\n",
    "\n",
    "et les sous-espaces sont supplémentaires.\n",
    "````\n",
    "\n",
    "\n",
    "Les dimensions respectives de ces quatre sous-espaces ne dépendent que\n",
    "du rang de ${\\bf A}$. $\\begin{aligned}\n",
    "&&dim Ker({\\bf A})=n-rang({\\bf A}),\\ dim Im({\\bf A^\\top} )=rang({\\bf A}),\\quad\\mbox{dans}\\ \\mathbb R^n\\\\\n",
    "&&dim Ker({\\bf A^\\top} )=m-rang({\\bf A}),\\ dim Im({\\bf A})=rang({\\bf A}),\\quad\\mbox{dans}\\ \\mathbb R^m\\end{aligned}$\n",
    "\n",
    "Soit la matrice $2\\times 2$ suivante\n",
    "${\\bf A}=\\left[\\begin{array}{rr}1  & -3\\\\ -2  &  6\\end{array}\\right].$\n",
    "On a $rang({\\bf A})=1$.\n",
    "\n",
    "-   L'espace colonnes ou $Im({\\bf A})$ contient tous les multiples du\n",
    "    vecteur $(1\\ -2)^\\top$.\n",
    "\n",
    "-   Le noyau de ${\\bf A}$ contient les multiples de $(3\\ 1)^\\top$.\n",
    "\n",
    "-   L'espace lignes ou $Im({\\bf A^\\top} )$ contient les multiples de\n",
    "    $(1\\ -3)^\\top$.\n",
    "\n",
    "-   Le noyau de ${\\bf A^\\top}$ contient les multiples de $(2\\ 1)^\\top$.\n",
    "\n",
    "Ces quatre sous-espaces sont des droites de $\\mathbb R^2$. Si on change la\n",
    "deuxième colonne en $\\begin{pmatrix}-3& 7\\end{pmatrix}^\\top$, les\n",
    "colonnes sont alors linéairement indépendantes et $rang({\\bf A})=2$.\n",
    "Dans ce cas $Im(A)=Im({\\bf A^\\top} )=\\mathbb R^2$ et\n",
    "$Ker({\\bf A})=Ker({\\bf A^\\top} )=\\{0\\}$.\n",
    "\n",
    "## Systèmes d'équations linéaires\n",
    "\n",
    "Terminons par le problème général de la résolution d'un système linéaire\n",
    "${\\bf A}{\\bf x}={\\bf b}$ où ${\\bf A}\\in \\mathcal{M}_{m,n}(\\mathbb{R})$,\n",
    "${\\bf x}\\in \\mathbb R^n$ et ${\\bf b}\\in \\mathbb R^m$\n",
    "\n",
    "On cherche donc à décrire l'ensemble des ${\\bf x}\\in\\mathbb R^n$ solutions\n",
    "du système. Avant de nous poser le problème de l'existence d'une\n",
    "solution, montrons que l'ensemble des solutions, quand il n'est pas\n",
    "vide, est un objet de $\\mathbb R^n$ d'aspect familier. Soit ${\\bf x^0}$ une\n",
    "solution particulière du système\n",
    "${\\bf A}{\\bf x}={\\bf b}$. Alors, toute solution du système peut s'écrire\n",
    "sous la forme ${\\bf x}={\\bf x^0}+{\\bf y}$, ${\\bf y}\\in Ker({\\bf A})$. En\n",
    "effet comme ${\\bf x}$ et ${\\bf x^0}$ sont deux solutions du système, on\n",
    "a ${\\bf A}({\\bf x}-{\\bf x^0})={\\bf 0}$. Donc, l'ensemble des solutions\n",
    "s'obtient par une translation du sous--espace noyau de ${\\bf A}$. Il en\n",
    "a donc la forme géométrique et quand ${\\bf y}$ varie, on construit une\n",
    "famille d'objets linéaires parallèles entre eux. \n",
    "```{margin} \n",
    "![](./images/variete.png)\n",
    "```\n",
    "On les\n",
    "appelle des *variétés linéaires* ou *sous-espaces affines*. Si une\n",
    "variété linéaire passe par l'origine, c'est un sous-espace vectoriel.\n",
    "\n",
    "Bien que la dimension ait été définie pour décrire la génération d'un\n",
    "sous--espace vectoriel, on l'emploie pour une variété linéaire par\n",
    "analogie pour exprimer le nombre de degrés de liberté. Si\n",
    "$V=\\{{\\bf x}\\in\\mathbb R^n\\mid {\\bf A}{\\bf x}={\\bf y}\\}$ est une variété\n",
    "linéaire (donc que l'ensemble des solutions du système est non vide)\n",
    "telle que $V=\\{{\\bf x^0}\\}+Ker({\\bf A})$, on définit sa dimension comme\n",
    "$\\dim V=dim Ker({\\bf A})=n-rang({\\bf A}).$ Si un système homogène a\n",
    "toujours une solution (l'origine), ce n'est pas vrai pour le cas\n",
    "général.\n",
    "\n",
    "```{margin} \n",
    "![](./images/incomp.png)\n",
    "```\n",
    "```` {prf:theorem} Existence d'une solution \n",
    "Le système linéaire\n",
    "${\\bf A}{\\bf x}={\\bf b}$ possède au moins une solution si, et seulement\n",
    "si, ${\\bf b}\\in Im({\\bf A})$.\\\n",
    "Dans le cas contraire, on dit que le système est incompatible.\n",
    "````\n",
    "\n",
    "\n",
    "On remarque que cette condition s'exprime dans l'espace des colonnes\n",
    "$\\mathbb R^m$. On sait déjà que le sous--espace $Im({\\bf A})$ est de\n",
    "dimension $rang({\\bf A})$. On en déduit que si $rang({\\bf A})<m$, la\n",
    "probabilité pour que ${\\bf b}$ soit dans $Im({\\bf A})$ est nulle et le\n",
    "système sera presque toujours sans solution.\n",
    "\n",
    "Par contre si $rang({\\bf A})=m$, on dit que ${\\bf A}$ est de rang\n",
    "plein, le système a donc toujours des solutions. Si de plus, $m=n$, le\n",
    "noyau de ${\\bf A}$ est de dimension nulle et le système a une solution\n",
    "unique. Cette solution est l'image de ${\\bf b}$ par la transformation\n",
    "inverse de ${\\bf A}$, *i.e.* \n",
    "${\\bf x}={\\bf A^{-1}}{\\bf b}.$ \n",
    "Donc\n",
    "seules les matrices carrées de rang plein sont inversibles. On dit aussi\n",
    "que ces transformations sont *régulières*. Les matrices carrées non\n",
    "inversibles sont associées aux transformations *singulières* de\n",
    "$\\mathbb R^n$.\n",
    "\n",
    "```{prf:remark}\n",
    ":class: dropdown\n",
    "Une condition équivalente, nécessaire et suffisante, pour que le système\n",
    "ait une solution est :\n",
    "$rang({\\bf A})=rang\\left([{\\bf A}\\,|\\,{\\bf b}]\\right),\\label{SL_CNS1}$\n",
    "où $[{\\bf A}\\,|\\,{\\bf b}] \\in \\mathcal{M}_{m,n+1}(\\mathbb{R})$ est la\n",
    "matrice obtenue en rajoutant la colonne ${\\bf b}$ à ${\\bf A}$. On verra\n",
    "de toute façon qu'il est rare que l'on ait à calculer explicitement\n",
    "l'inverse d'une matrice et que la résolution itérative d'un système\n",
    "linéaire permet de tester la condition\n",
    "précédente\n",
    "comme elle permet de calculer le rang de ${\\bf A}$.\n",
    "```\n",
    "\n",
    "## Condition d'une matrice\n",
    "Etudions les variations de la solution d'un système d'équations linéaires quand le second membre subit une perturbation : \n",
    "\n",
    "\n",
    "${\\bf Ax}={\\bf b} \\Rightarrow {\\bf A(x+\\bf \\delta x)}={\\bf b+\\bf \\delta\\bf b}\n",
    "$\n",
    "\n",
    "Si $\\bf A$ est inversble, on peut donc écrire $\\bf \\delta x={\\bf A^{-1}\\bf \\delta \\bf  b}$ d'où les relations écrites avec des normes subordonnées appropriées :\n",
    "\n",
    "$\\|\\bf\\delta \\bf x\\|\\leq\\|\\bf A^{-1}\\|\\|\\bf \\delta \\bf b\\|$\n",
    "\n",
    "$\\|\\bf A\\|\\|\\bf x\\|\\geq\\|\\bf b\\|$\n",
    "\n",
    "et on peut écrire l'estimation de l'erreur relative en norme sur $\\bf x$ en fonction de la perturbation relative sur ${\\bf b}$ :\n",
    "\n",
    "$\\frac{\\|\\bf\\delta \\bf x\\|}{\\|\\bf x}\\|\\leq \\|\\bf A\\|\\|\\bf A^{-1}\\|\\frac{\\|\\bf \\delta \\bf b\\|}{\\|\\bf b\\|}$\n",
    "\n",
    "````{prf:definition} Condition d'une matrice\n",
    "La quantité $\\|{\\bf A}\\|\\|{\\bf A^{-1}}\\|$ est appelée la condition de la matrice est notée $\\sigma({\\bf A})$.\n",
    "````\n",
    "```{index} Condition\n",
    "```\n",
    "\n",
    "On peut démontrer de même que si ${\\bf A}$ est sujette à une erreur ${\\bf \\delta \\bf A}$ alors \n",
    "\n",
    "$\n",
    "{\\bf Ax}={\\bf b} \\Rightarrow ({\\bf A + {\\bf \\delta {\\bf A}})(x+\\bf \\delta x)}={\\bf b}\n",
    "$\n",
    "et \n",
    "\n",
    "$\\frac{\\|{\\bf\\delta \\bf x}\\|}{\\|{\\bf x}+{\\bf \\delta \\bf x}\\|}\\leq \\sigma({\\bf A})\\frac{\\|{\\bf \\delta {\\bf A}}\\|}{\\|{\\bf A}\\|}$\n",
    "\n",
    "et on peut même majorer l'erreur relative dans le cas où l'on commet à la fois une erreur sur ${\\bf A}$ et une erreur sur ${\\bf b}$ : \n",
    "\n",
    "````{prf:theorem} Majoration de l'erreur dans le cas  $({ A + { \\delta { A}})( x+\\delta x)}={ b+\\delta b}$\n",
    "\n",
    "Soient ${\\bf A}\\in\\mathcal{M}_n(\\mathbb R)$ inversible, ${\\bf b}\\in(\\mathbb R^n)^*$, ${\\bf \\delta \\bf  A}\\in\\mathcal{M}_n(\\mathbb R)$ et ${\\bf \\delta \\bf b}\\in\\mathbb R^n$. On suppose que $\\|\\bf \\delta \\bf A\\|<\\frac{1}{\\|{\\bf A^{-1}}\\|}$. \n",
    "\n",
    "Alors la matrice $(\\bf A + {\\bf \\delta {\\bf A}})$ est inversible et si ${\\bf x}$ est solution de ${\\bf Ax} = {\\bf b}$ et $(\\bf x+\\bf \\delta x)$ est solution de $({\\bf A + {\\bf \\delta {\\bf A}})(\\bf x+\\bf \\delta x)}={\\bf b+\\bf \\delta b}$, alors \n",
    "\n",
    "$\\frac{\\|{\\bf \\delta \\bf x}\\|}{\\|{\\bf x}\\|}\\leq\\frac{\\sigma(\\bf A)}{1-\\|{\\bf A^{-1}}\\|\\|{\\bf \\delta \\bf A}}\\|\\left (\\frac{\\|{\\bf \\delta \\bf b}\\|}{\\|{\\bf b}\\|} +\\frac{\\|{\\bf \\delta {\\bf A}}\\|}{\\|{\\bf A}\\|}\\right )$\n",
    "````\n",
    "\n",
    "\n",
    "````{prf:property} \n",
    "Pour toutes matrices ${\\bf A}$, ${\\bf B}$ inversibles : \n",
    "\n",
    "1. $\\sigma(\\mathbb I)\\geq 1$ et $\\sigma(\\mathbb I)= 1$ si et seulement si la norme de calcul de la condition est subordonnée.\n",
    "2. $\\sigma({\\bf A})\\geq 1$. Plus la condition est grande, plus la matrice est dite mal conditionnée, i.e. plus le système ${\\bf Ax}={\\bf b}$ est instable.\n",
    "3. $\\sigma({\\bf A})= \\sigma({\\bf A^{-1}})$.\n",
    "4. $(\\forall \\lambda\\in \\mathbb R^*)\\ \\sigma({\\lambda.\\bf A})= \\sigma({\\bf A})$.\n",
    "5. $\\sigma({\\bf AB})\\leq \\sigma ({\\bf A})\\sigma( {\\bf B})$.\n",
    "6. Si ${\\bf H}$ est une matrice orthogonale $\\sigma_2({\\bf H})=1$.\n",
    "\n",
    "````\n",
    "\n",
    "```{prf:example} Premier exemple\n",
    "\n",
    "Soit \n",
    "    ${\\bf A}=\\begin{pmatrix}\n",
    "    10 &7& 8& 7\\\\\n",
    "    7& 5& 6 & 5\\\\\n",
    "    8 & 6 & 10 & 9 \\\\\n",
    "    7& 5 & 9 & 10\n",
    "    \\end{pmatrix}$\n",
    "et \n",
    "    $\\textcolor{red}{{\\bf \\delta A} = \\begin{pmatrix}\n",
    "        0 &0& \\frac{1}{10}& \\frac{1}{5}\\\\\n",
    "        \\frac{2}{25}& \\frac{1}{25}& 0 & 0\\\\\n",
    "        0 & -\\frac{1}{50} & -\\frac{11}{100} & 0 \\\\\n",
    "        -\\frac{1}{100}& -\\frac{1}{100} & 0 & -\\frac{1}{50} \n",
    "        \\end{pmatrix}}\n",
    "    $\n",
    "\n",
    "avec \n",
    "    ${\\bf b}=\\begin{pmatrix} 32\\\\23\\\\33\\\\31\\end{pmatrix} \\text{ et } \\textcolor{red}{{\\bf \\delta b}=\\begin{pmatrix} 0.01\\\\-0.01\\\\0.01\\\\-0.01\\end{pmatrix}}$\n",
    "\n",
    "Alors :\n",
    "\n",
    "- ${\\bf Ax}={\\bf b}$ amène à la solution\n",
    "\n",
    "$\\Rightarrow {\\bf x}=\\begin{pmatrix} 1\\\\1\\\\1\\\\1\\end{pmatrix}$\n",
    "- ${\\bf Ax'}={\\bf b +\\textcolor{red}{{\\bf \\delta b}}}$ amène à la solution\n",
    "\n",
    "$\\Rightarrow {\\bf x'}=\\begin{pmatrix} 1.82\\\\-0.36\\\\1.35\\\\-0.79\\end{pmatrix}$\n",
    "\n",
    "- ${\\bf (A+\\textcolor{red}{{\\bf \\delta A})}x''}={\\bf b} $ donne la solution \n",
    "\n",
    "$\\Rightarrow {\\bf x''}=\\begin{pmatrix} -1.91\\\\5.63\\\\0.078\\\\1.54\\end{pmatrix}$ \n",
    "\n",
    "- ${\\bf (A+\\textcolor{red}{{\\bf \\delta A})}x'''}={\\bf b +\\textcolor{red}{{\\bf \\delta b}}} $ donne la solution \n",
    "\n",
    "$\\Rightarrow {\\bf x'''}=\\begin{pmatrix} -1.83\\\\5.50\\\\0.065\\\\1.57\\end{pmatrix}$ \n",
    "\n",
    "\n",
    "$\\Rightarrow$ Une petite variation de ${\\bf b}$ et/ou ${\\bf A}$  entraîne une grande variation de ${\\bf x}$.\n",
    "\n",
    "```"
   ]
  },
  {
   "cell_type": "code",
   "execution_count": 2,
   "id": "3bd876ba",
   "metadata": {},
   "outputs": [],
   "source": [
    "from sympy import init_printing, Matrix\n",
    "from sympy.solvers.solveset import linsolve\n",
    "import numpy as np\n",
    "import matplotlib.pyplot as plt\n",
    "\n",
    "A = Matrix([[10, 7, 8, 7], [7, 5, 6, 5], [8, 6, 10, 9], [7, 5, 9, 10]])\n",
    "deltaA = Matrix([[0, 0, 0.1, 0.2], [2/25., 1/25., 0, 0], [0, -1/50., -11/100., 0], [-0.01, -0.1, 9, -1/50.]])\n",
    "b_1 = Matrix([32, 23, 33, 31])\n",
    "b_2 = Matrix([32.01, 22.99, 33.01, 30.99])"
   ]
  },
  {
   "cell_type": "code",
   "execution_count": 3,
   "id": "16d11595",
   "metadata": {},
   "outputs": [
    {
     "data": {
      "text/latex": [
       "$\\displaystyle \\left\\{\\left( 1, \\  1, \\  1, \\  1\\right)\\right\\}$"
      ],
      "text/plain": [
       "FiniteSet((1, 1, 1, 1))"
      ]
     },
     "execution_count": 3,
     "metadata": {},
     "output_type": "execute_result"
    }
   ],
   "source": [
    "x_1 = linsolve([A,b_1])\n",
    "x_1"
   ]
  },
  {
   "cell_type": "code",
   "execution_count": 4,
   "id": "66b10087",
   "metadata": {},
   "outputs": [
    {
     "data": {
      "text/latex": [
       "$\\displaystyle \\left\\{\\left( 1.82000000000001, \\  -0.360000000000021, \\  1.35, \\  0.789999999999998\\right)\\right\\}$"
      ],
      "text/plain": [
       "FiniteSet((1.82000000000001, -0.360000000000021, 1.35, 0.789999999999998))"
      ]
     },
     "execution_count": 4,
     "metadata": {},
     "output_type": "execute_result"
    }
   ],
   "source": [
    "x_2 = linsolve([A,b_2])\n",
    "x_2"
   ]
  },
  {
   "cell_type": "code",
   "execution_count": 5,
   "id": "29244277",
   "metadata": {},
   "outputs": [
    {
     "data": {
      "text/latex": [
       "$\\displaystyle \\left\\{\\left( -1.91734708097775, \\  5.63520081425947, \\  0.0789600378770681, \\  1.53992900043846\\right)\\right\\}$"
      ],
      "text/plain": [
       "FiniteSet((-1.91734708097775, 5.63520081425947, 0.0789600378770681, 1.53992900043846))"
      ]
     },
     "execution_count": 5,
     "metadata": {},
     "output_type": "execute_result"
    }
   ],
   "source": [
    "x_3 = linsolve([A+deltaA,b_1])\n",
    "x_3"
   ]
  },
  {
   "cell_type": "code",
   "execution_count": 6,
   "id": "931c0e75",
   "metadata": {},
   "outputs": [
    {
     "data": {
      "text/latex": [
       "$\\displaystyle \\left\\{\\left( -1.83740079314526, \\  5.5073371018571, \\  0.0658714766362358, \\  1.56931795245825\\right)\\right\\}$"
      ],
      "text/plain": [
       "FiniteSet((-1.83740079314526, 5.5073371018571, 0.0658714766362358, 1.56931795245825))"
      ]
     },
     "execution_count": 6,
     "metadata": {},
     "output_type": "execute_result"
    }
   ],
   "source": [
    "x_4 = linsolve([A+deltaA,b_2])\n",
    "x_4"
   ]
  },
  {
   "cell_type": "markdown",
   "id": "c687f2fd",
   "metadata": {},
   "source": [
    "La condition de la matrice peut être facilement calculée"
   ]
  },
  {
   "cell_type": "code",
   "execution_count": 7,
   "id": "283cc807",
   "metadata": {},
   "outputs": [
    {
     "name": "stdout",
     "output_type": "stream",
     "text": [
      "Condition de la  matrice : 2984.0927016757555\n"
     ]
    }
   ],
   "source": [
    "print('Condition de la  matrice :', np.linalg.cond(np.matrix(A, dtype='float'),p=2))"
   ]
  },
  {
   "cell_type": "markdown",
   "id": "62bf849d",
   "metadata": {},
   "source": [
    "```{prf:example} Deuxième exemple\n",
    "\n",
    "Soient \n",
    "    ${\\bf A}=\\begin{pmatrix}\n",
    "        0.780 &0.563\\\\\n",
    "        0.913& 0.659\n",
    "        \\end{pmatrix}\n",
    "        \\text{ et } {\\bf b} = \\begin{pmatrix} 0.217\\\\0.254\\end{pmatrix}\n",
    "        $ \n",
    "\n",
    "\n",
    "La solution exacte du système ${\\bf Ax}={\\bf b}$ est ${\\bf x}=\\begin{pmatrix} 1\\\\-1\\end{pmatrix}$\n",
    "\n",
    "La solution approchée ${\\bf x_1}=\\begin{pmatrix} 0.999\\\\-1\\end{pmatrix}$ fournit le résidu ${\\bf Ax_1-b}=\\begin{pmatrix} -7.8.10^{-4}\\\\-9.1.10^{-4}\\end{pmatrix}$\n",
    "\n",
    "Le vecteur ${\\bf x_2}=\\begin{pmatrix} 0.341\\\\-0.087\\end{pmatrix}$ fournit le résidu ${\\bf Ax_2-b}=\\begin{pmatrix} -10^{-6}\\\\0\\end{pmatrix}$\n",
    "\n",
    "\n",
    "$\\Rightarrow$ Un vecteur ${\\bf x_2}$ \"loin\" de la solution théorique fournit un résidu plus faible.\n",
    "\n",
    "\n",
    "```"
   ]
  },
  {
   "cell_type": "code",
   "execution_count": 8,
   "id": "c81c8549",
   "metadata": {},
   "outputs": [],
   "source": [
    "from sympy import init_printing, Matrix\n",
    "from sympy.solvers.solveset import linsolve\n",
    "import numpy as np\n",
    "\n",
    "%matplotlib inline\n",
    "import matplotlib.pyplot as plt\n",
    "init_printing(use_latex = 'mathjax')\n",
    "\n",
    "A = Matrix([[0.78,0.563], [0.913,0.659]])\n",
    "b = Matrix([0.217,0.254])"
   ]
  },
  {
   "cell_type": "markdown",
   "id": "21cbcace",
   "metadata": {},
   "source": [
    "La solution exacte est $(1,-1)^\\top$.\n",
    "\n",
    "La solution approchée $(0.999,-1)^\\top$ fournit un résidu"
   ]
  },
  {
   "cell_type": "code",
   "execution_count": 9,
   "id": "14ae9349",
   "metadata": {},
   "outputs": [
    {
     "data": {
      "text/latex": [
       "$\\displaystyle \\left[\\begin{matrix}-0.00078\\\\-0.000913\\end{matrix}\\right]$"
      ],
      "text/plain": [
       "⎡-0.00078 ⎤\n",
       "⎢         ⎥\n",
       "⎣-0.000913⎦"
      ]
     },
     "execution_count": 9,
     "metadata": {},
     "output_type": "execute_result"
    }
   ],
   "source": [
    "x_app = Matrix([0.999,-1])\n",
    "r = A*x_app -b\n",
    "r.evalf(4)"
   ]
  },
  {
   "cell_type": "code",
   "execution_count": 10,
   "id": "c80703b9",
   "metadata": {},
   "outputs": [
    {
     "name": "stdout",
     "output_type": "stream",
     "text": [
      "norme :  0.001201\n"
     ]
    }
   ],
   "source": [
    "print('norme : ',r.norm().evalf(4))"
   ]
  },
  {
   "cell_type": "markdown",
   "id": "a6e7137e",
   "metadata": {},
   "source": [
    "Le vecteur $(0.341,-0.087)^\\top$, éloigné de la solution théorique, fournit lui un résidu"
   ]
  },
  {
   "cell_type": "code",
   "execution_count": 11,
   "id": "717fb94e",
   "metadata": {},
   "outputs": [
    {
     "data": {
      "text/latex": [
       "$\\displaystyle \\left[\\begin{matrix}-1.0 \\cdot 10^{-6}\\\\0\\end{matrix}\\right]$"
      ],
      "text/plain": [
       "⎡-1.0e-6⎤\n",
       "⎢       ⎥\n",
       "⎣   0   ⎦"
      ]
     },
     "execution_count": 11,
     "metadata": {},
     "output_type": "execute_result"
    }
   ],
   "source": [
    "x_app2 = Matrix([0.341,-0.087])\n",
    "r2 = A*x_app2 -b\n",
    "r2.evalf(4)"
   ]
  },
  {
   "cell_type": "code",
   "execution_count": 12,
   "id": "765f8dd5",
   "metadata": {},
   "outputs": [
    {
     "name": "stdout",
     "output_type": "stream",
     "text": [
      "norme :  1.000e-6\n"
     ]
    }
   ],
   "source": [
    "print('norme : ',r2.norm().evalf(4))"
   ]
  },
  {
   "cell_type": "code",
   "execution_count": 13,
   "id": "3e1abb46",
   "metadata": {},
   "outputs": [
    {
     "data": {
      "image/png": "[encoded data removed]",
      "text/plain": [
       "<Figure size 640x480 with 1 Axes>"
      ]
     },
     "metadata": {
      "filenames": {
       "image/png": "/Users/vibarra/Documents/Cours/FISA/envbook/ANbook/_build/jupyter_execute/sl_17_0.png"
      }
     },
     "output_type": "display_data"
    }
   ],
   "source": [
    "def plot_vector2d(vector2d, origin=[0, 0], **options):\n",
    "    return plt.arrow(origin[0], origin[1], vector2d[0], vector2d[1],head_width=0.1, head_length=0.05, length_includes_head=True,**options)\n",
    "\n",
    "x = np.array([1,-1])\n",
    "x_app1 = np.array([0.999, -1])\n",
    "x_app2 = np.array([0.341, -0.087])\n",
    "b = np.array([0.217, 0.254])\n",
    "plot_vector2d(x, color=\"r\")\n",
    "plt.text(1.1, -1.1, \"$x$\", color=\"r\", fontsize=18)\n",
    "plot_vector2d(x_app1, color=\"b\")\n",
    "plt.text(1.1, -0.9, \"$x_{app1}$\", color=\"b\", fontsize=18)\n",
    "plot_vector2d(x_app2, color=\"g\")\n",
    "plt.text(0.35, -0.1, \"$x_{app2}$\", color=\"g\", fontsize=18)\n",
    "plot_vector2d(b, color=\"m\")\n",
    "plt.text(0.2, 0.3, \"$b$\", color=\"m\", fontsize=18)\n",
    "plt.axis([-1.2, 1.2, -1.2, 1.2])\n",
    "plt.grid()\n",
    "plt.tight_layout()"
   ]
  },
  {
   "cell_type": "markdown",
   "id": "c252f662",
   "metadata": {},
   "source": [
    "La condition de la matrice est"
   ]
  },
  {
   "cell_type": "code",
   "execution_count": 14,
   "id": "95eddd66",
   "metadata": {},
   "outputs": [
    {
     "name": "stdout",
     "output_type": "stream",
     "text": [
      "Condition de la matrice : 2193218.99965077\n"
     ]
    }
   ],
   "source": [
    "print('Condition de la matrice :', np.linalg.cond(np.matrix(A, dtype='float'),p=2))"
   ]
  }
 ],
 "metadata": {
  "jupytext": {
   "formats": "md:myst",
   "text_representation": {
    "extension": ".md",
    "format_name": "myst"
   }
  },
  "kernelspec": {
   "display_name": "Python 3",
   "language": "python",
   "name": "python3"
  },
  "language_info": {
   "codemirror_mode": {
    "name": "ipython",
    "version": 3
   },
   "file_extension": ".py",
   "mimetype": "text/x-python",
   "name": "python",
   "nbconvert_exporter": "python",
   "pygments_lexer": "ipython3",
   "version": "3.9.13"
  },
  "source_map": [
   14,
   18,
   343,
   356,
   361,
   366,
   371,
   374,
   378,
   380,
   407,
   418,
   424,
   429,
   431,
   435,
   440,
   444,
   463,
   467
  ]
 },
 "nbformat": 4,
 "nbformat_minor": 5
}