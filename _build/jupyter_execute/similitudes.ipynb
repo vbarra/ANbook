{
 "cells": [
  {
   "cell_type": "markdown",
   "id": "3aad2ec4",
   "metadata": {},
   "source": [
    "# Similitudes\n",
    "\n",
    "L'objectif est encore une fois de transformer une matrice par des transformations simples en une matrice dont on connaît les valeurs propres, c'est-à-dire, une matrice triangulaire ou diagonale. Les transformations qui maintiennent le spectre d'une matrice sont des similitudes.\n",
    "\n",
    "\n",
    "```{prf:definition} Similitude\n",
    "Deux matrices carrées $A$ et $B$ sont dites *semblables* \n",
    "s'il existe une matrice $S$ non singulière telle que \n",
    "\n",
    "$B=S^{-1}AS$\n",
    "```\n",
    "```{index} Matrice;semblable\n",
    "```\n",
    "\n",
    "La transformation de $A$ vers $B$ est une *similitude*. En l'écrivant sous la forme $AS=SB$, on retrouve une généralisation de la définition des valeurs propres et des vecteurs propres. On a d'ailleurs le résultat fondamental :\n",
    "\n",
    "```{prf:property}\n",
    "Deux matrices semblables ont les mêmes valeurs propres\n",
    "```\n",
    "En effet, soit $x$ un vecteur propre de $A$ associé à la valeur propre $\\lambda$. On a donc $Ax=\\lambda x$, qui s'écrit $SBS^{-1}x=\\lambda x$, ce qui veut dire que $\\lambda$ est valeur propre de $B$ associé au vecteur propre $S^{-1}x$."
   ]
  },
  {
   "cell_type": "code",
   "execution_count": 1,
   "id": "9185bd87",
   "metadata": {},
   "outputs": [],
   "source": [
    "from sympy import Matrix\n",
    "A = Matrix([[2, 1], [1, 2]])\n",
    "S = Matrix([[1, 4], [0, 1]])"
   ]
  },
  {
   "cell_type": "markdown",
   "id": "d3c86fe5",
   "metadata": {},
   "source": [
    "Pour $\\bf S$ inversible, on construit donc $\\bf{B=S^{-1}AS}$ semblable."
   ]
  },
  {
   "cell_type": "code",
   "execution_count": 2,
   "id": "8d52f3f7",
   "metadata": {},
   "outputs": [],
   "source": [
    "B = S.inv() * A * S"
   ]
  },
  {
   "cell_type": "markdown",
   "id": "a3f90c31",
   "metadata": {},
   "source": [
    "On vérifie que $\\bf A$ et $\\bf B$ ont le même spectre"
   ]
  },
  {
   "cell_type": "code",
   "execution_count": 3,
   "id": "cda57edc",
   "metadata": {},
   "outputs": [
    {
     "data": {
      "text/plain": [
       "({3: 1, 1: 1}, {3: 1, 1: 1})"
      ]
     },
     "execution_count": 3,
     "metadata": {},
     "output_type": "execute_result"
    }
   ],
   "source": [
    "A.eigenvals(), B.eigenvals()"
   ]
  },
  {
   "cell_type": "markdown",
   "id": "0f4a98e3",
   "metadata": {},
   "source": [
    "Les valeurs propres sont donc 1 et 3, de multiplicité 1 chacune.\n",
    "\n",
    "En revanche, les vecteurs propres sont différents"
   ]
  },
  {
   "cell_type": "code",
   "execution_count": 4,
   "id": "28c4e99f",
   "metadata": {},
   "outputs": [
    {
     "data": {
      "text/latex": [
       "$\\displaystyle \\left[\\begin{matrix}1 & 1 & \\left[ \\left[\\begin{matrix}-5\\\\1\\end{matrix}\\right]\\right]\\\\3 & 1 & \\left[ \\left[\\begin{matrix}-3\\\\1\\end{matrix}\\right]\\right]\\end{matrix}\\right]$"
      ],
      "text/plain": [
       "Matrix([\n",
       "[1, 1, [Matrix([\n",
       "[-5],\n",
       "[ 1]])]],\n",
       "[3, 1, [Matrix([\n",
       "[-3],\n",
       "[ 1]])]]])"
      ]
     },
     "execution_count": 4,
     "metadata": {},
     "output_type": "execute_result"
    }
   ],
   "source": [
    "Matrix(A.eigenvects())\n",
    "Matrix(B.eigenvects())"
   ]
  },
  {
   "cell_type": "markdown",
   "id": "a5faa6b9",
   "metadata": {},
   "source": [
    "L'intérêt de ces transformations est double : \n",
    "- les valeurs propres sont inchangées\n",
    "- en supposant les vecteurs propres linéairement indépendants, la similitude associée à la matrice $X$ dont les colonnes sont les vecteurs propres transforme $A$ en une matrice diagonale dont les éléments diagonaux sont les valeurs propres de $A$ : $X^{-1}AX = \\Lambda$.\n",
    "\n",
    "\n",
    "Montrons maintenant sur un exemple que deux matrices semblables représentent la même transformation linéaire sur deux bases différentes : soit $P$ la matrice de projection dans $\\mathbb{R}^2$ sur la droite $L$ d'angle $\\theta$ : \n",
    "$P =\n",
    "\\left[\n",
    "\\begin{array}{cc}\n",
    "\\cos^2(\\theta) & \\cos(\\theta)\\sin(\\theta)\\\\\n",
    "\\cos(\\theta)\\sin(\\theta)& \\sin^2(\\theta)\n",
    "\\end{array}\n",
    "\\right]\n",
    "=uu^\\top \\quad\\mbox{avec}\\quad u=\\begin{pmatrix}\\cos(\\theta)\\\\ \\sin(\\theta)\\end{pmatrix}\n",
    "$\n",
    "\n",
    "Si on fait maintenant tourner la base canonique orthonormée d'un angle $\\theta$, la projection devient maintenant une projection sur l'axe horizontal et s'écrit\n",
    "\n",
    "$Q =\n",
    "\\left[\n",
    "\\begin{array}{cc}\n",
    "1&0\\\\\n",
    "0&0\\\\\n",
    "\\end{array}\n",
    "\\right]\n",
    "$\n",
    "\n",
    "Pour passer de $P$ à $Q$, on utilise la matrice de rotation d'angle $\\theta$ \n",
    "\n",
    "$R =\n",
    "\\left[\n",
    "\\begin{array}{cc}\n",
    "\\cos(\\theta) & -\\sin(\\theta)\\\\\n",
    "\\sin(\\theta)& \\cos(\\theta)\n",
    "\\end{array}\n",
    "\\right]\n",
    "$\n",
    "\n",
    "Le changement de base se traduit par : si $x$ est le vecteur de coordonnées dans la base de départ, et $u$ le vecteur de coordonnées dans la base d'arrivée, on a \n",
    "$=Ru$.\n",
    "\n",
    "Soit $y$ la projection de $x$ sur $L$ dans la base de départ, et $v$ ses coordonnées dans la base d'arrivée. Alors \n",
    "\n",
    "$\\begin{align*}\n",
    "y &= Px\\\\\n",
    "Rv&= PRu\\\\ \\Rightarrow v&=R^{-1}PRu=Qu\n",
    "\\end{align*}$\n",
    "\n",
    "et donc $Q=R^{-1}PR$ et $P$ et $Q$ ont les mêmes valeurs propres. Comme $Q$ est diagonale, on retrouve ici le résultat connu : toute matrice de projection sur une droite dans $\\mathbb{R}^2$ a pour valeurs propres 1 et 0, et pour vecteurs propres associés les colonnes de la matrice de rotation $R$, c'est-à-dire les directions de $L$ et $L^{\\bot}$ respectivement."
   ]
  }
 ],
 "metadata": {
  "jupytext": {
   "formats": "md:myst",
   "text_representation": {
    "extension": ".md",
    "format_name": "myst"
   }
  },
  "kernelspec": {
   "display_name": "Python 3",
   "language": "python",
   "name": "python3"
  },
  "language_info": {
   "codemirror_mode": {
    "name": "ipython",
    "version": 3
   },
   "file_extension": ".py",
   "mimetype": "text/x-python",
   "name": "python",
   "nbconvert_exporter": "python",
   "pygments_lexer": "ipython3",
   "version": "3.9.13"
  },
  "source_map": [
   11,
   35,
   39,
   42,
   44,
   47,
   49,
   55,
   58
  ]
 },
 "nbformat": 4,
 "nbformat_minor": 5
}