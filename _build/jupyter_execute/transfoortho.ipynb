{
 "cells": [
  {
   "cell_type": "code",
   "execution_count": 1,
   "id": "579e968b",
   "metadata": {},
   "outputs": [],
   "source": [
    "try:\n",
    "    import sympy \n",
    "except ModuleNotFoundError: \n",
    "    !pip3 install --quiet sympy\n",
    "    import sympy\n",
    "import numpy, matplotlib"
   ]
  },
  {
   "cell_type": "markdown",
   "id": "5d962279",
   "metadata": {},
   "source": [
    "# Transformations orthogonales\n",
    "## Matrices orthogonales\n",
    "````{prf:definition} Matrice orthogonale\n",
    "Une matrice carrée ${\\bf H}$ est dite {orthogonale}\n",
    "si et seulement si ${\\bf H^\\top}{\\bf H}={\\bf H}{\\bf H^\\top} = \\mathbb I$\n",
    "````\n",
    "```{index} Matrice;orthogonale\n",
    "```\n",
    "```{index} Orthogonale;matrice\n",
    "```\n",
    "\n",
    "Une matrice orthogonale est donc une matrice carrée dont les colonnes sont orthonormées. Les matrices de rotation, de symétrie, de permutation et l'identité sont des exemples de matrices orthogonales.\n",
    "\n",
    "Une matrice orthogonale ${\\bf H}$ est naturellement inversible par définition, et l'inverse est ${\\bf H^{-1}}={\\bf H^\\top} $.\n",
    "\n",
    "````{prf:property} Propriété fondamentale\n",
    "Les transformations orthogonales\n",
    "sont des isométries, les normes (euclidiennes), les produits scalaires et les angles sont conservés : \n",
    "\n",
    "$({\\bf H} \\textrm{ orthogonale}) \\Leftrightarrow (\\forall {\\bf x}\\in \\mathbb R^n)\\\\|{\\bf Hx}\\|=\\|{\\bf x}\\|$\n",
    "````\n",
    "```{index} Transformation;orthogonale\n",
    "```\n",
    "```{index} Orthogonale;transformation\n",
    "```\n",
    "\n",
    "En effet, $\\|{\\bf Hx}\\|^2=({\\bf Hx)^\\top} ({\\bf Hx})={\\bf x^\\top H^\\top Hx}={\\bf x^\\top x}=\\|{\\bf x}\\|^2$.\n",
    "\n",
    "Cette propriété entraîne une stabilité numérique des méthodes utilisant ces transformations. On les utilise principalement pour :\n",
    "- orthonormaliser un système de générateurs,\n",
    "- résoudre un systèmes aux équations normales,\n",
    "- triangulariser un système mal conditionné,\n",
    "- calculer les valeurs propres d'une matrice."
   ]
  },
  {
   "cell_type": "code",
   "execution_count": 2,
   "id": "52c1f4da",
   "metadata": {},
   "outputs": [
    {
     "data": {
      "text/latex": [
       "$\\displaystyle \\left[\\begin{matrix}1 & 0 & 0\\\\0 & 1 & 0\\\\0 & 0 & 1\\end{matrix}\\right]$"
      ],
      "text/plain": [
       "Matrix([\n",
       "[1, 0, 0],\n",
       "[0, 1, 0],\n",
       "[0, 0, 1]])"
      ]
     },
     "execution_count": 2,
     "metadata": {},
     "output_type": "execute_result"
    }
   ],
   "source": [
    "from sympy import init_printing, symbols, Matrix, sin, cos, sqrt, Rational\n",
    "\n",
    "Q = Matrix([[0, 0, 1], [1, 0, 0], [0, 1, 0]])\n",
    "Q.transpose() * Q"
   ]
  },
  {
   "cell_type": "code",
   "execution_count": 3,
   "id": "36173f70",
   "metadata": {},
   "outputs": [
    {
     "data": {
      "text/latex": [
       "$\\displaystyle \\left[\\begin{matrix}\\sin^{2}{\\left(\\theta \\right)} + \\cos^{2}{\\left(\\theta \\right)} & 0\\\\0 & \\sin^{2}{\\left(\\theta \\right)} + \\cos^{2}{\\left(\\theta \\right)}\\end{matrix}\\right]$"
      ],
      "text/plain": [
       "Matrix([\n",
       "[sin(theta)**2 + cos(theta)**2,                             0],\n",
       "[                            0, sin(theta)**2 + cos(theta)**2]])"
      ]
     },
     "execution_count": 3,
     "metadata": {},
     "output_type": "execute_result"
    }
   ],
   "source": [
    "theta = symbols('theta')\n",
    "R = Matrix([[cos(theta), -sin(theta)], [sin(theta), cos(theta)]])\n",
    "R.transpose() * R"
   ]
  },
  {
   "cell_type": "markdown",
   "id": "d0f93c10",
   "metadata": {},
   "source": [
    "Si les colonnes sont orthogonales mais pas normées, la matrice n'est pas orthogonale"
   ]
  },
  {
   "cell_type": "code",
   "execution_count": 4,
   "id": "c4d60571",
   "metadata": {},
   "outputs": [
    {
     "data": {
      "text/latex": [
       "$\\displaystyle \\left[\\begin{matrix}2 & 0\\\\0 & 2\\end{matrix}\\right]$"
      ],
      "text/plain": [
       "Matrix([\n",
       "[2, 0],\n",
       "[0, 2]])"
      ]
     },
     "execution_count": 4,
     "metadata": {},
     "output_type": "execute_result"
    }
   ],
   "source": [
    "Q = Matrix([[1, 1], [1, -1]])\n",
    "Q.transpose() * Q"
   ]
  },
  {
   "cell_type": "markdown",
   "id": "686c9458",
   "metadata": {},
   "source": [
    " Il est cependant facile de les normer pour obtenir une base orthonormée de $\\mathbb{R}^2$\n",
    "\n",
    "$\\sqrt { { \\left( 1 \\right)  }^{ 2 }+{ \\left( 1 \\right)  }^{ 2 } } =\\sqrt { 2 } \\\\ \\sqrt { { \\left( 1 \\right)  }^{ 2 }+{ \\left( -1 \\right)  }^{ 2 } } =\\sqrt { 2 }$\n",
    "$Q=\\frac { 1 }{ \\sqrt { 2 }  } \\begin{bmatrix} 1 & 1 \\\\ 1 & -1 \\end{bmatrix}$"
   ]
  },
  {
   "cell_type": "code",
   "execution_count": 5,
   "id": "ce5c71d5",
   "metadata": {},
   "outputs": [
    {
     "data": {
      "text/latex": [
       "$\\displaystyle \\left[\\begin{matrix}\\frac{\\sqrt{2}}{2} & \\frac{\\sqrt{2}}{2}\\\\\\frac{\\sqrt{2}}{2} & - \\frac{\\sqrt{2}}{2}\\end{matrix}\\right]$"
      ],
      "text/plain": [
       "Matrix([\n",
       "[sqrt(2)/2,  sqrt(2)/2],\n",
       "[sqrt(2)/2, -sqrt(2)/2]])"
      ]
     },
     "execution_count": 5,
     "metadata": {},
     "output_type": "execute_result"
    }
   ],
   "source": [
    "Q = (1 / sqrt(2)) * Matrix([[1, 1], [1, -1]])\n",
    "Q "
   ]
  },
  {
   "cell_type": "markdown",
   "id": "a76c7519",
   "metadata": {},
   "source": [
    "Soit ${\\bf Q}\\in\\mathcal{M}_n(\\mathbb R)$ orthogonale, de colonnes \n",
    "${\\bf q_1},{\\bf q_2},\\ldots,{\\bf q_n}$. On a alors, pour tout ${\\bf x}\\in\\mathbb R^n$, une représentation unique sur la base \n",
    "orthonormée telle que\n",
    "\n",
    "${\\bf x}=\\displaystyle\\sum_{i=1}^n ({\\bf q_i^\\top} {\\bf x}){\\bf q_i}$\n",
    "\n",
    " $({\\bf q_i^\\top} {\\bf x}){\\bf q_i}$ est la projection orthogonale de ${\\bf x}$ sur l'axe ${\\bf q_i}$. Cette représentation se\n",
    "généralise aisement à une base orthonormée quelconque ${\\bf q_1},{\\bf q_2},\\ldots,{\\bf q_r}$ d'un sous-espace de dimension $r$. \n",
    "\n",
    "## Orthogonalisation de Gram-Schmidt\n",
    "```{index} Orthogonalisation de Gram-Schmidt\n",
    "```\n",
    "```{index} Gram-Schmidt;orthogonalisation\n",
    "```\n",
    "\n",
    "### Algorithme\n",
    "A partir d'une famille de $p$ vecteurs linéairement indépendants de $\\mathbb R^n$, représentés par une matrice ${\\bf A}\\in\\mathcal{M}_{n,p}(\\mathbb R)$ de rang $p$, on peut construire une famille $\\{{\\bf q_1}\\cdots {\\bf q_p}\\}$, base orthonormée de $Im({\\bf A})$. C'est un outil fondamental pour la résolution de systèmes surdéterminés.\n",
    "\n",
    "L'idée générale est donc de construire une base orthonormée du sous-espace image d'un ensemble de vecteurs. L'intérêt numérique est que cette construction équivaut à triangulariser la matrice formée par ces vecteurs. L'algorithme {prf:ref}`GS` et la figure suivante présentent le procédé d'orthonormalisation de Gram-Schmidt qui, s'il est simple à comprendre, ne présente qu'un intérêt académique puisqu'il est très coûteux. En pratique, on utilise la méthode de factorisation QR qui permet d'atteindre le même objectif grâce à des transformations orthogonales élémentaires (rotations de Givens ou transformations de  Householder) numériquement stables et seulement deux fois plus chères que la méthode de Gauss.\n",
    "\n",
    "Le principe de Gram-Schmidt est de calculer, pour $j\\in[\\![2,p]\\!]$,  chaque vecteur ${\\bf q_j}$ en soustrayant à  ${\\bf  A_{\\bullet,j}}$ ses projections orthogonales sur les $j-1$\n",
    " premiers vecteurs de la base orthonormée déjà calculés, puis en normant le résultat.\n",
    "\n",
    "\n",
    "\n",
    "```{margin} \n",
    "![](./images/SchmidtE.png)\n",
    "```\n",
    "\n",
    "```{prf:algorithm} Procédé d'orthonormalisation de Gram-Schmidt - version de base\n",
    ":label: GS\n",
    "**Entrée :**  ${\\bf A}\\in\\mathcal{M}_{n,p}(\\mathbb R)$ de rang $p$\n",
    "\n",
    "**Sortie :** ${\\bf Q_1}\\in\\mathcal{M}_{n,p}(\\mathbb R)$ à colonnes orthonormées, ${\\bf R_1}\\in\\mathcal{M}_{p}(\\mathbb R)$ triangulaire supérieure\n",
    "\n",
    "1. $r_{11} = \\|{\\bf A_{\\bullet,1}}\\|$\n",
    "2. ${\\bf q_{{1}}} = \\frac{{\\bf A_{\\bullet,1}}}{r_{11}}$\n",
    "3. Pour $j$=2 à $p$\n",
    "    1. ${\\bf p_j}={\\bf A_{\\bullet,j}}$\n",
    "    2. Pour $i$=1 à $j-1$\n",
    "        1. $r_{ij}={\\bf A_{\\bullet,j}^\\top}{\\bf q_{{i}}}$\n",
    "        2. ${\\bf p_j}={\\bf p_j}- r_{ij}{\\bf q_{{i}}}$\n",
    "    3. $r_{jj} = \\|{\\bf p_j}\\|$\n",
    "    4. ${\\bf q_{{j}}} = \\frac{{\\bf p_j}}{r_{jj}}$\n",
    "```\n",
    "\n",
    "\n",
    "![](./images/gs.png)\n",
    "\n",
    "\n",
    "\n",
    "On remarque (voir boucles de l'algorithme) que la matrice ${\\bf R_1}$ est triangulaire supérieure. \n",
    "\n",
    "Gram-Schmidt construit donc une matrice ${\\bf Q_1}\\in\\mathcal{M}_{n,p}(\\mathbb R)$ à colonnes orthormées et une matrice ${\\bf R_1}\\in\\mathcal{M}_{p}(\\mathbb R)$ telles que ${\\bf Q_1^\\top}{\\bf A} = {\\bf R_1}$ soit ${\\bf A}$=${\\bf Q_1R_1}$.\n",
    "\n",
    "````{prf:example}\n",
    "Soit ${\\bf A} = \\begin{pmatrix} 1&1\\\\1&0\\\\1&1\\end{pmatrix}$. \n",
    "\n",
    "Alors ${\\bf A} ={\\bf QR}$ avec ${\\bf Q} = \\begin{pmatrix} \\textcolor{blue}{\\frac{1}{\\sqrt{3}}}&\\textcolor{magenta}{\\frac{1}{\\sqrt{6}}}\\\\\\textcolor{blue}{\\frac{1}{\\sqrt{3}}}&\\textcolor{magenta}{-\\frac{\\sqrt 2}{\\sqrt 3}}\\\\\\textcolor{blue}{\\frac{1}{\\sqrt{3}}}&\\textcolor{magenta}{\\frac{1}{\\sqrt{6}}}\\end{pmatrix}$ et ${\\bf R} = \\begin{pmatrix} \\textcolor{red}{\\sqrt{3}}&\\textcolor{orange}{\\frac{2}{\\sqrt{3}}}\\\\0&\\textcolor{cyan}{\\sqrt{\\frac{2}{3}}}\\end{pmatrix}$. En effet : \n",
    "\n",
    "1. $\\textcolor{red}{r_{11}} = \\|{\\bf A_{\\bullet,1}}\\| = \\textcolor{red}{\\sqrt{3}}$\n",
    "2. $\\textcolor{blue}{{\\bf q_{1}}}= \\frac{1}{\\sqrt{3}}{\\bf A_{\\bullet,1}}= \\textcolor{blue}{\\frac{1}{\\sqrt{3}}\\begin{pmatrix}1\\\\1\\\\1\\end{pmatrix}}$\n",
    "3. $\\textcolor{orange}{r_{12}}={\\bf A_{\\bullet,2}^\\top q_1}=\\begin{pmatrix}1&0&1\\end{pmatrix}.\\frac{1}{\\sqrt{3}}\\begin{pmatrix}1\\\\1\\\\1\\end{pmatrix} =  \\textcolor{orange}{\\frac{2}{\\sqrt{3}}}$\n",
    "4. ${\\bf p_2}={\\bf A_{\\bullet,2}}- r_{12}{\\bf q_{{1}}}=\\begin{pmatrix}1\\\\0\\\\1\\end{pmatrix}-\\frac{2}{\\sqrt{3}}.\\frac{1}{\\sqrt{3}}\\begin{pmatrix}1\\\\1\\\\1\\end{pmatrix}=\\begin{pmatrix}\\frac{1}{3}\\\\-\\frac{2}{3}\\\\\\frac{1}{3}\\end{pmatrix}$\n",
    "5. $\\textcolor{cyan}{r_{22}} = \\|{\\bf p_2}\\|= \\textcolor{cyan}{\\sqrt{\\frac{2}{3}}}$\n",
    "6. $\\textcolor{magenta}{{\\bf q_{2}}} = \\frac{{\\bf p_2}}{r_{22}} = \\textcolor{magenta}{\\begin{pmatrix}\\frac{1}{\\sqrt{6}}\\\\-\\frac{\\sqrt 2}{\\sqrt 3}\\\\\\frac{1}{\\sqrt{6}}\\end{pmatrix}}$ \n",
    "````"
   ]
  },
  {
   "cell_type": "code",
   "execution_count": 6,
   "id": "f24a8692",
   "metadata": {},
   "outputs": [],
   "source": [
    "import numpy as np\n",
    "np.set_printoptions(precision=4)\n",
    "\n",
    "def GramSchmidt(A):\n",
    "    n = A.shape[1] \n",
    "    R = np.zeros([n,n])\n",
    "    p = np.zeros(A.shape)\n",
    "    Q = np.zeros(A.shape)\n",
    "    \n",
    "    for j in range(n):     \n",
    "        p[:,j] = A[:,j]\n",
    "        for i in range(j):  \n",
    "            R[i,j] = np.dot(Q[:,i].T,A[:,j])\n",
    "            p[:,j] = p[:,j] - R[i,j]*Q[:,i]\n",
    "        \n",
    "        R[j,j] = np.linalg.norm(p[:,j],2)\n",
    "        Q[:,j] = p[:,j]/R[j,j]             \n",
    "    \n",
    "    return Q, R\n",
    "\n",
    "n = 4\n",
    "A = np.random.rand(n,n)\n",
    "Q, R = GramSchmidt(A)"
   ]
  },
  {
   "cell_type": "code",
   "execution_count": 7,
   "id": "fb2afb9d",
   "metadata": {},
   "outputs": [
    {
     "data": {
      "text/latex": [
       "$\\displaystyle \\left[\\begin{matrix}0.5437 & 0.4091 & 0.5909 & 0.813\\\\0.03958 & 0.008846 & 0.1675 & 0.3716\\\\0.07007 & 0.8839 & 0.7827 & 0.3436\\\\0.08631 & 0.7311 & 0.7144 & 0.9045\\end{matrix}\\right]$"
      ],
      "text/plain": [
       "Matrix([\n",
       "[ 0.5437,   0.4091, 0.5909,  0.813],\n",
       "[0.03958, 0.008846, 0.1675, 0.3716],\n",
       "[0.07007,   0.8839, 0.7827, 0.3436],\n",
       "[0.08631,   0.7311, 0.7144, 0.9045]])"
      ]
     },
     "execution_count": 7,
     "metadata": {},
     "output_type": "execute_result"
    }
   ],
   "source": [
    "Matrix(A).evalf(4)"
   ]
  },
  {
   "cell_type": "code",
   "execution_count": 8,
   "id": "cb8eda24",
   "metadata": {},
   "outputs": [
    {
     "data": {
      "text/latex": [
       "$\\displaystyle \\left[\\begin{matrix}0.9772 & -0.1931 & -0.08551 & -0.01969\\\\0.07115 & -0.0341 & 0.9556 & -0.2841\\\\0.1259 & 0.7704 & -0.1614 & -0.6039\\\\0.1551 & 0.6067 & 0.2314 & 0.7445\\end{matrix}\\right]$"
      ],
      "text/plain": [
       "Matrix([\n",
       "[ 0.9772, -0.1931, -0.08551, -0.01969],\n",
       "[0.07115, -0.0341,   0.9556,  -0.2841],\n",
       "[ 0.1259,  0.7704,  -0.1614,  -0.6039],\n",
       "[ 0.1551,  0.6067,   0.2314,   0.7445]])"
      ]
     },
     "execution_count": 8,
     "metadata": {},
     "output_type": "execute_result"
    }
   ],
   "source": [
    "Matrix(Q).evalf(4)"
   ]
  },
  {
   "cell_type": "code",
   "execution_count": 9,
   "id": "eb2c7531",
   "metadata": {},
   "outputs": [
    {
     "data": {
      "text/latex": [
       "$\\displaystyle \\left[\\begin{matrix}0.5563 & 0.6252 & 0.7987 & 1.005\\\\0 & 1.045 & 0.9166 & 0.6438\\\\0 & 0 & 0.1485 & 0.4394\\\\0 & 0 & 0 & 0.3444\\end{matrix}\\right]$"
      ],
      "text/plain": [
       "Matrix([\n",
       "[0.5563, 0.6252, 0.7987,  1.005],\n",
       "[     0,  1.045, 0.9166, 0.6438],\n",
       "[     0,      0, 0.1485, 0.4394],\n",
       "[     0,      0,      0, 0.3444]])"
      ]
     },
     "execution_count": 9,
     "metadata": {},
     "output_type": "execute_result"
    }
   ],
   "source": [
    "Matrix(R).evalf(4)"
   ]
  },
  {
   "cell_type": "code",
   "execution_count": 10,
   "id": "1670ed34",
   "metadata": {},
   "outputs": [
    {
     "data": {
      "text/latex": [
       "$\\displaystyle \\left[\\begin{matrix}1.0 & -4.42 \\cdot 10^{-17} & 2.509 \\cdot 10^{-16} & -3.471 \\cdot 10^{-16}\\\\-4.42 \\cdot 10^{-17} & 1.0 & -5.979 \\cdot 10^{-16} & 8.862 \\cdot 10^{-16}\\\\2.509 \\cdot 10^{-16} & -5.979 \\cdot 10^{-16} & 1.0 & 4.427 \\cdot 10^{-16}\\\\-3.471 \\cdot 10^{-16} & 8.862 \\cdot 10^{-16} & 4.427 \\cdot 10^{-16} & 1.0\\end{matrix}\\right]$"
      ],
      "text/plain": [
       "Matrix([\n",
       "[       1.0,  -4.42e-17,  2.509e-16, -3.471e-16],\n",
       "[ -4.42e-17,        1.0, -5.979e-16,  8.862e-16],\n",
       "[ 2.509e-16, -5.979e-16,        1.0,  4.427e-16],\n",
       "[-3.471e-16,  8.862e-16,  4.427e-16,        1.0]])"
      ]
     },
     "execution_count": 10,
     "metadata": {},
     "output_type": "execute_result"
    }
   ],
   "source": [
    "Matrix(Q.transpose()@Q).evalf(4)"
   ]
  },
  {
   "cell_type": "code",
   "execution_count": 11,
   "id": "ab24c6a7",
   "metadata": {},
   "outputs": [
    {
     "name": "stdout",
     "output_type": "stream",
     "text": [
      "Norme de I-Q^TQ =  8.861899084352446e-16\n",
      "Norme infinie de QR-A =  1.1102230246251565e-16\n"
     ]
    }
   ],
   "source": [
    "# On vérifie à quel point Q est orthogonale\n",
    "print(\"Norme de I-Q^TQ = \", np.max(np.abs(np.dot(Q.T,Q)-np.eye(n))))\n",
    "\n",
    "#On vérifie à quel point A=QR\n",
    "print(\"Norme infinie de QR-A = \", np.max(np.abs(np.dot(Q,R)-A)))"
   ]
  },
  {
   "cell_type": "markdown",
   "id": "2b04ba49",
   "metadata": {},
   "source": [
    "Suivant la matrice $\\bf A$, la méthode de Gram-Schmidt classique précédente peut être instable.\n",
    "\n",
    "Considérons par exemple la matrice suivante, dite matrice de Hilbert"
   ]
  },
  {
   "cell_type": "code",
   "execution_count": 12,
   "id": "63e482f7",
   "metadata": {},
   "outputs": [],
   "source": [
    "def Hilbert(n):\n",
    "    A = np.zeros([n,n])\n",
    "    for i in range(n):\n",
    "        for j in range(n):\n",
    "            A[i,j] = 1./(i+j+1)\n",
    "    return A"
   ]
  },
  {
   "cell_type": "markdown",
   "id": "20b9c3dd",
   "metadata": {},
   "source": [
    "On applique la méthode de Gram-Schmidt, et on vérifie à quel point $\\bf QR$ est proche de $\\bf A$, et $\\bf Q$ est orthogonale."
   ]
  },
  {
   "cell_type": "code",
   "execution_count": 13,
   "id": "dcd19aa0",
   "metadata": {},
   "outputs": [
    {
     "name": "stdout",
     "output_type": "stream",
     "text": [
      "Norme de QR-A =  5.551115123125783e-17 \n",
      "\n",
      "Norme de Q^T*Q-I =  0.9999679832111513\n"
     ]
    }
   ],
   "source": [
    "n = 8\n",
    "A = Hilbert(n)\n",
    "Q, R = GramSchmidt(A)\n",
    "print('Norme de QR-A = ',np.max(np.abs(np.dot(Q,R)-A)),\"\\n\")\n",
    "print(\"Norme de Q^T*Q-I = \",np.max(np.abs(np.dot(Q.T,Q)-np.eye(n))))"
   ]
  },
  {
   "cell_type": "markdown",
   "id": "e5e1ff81",
   "metadata": {},
   "source": [
    "La factorisation est précise, mais $\\bf Q$ est loin d'être orthogonale."
   ]
  },
  {
   "cell_type": "code",
   "execution_count": 14,
   "id": "baae3651",
   "metadata": {},
   "outputs": [
    {
     "data": {
      "text/latex": [
       "$\\displaystyle \\left[\\begin{matrix}-3.3 \\cdot 10^{-16} & 1.9 \\cdot 10^{-15} & -8.8 \\cdot 10^{-15} & 6.5 \\cdot 10^{-14} & -8.7 \\cdot 10^{-13} & 6.8 \\cdot 10^{-12} & 1.0 \\cdot 10^{-10} & 1.0 \\cdot 10^{-10}\\\\1.9 \\cdot 10^{-15} & 0 & -8.3 \\cdot 10^{-14} & 1.1 \\cdot 10^{-12} & -1.1 \\cdot 10^{-11} & 8.2 \\cdot 10^{-11} & 1.4 \\cdot 10^{-10} & 1.2 \\cdot 10^{-10}\\\\-8.8 \\cdot 10^{-15} & -8.3 \\cdot 10^{-14} & -1.1 \\cdot 10^{-16} & 2.3 \\cdot 10^{-11} & -5.6 \\cdot 10^{-10} & 1.1 \\cdot 10^{-8} & -2.0 \\cdot 10^{-7} & -2.0 \\cdot 10^{-7}\\\\6.5 \\cdot 10^{-14} & 1.1 \\cdot 10^{-12} & 2.3 \\cdot 10^{-11} & 0 & -2.0 \\cdot 10^{-8} & 8.0 \\cdot 10^{-7} & -2.5 \\cdot 10^{-5} & -2.4 \\cdot 10^{-5}\\\\-8.7 \\cdot 10^{-13} & -1.1 \\cdot 10^{-11} & -5.6 \\cdot 10^{-10} & -2.0 \\cdot 10^{-8} & 0 & 4.3 \\cdot 10^{-5} & -0.0027 & -0.0027\\\\6.8 \\cdot 10^{-12} & 8.2 \\cdot 10^{-11} & 1.1 \\cdot 10^{-8} & 8.0 \\cdot 10^{-7} & 4.3 \\cdot 10^{-5} & -1.1 \\cdot 10^{-16} & -0.22 & -0.21\\\\1.0 \\cdot 10^{-10} & 1.4 \\cdot 10^{-10} & -2.0 \\cdot 10^{-7} & -2.5 \\cdot 10^{-5} & -0.0027 & -0.22 & 2.2 \\cdot 10^{-16} & 1.0\\\\1.0 \\cdot 10^{-10} & 1.2 \\cdot 10^{-10} & -2.0 \\cdot 10^{-7} & -2.4 \\cdot 10^{-5} & -0.0027 & -0.21 & 1.0 & -1.1 \\cdot 10^{-16}\\end{matrix}\\right]$"
      ],
      "text/plain": [
       "Matrix([\n",
       "[-3.3e-16,  1.9e-15, -8.8e-15, 6.5e-14, -8.7e-13,  6.8e-12, 1.0e-10,  1.0e-10],\n",
       "[ 1.9e-15,        0, -8.3e-14, 1.1e-12, -1.1e-11,  8.2e-11, 1.4e-10,  1.2e-10],\n",
       "[-8.8e-15, -8.3e-14, -1.1e-16, 2.3e-11, -5.6e-10,   1.1e-8, -2.0e-7,  -2.0e-7],\n",
       "[ 6.5e-14,  1.1e-12,  2.3e-11,       0,  -2.0e-8,   8.0e-7, -2.5e-5,  -2.4e-5],\n",
       "[-8.7e-13, -1.1e-11, -5.6e-10, -2.0e-8,        0,   4.3e-5, -0.0027,  -0.0027],\n",
       "[ 6.8e-12,  8.2e-11,   1.1e-8,  8.0e-7,   4.3e-5, -1.1e-16,   -0.22,    -0.21],\n",
       "[ 1.0e-10,  1.4e-10,  -2.0e-7, -2.5e-5,  -0.0027,    -0.22, 2.2e-16,      1.0],\n",
       "[ 1.0e-10,  1.2e-10,  -2.0e-7, -2.4e-5,  -0.0027,    -0.21,     1.0, -1.1e-16]])"
      ]
     },
     "execution_count": 14,
     "metadata": {},
     "output_type": "execute_result"
    }
   ],
   "source": [
    "Matrix(np.dot(Q.T,Q)-np.eye(n)).evalf(2)"
   ]
  },
  {
   "cell_type": "markdown",
   "id": "ed158ede",
   "metadata": {},
   "source": [
    "### Gram-Schmidt sur $\\mathbb{R}^n$\n",
    "Il est possible de compléter ${\\bf q_1}\\cdots {\\bf q_p}$ en une base orthonormée de $\\mathbb R^n$, en continuant la procédure de Gram-Schmidt avec $n-p$ vecteurs arbitraires, mais tels que les $n$ colonnes formées avec les ${\\bf A_{\\bullet,j}}$ soient linéairement indépendantes. Soit ${\\bf Q_2}$ la matrice des $n-p$ derniers vecteurs orthonormés. On a alors bien :\n",
    "\n",
    "${\\bf A^\\top} {\\bf Q_2}={\\bf R_1^\\top} {\\bf Q_1^\\top} {\\bf Q_2}=0$ ce qui montre que :\n",
    "\n",
    "${\\bf A}={\\bf QR}=[{\\bf Q_1}\\ {\\bf Q_2}]\\cdot\\left [\\begin{array}{c}{\\bf R_1} \\\\{\\bf 0} \\\\\\end{array}\\right]={\\bf Q_1R_1}$.\n",
    "\n",
    "```{important}\n",
    "Les colonnes de ${\\bf Q_1}$ forment une base orthonormée de $Im({\\bf A})$, et les colonnes de ${\\bf Q_2}$ forment \n",
    "une base orthonormée de $Ker({\\bf A^\\top})$.\n",
    "```"
   ]
  },
  {
   "cell_type": "code",
   "execution_count": 15,
   "id": "4ce929bb",
   "metadata": {},
   "outputs": [
    {
     "data": {
      "text/latex": [
       "$\\displaystyle \\left[\\begin{matrix}\\frac{1}{3} & - \\frac{2}{3}\\\\\\frac{2}{3} & - \\frac{1}{3}\\\\\\frac{2}{3} & \\frac{2}{3}\\end{matrix}\\right]$"
      ],
      "text/plain": [
       "Matrix([\n",
       "[1/3, -2/3],\n",
       "[2/3, -1/3],\n",
       "[2/3,  2/3]])"
      ]
     },
     "execution_count": 15,
     "metadata": {},
     "output_type": "execute_result"
    }
   ],
   "source": [
    "Q = Rational(1, 3) * Matrix([[1, -2], [2, -1], [2, 2]])\n",
    "Q"
   ]
  },
  {
   "cell_type": "markdown",
   "id": "01749d0f",
   "metadata": {},
   "source": [
    "Les colonnes de $Q$ forment une base de $\\mathbb{R}^2$ (dans $\\mathbb{R}^3$). Pour obtenir une matrice orthogonale, il faut compléter par un vecteur normal au plan défini par ces deux colonnes, et unitaire."
   ]
  },
  {
   "cell_type": "code",
   "execution_count": 16,
   "id": "985b97fc",
   "metadata": {},
   "outputs": [
    {
     "data": {
      "text/latex": [
       "$\\displaystyle \\left[\\begin{matrix}\\frac{1}{3} & - \\frac{2}{3} & \\frac{2}{3}\\\\\\frac{2}{3} & - \\frac{1}{3} & - \\frac{2}{3}\\\\\\frac{2}{3} & \\frac{2}{3} & \\frac{1}{3}\\end{matrix}\\right]$"
      ],
      "text/plain": [
       "Matrix([\n",
       "[1/3, -2/3,  2/3],\n",
       "[2/3, -1/3, -2/3],\n",
       "[2/3,  2/3,  1/3]])"
      ]
     },
     "execution_count": 16,
     "metadata": {},
     "output_type": "execute_result"
    }
   ],
   "source": [
    "Q = Rational(1, 3) * Matrix([[1, -2, 2], [2, -1, -2], [2, 2, 1]])\n",
    "Q"
   ]
  },
  {
   "cell_type": "markdown",
   "id": "876bcf7d",
   "metadata": {},
   "source": [
    "### Retour sur le problème aux moindres carrés\n",
    "Appliqué au problème des moindres carrés, le système aux équations normales s'écrit donc \n",
    "\n",
    "$\\begin{eqnarray*}\n",
    "{\\bf A^\\top Ax}&=& {\\bf A^\\top b}\\\\\n",
    "{\\bf (Q_1R_1)^\\top (Q_1R_1)x}&=& {\\bf (Q_1R_1)^\\top b}\\\\\n",
    "{\\bf R_1^\\top Q_1^\\top Q_1R_1x}&=& {\\bf R_1^\\top Q_1^\\top b}\\\\\n",
    "{\\bf R_1^\\top R_1x}&=& {\\bf R_1^\\top Q_1^\\top b}\\\\\n",
    "{\\bf R_1x}&=& {\\bf Q_1^\\top b}\n",
    "\\end{eqnarray*}$\n",
    "\n",
    "La dernière simplification étant possible car ${\\bf R_1}$ est inversible (trangulaire supérieure, les éléments de la diagonale étant des normes, donc strictement positifs). La solution du \n",
    "problème des moindres carrés est solution du système triangulaire \n",
    "\n",
    "${\\bf R_1x}= {\\bf Q_1^\\top b}$\n",
    "et le calcul de l'erreur donne\n",
    "\n",
    "$\\|{\\bf e}\\|^2=\\|{\\bf b}\\|^2-\\displaystyle\\sum_{i=1}^p  ({\\bf b^\\top} {\\bf q_i})^2$\n",
    "\n",
    "## Transformations de Householder\n",
    "```{index} Transformation;de Householder\n",
    "```\n",
    "On peut interpréter la méthode de Gram-Schmidt comme une méthode de triangularisation de la matrice ${\\bf A}$, au même titre que la méthode de Gauss. Il est possible de réorganiser les calculs en construisant des transformations élémentaires orthogonales qui effectuent cette triangularisation colonne par colonne (ou élément par élément). Les symétries de Householder\n",
    "et les rotations de Givens sont des exemples simples et intéressants de telles transformations, car elles conduisent à des algorithmes numériquement plus stables que la méthode de Gram-Schmidt.\n",
    "\n",
    "```{margin} \n",
    "![](./images/householder.png)\n",
    "```\n",
    "````{prf:definition} Matrice de Householder\n",
    "Une matrice de Householder\n",
    "est une matrice carrée ${\\bf H}$ qui s'écrit ${\\bf H}=\\mathbb I-2{\\bf P}$, où ${\\bf P}$ est\n",
    "la matrice de projection\n",
    "sur la droite engendrée par un vecteur ${\\bf v}$ non nul.\n",
    "````\n",
    "```{index} Matrice;de projection\n",
    "```\n",
    "```{index} Matrice;de Householder\n",
    "```\n",
    "On vérifie  que ${\\bf H}$ représente une symétrie\n",
    "par rapport au sous-espace ${\\bf v^\\perp}$.\n",
    "```{index} Symétrie\n",
    "```\n",
    "\n",
    "\n",
    "Le théorème suivant montre qu'il est toujours possible de trouver une matrice de Householder\n",
    "permettant de transformer un vecteur quelconque en un vecteur colinéaire à un vecteur donné.\n",
    "\n",
    "````{prf:theorem} \n",
    "Soient ${\\bf f}$ et ${\\bf e}$ deux vecteurs non colinéaires de $\\mathbb{R}^n$; avec $\\|{\\bf e}\\|_2=1$. Il est alors possible de trouver ${\\bf u}\\in \\mathbb{R}^n$ tel que :\n",
    "1. $\\|{\\bf u}\\|_2=1$\n",
    "2. ${\\bf H(u)f}=\\alpha {\\bf e}$\n",
    "````\n",
    "\n",
    "````{prf:proof}\n",
    "Remarquons tout d'abord que si ${\\bf H(u)}$ est une matrice de Householder, alors ${\\bf H(u)f}={\\bf f-2u(u^\\top f)}$ et $\\|{\\bf H(u)f}\\|_2=\\|{\\bf f}\\|_2$.\n",
    "\n",
    "Posons alors $\\mid\\alpha\\mid=\\|{\\bf f}\\|_2$. On cherche alors ${\\bf u}$ tel que ${\\bf H(u)f}=\\alpha {\\bf e}$, soit \n",
    "\n",
    "$\\begin{align*}\n",
    "{\\bf f-2u(u^\\top f)}&=\\alpha {\\bf e}\\\\\n",
    "{\\bf u}&=\\frac{1}{2{\\bf u^\\top f}}({\\bf f-}\\alpha {\\bf e})\n",
    "\\end{align*}$\n",
    "\n",
    "Si $\\beta={\\bf u^\\top f}$, en multipliant à gauche par ${\\bf f^\\top} $ :\n",
    "$2\\beta^2=\\alpha^2-\\alpha {\\bf f^\\top e}$\n",
    "\n",
    "et $\\beta$ existe si $\\alpha^2-\\alpha {\\bf f^\\top e}>0$. Or l'inégalité de Cauchy-Schwarz donne\n",
    "\n",
    "$\\mid {\\bf f^\\top e}\\mid\\leq\\|{\\bf f}\\|_2\\|{\\bf e}\\|_2=\\|\\alpha\\|$\n",
    "\n",
    "et l'inégalité est de plus stricte par hypothèse (${\\bf f}$ et ${\\bf e}$ non colinéaires). Ainsi :\n",
    "\n",
    "${\\bf u}=\\frac{1}{2\\beta}({\\bf f}-\\alpha {\\bf e)}$ répond à la question.\n",
    "````\n",
    " \n",
    "```{prf:remark}\n",
    ":class: dropdown\n",
    "Si ${\\bf f}$ et ${\\bf  e}$ sont colinéaires, ${\\bf H}=\\mathbb I$ ou ${\\bf H}=\\mathbb I-2{\\bf ee^\\top }$ répondent à la question.\n",
    "``` \n",
    "\n",
    "L'algorithme d'orthonormalisation  de ${\\bf A}$ par matrices de Householder  opère alors colonne par colonne, et transforme itérativement ${\\bf A}$ en une matrice triangulaire supérieure.\n",
    "\n",
    "\n",
    "On l'illustre dans la suite (algorithme {prf:ref}`QR`) dans le cas où ${\\bf A}\\in\\mathcal{M}_n(\\mathbb R)$ est de rang plein.\n",
    "\n",
    "```{prf:algorithm} Factorisation QR par matrices de Householder\n",
    ":label: QR\n",
    "**Entrée :**  ${\\bf A}\\in\\mathcal{M}_n(\\mathbb R)$\n",
    "\n",
    "**Sortie :**  ${\\bf Q}\\in\\mathcal{M}_n(\\mathbb R)$ orthogonale, ${\\bf R}\\in\\mathcal{M}_n(\\mathbb R)$ triangulaire supérieure\n",
    "\n",
    "1. ${\\bf A^{(1)}}={\\bf A}$\n",
    "2. Pour $j=1$ à $n-1$\n",
    "    1. Soit ${\\bf f_j}\\in \\mathbb R^{n-j+1}$ le vecteur commençant à l'élément $(j,j)$ de ${\\bf A^{(j)}}$\n",
    "    2. On construit ${\\bf {\\tilde H^{(j)}}}\\in\\mathcal{M}_{n-j+1}(\\mathbb R)$ telle que ${\\bf \\tilde{H^{(j)}}f_j} = \\|{\\bf f_j}\\ {\\bf e^{(j)}_1}$, ${\\bf e^{(j)}_1}$ premier vecteur de la base canonique de $\\mathbb R^{n-j+1}$\n",
    "    3. On construit \n",
    "    ![](./images/h.png)\n",
    "    4. On calcule ${\\bf A^{(j+1)}} = {{\\bf H^{(j)}}\\bf A^{(j)}}$\n",
    "\n",
    "3. ${\\bf R}={\\bf A^{(n-1)}}$ et ${\\bf Q} =  {\\bf {H^{(1)}}^\\top}{\\bf {H^{(2)}}^\\top} \\cdots  {\\bf {H^{(n-1)}}^\\top}$\n",
    "```\n",
    "\n",
    "A l'issue des $n-1$ itérations, on a effectué les produits ${\\bf H^{(n-1)}} \\cdots {\\bf H^{(2)}} {\\bf H^{(1)}}$ pour obtenir une matrice triangulaire supérieure ${\\bf R}\\in\\mathcal{M}_n(\\mathbb R)$ à partir de ${\\bf A}$. Donc :\n",
    "\n",
    "${\\bf H^{(n-1)}} \\cdots {\\bf H^{(2)}} {\\bf H^{(1)}}{\\bf A} = {\\bf R}$\n",
    "\n",
    "De plus les ${\\bf H^{(j)}}, j\\in[\\![1, n-1]\\!]$ sont orthogonales donc\n",
    "\n",
    "${\\bf A} ={\\bf {H^{(1)}}^\\top}{\\bf {H^{(2)}}^\\top} \\cdots  {\\bf {H^{(n-1)}}^\\top} {\\bf R}$\n",
    "\n",
    "Le produit des matrices ${\\bf{ H^{(j)}}^\\top}$ est également une matrice orthogonale, et on pose \n",
    "\n",
    "${\\bf Q} = {\\bf {H^{(1)}}^\\top}{\\bf {H^{(2)}}^\\top} \\cdots  {\\bf {H^{(n-1)}}^\\top}$\n",
    "\n",
    "pour finalement obtenir  ${\\bf A} = {\\bf QR}$\n",
    "\n",
    "On illustre cet algorithme sur les deux premières itérations :\n",
    "1. $j=1$ : \n",
    "- On construit ${\\bf H^{(1)}}$ telle que ${\\bf H^{(1)}A^{(1)}_{\\bullet,1}}$ =${\\bf e_1}$, premier vecteur de la base canonique de $\\mathbb R^n$\n",
    "- ${\\bf A^{(2)}}={\\bf H^{(1)}A^{(1)}} = \\begin{pmatrix}{\\|{\\bf A^{(1)}_{\\bullet,1}}\\|}&a^{(2)}_{12}&*&\\cdots &*\\\\0&a^{(2)}_{22}&*&\\cdots &*\\\\0&\\vdots&\\vdots&\\vdots&\\vdots\\\\0&a^{(2)}_{n2}&*&\\cdots &*\\end{pmatrix}$\n",
    "2. $j=2$ : \n",
    "- Soit ${\\bf f_2} = \\begin{pmatrix}a^{(2)}_{22}\\\\\\vdots\\\\a^{(2)}_{n2}\\end{pmatrix}\\in \\mathbb R^{n-1}$\n",
    "- On construit ${\\bf \\tilde{H^{(2)}}}\\in\\mathcal{M}_{n-1}(\\mathbb R)$ telle que ${\\bf \\tilde{H^{(2)}}f_2} = \\|{\\bf f_2}\\| {\\bf e^{(2)}_1}$ avec ${\\bf e^{(2)}_1}$ premier vecteur de la base canonique de $\\mathbb R^{n-1}$\n",
    "- On construit\n",
    "${\\bf H^{(2)}} =\\left (\n",
    "\\begin{array}{l|l}\n",
    "1&{\\bf 0}\\\\\n",
    "\\hline\n",
    " {\\bf 0} & {\\bf \\tilde{H^{(2)}}}\\\\\n",
    "\\end{array}\n",
    "\\right )\\in\\mathcal{M}_n(\\mathbb R)\n",
    "$ telle que \n",
    "${\\bf A^{(3)}}={\\bf H^{(2)}A^{(2)}}\\begin{pmatrix}{\\|{\\bf A^{(1)}_{\\bullet,1}}\\|}&\\ast&\\ast&\\cdots &\\ast\\\\0&\\|{\\bf f_2}\\|&a^{(3)}_{23}&\\cdots &\\ast\\\\0&0&a^{(3)}_{33}&\\vdots&\\vdots\\\\0&0&a^{(3)}_{n3}&\\cdots &*\\end{pmatrix}$\n",
    "\n",
    "L'implémentation peut se faire de la manière suivante."
   ]
  },
  {
   "cell_type": "code",
   "execution_count": 17,
   "id": "0f13c413",
   "metadata": {},
   "outputs": [],
   "source": [
    "def Householder(a):\n",
    "    u = a / (a[0] + np.copysign(np.linalg.norm(a), a[0]))\n",
    "    u[0] = 1\n",
    "    H = np.eye(a.shape[0])-(2 / np.dot(u, u) * np.dot(u[:, None], u[None, :]))\n",
    "    return H\n",
    "\n",
    "def qr(A):\n",
    "    m, n = A.shape\n",
    "    Q = np.eye(m)\n",
    "    for i in range(n - (m == n)):\n",
    "        H = np.eye(m)\n",
    "        H[i:, i:] = Householder(A[i:, i])\n",
    "        Q = np.dot(Q, H)\n",
    "        A = np.dot(H, A)\n",
    "    return Q, A\n",
    "\n",
    "\n",
    "A = np.array([[12, -51, 4], [6, 167, -68], [-4, 24, -41]])\n",
    "Q1, R1 = qr(A)"
   ]
  },
  {
   "cell_type": "code",
   "execution_count": 18,
   "id": "949612f7",
   "metadata": {},
   "outputs": [
    {
     "data": {
      "text/latex": [
       "$\\displaystyle \\left[\\begin{matrix}12.0 & -51.0 & 4.0\\\\6.0 & 167.0 & -68.0\\\\-4.0 & 24.0 & -41.0\\end{matrix}\\right]$"
      ],
      "text/plain": [
       "Matrix([\n",
       "[12.0, -51.0,   4.0],\n",
       "[ 6.0, 167.0, -68.0],\n",
       "[-4.0,  24.0, -41.0]])"
      ]
     },
     "execution_count": 18,
     "metadata": {},
     "output_type": "execute_result"
    }
   ],
   "source": [
    "from sympy import *\n",
    "Matrix(A).evalf(4)"
   ]
  },
  {
   "cell_type": "code",
   "execution_count": 19,
   "id": "4ac34f89",
   "metadata": {},
   "outputs": [
    {
     "data": {
      "text/latex": [
       "$\\displaystyle \\left[\\begin{matrix}-14.0 & -21.0 & 14.0\\\\2.267 \\cdot 10^{-16} & -175.0 & 70.0\\\\4.721 \\cdot 10^{-16} & -7.431 \\cdot 10^{-16} & -35.0\\end{matrix}\\right]$"
      ],
      "text/plain": [
       "Matrix([\n",
       "[    -14.0,      -21.0,  14.0],\n",
       "[2.267e-16,     -175.0,  70.0],\n",
       "[4.721e-16, -7.431e-16, -35.0]])"
      ]
     },
     "execution_count": 19,
     "metadata": {},
     "output_type": "execute_result"
    }
   ],
   "source": [
    "Matrix(R1).evalf(4)"
   ]
  },
  {
   "cell_type": "code",
   "execution_count": 20,
   "id": "1455f3ad",
   "metadata": {},
   "outputs": [
    {
     "data": {
      "text/latex": [
       "$\\displaystyle \\left[\\begin{matrix}-0.8571 & 0.3943 & 0.3314\\\\-0.4286 & -0.9029 & -0.03429\\\\0.2857 & -0.1714 & 0.9429\\end{matrix}\\right]$"
      ],
      "text/plain": [
       "Matrix([\n",
       "[-0.8571,  0.3943,   0.3314],\n",
       "[-0.4286, -0.9029, -0.03429],\n",
       "[ 0.2857, -0.1714,   0.9429]])"
      ]
     },
     "execution_count": 20,
     "metadata": {},
     "output_type": "execute_result"
    }
   ],
   "source": [
    "Matrix(Q1).evalf(4)"
   ]
  },
  {
   "cell_type": "markdown",
   "id": "316aa57b",
   "metadata": {},
   "source": [
    "Terminons par une question de stabilité : comparons l'algorithme de Gram-Schmidt vu précécemment"
   ]
  },
  {
   "cell_type": "code",
   "execution_count": 21,
   "id": "cd522d4c",
   "metadata": {},
   "outputs": [],
   "source": [
    "def GramSchmidt(A):\n",
    "\n",
    "    n = A.shape[1] \n",
    "    R = np.zeros([n,n])\n",
    "    V = np.zeros(A.shape)\n",
    "    Q = np.zeros(A.shape)\n",
    "    \n",
    "    for j in range(n):      \n",
    "        V[:,j] = A[:,j]\n",
    "        for i in range(j):  \n",
    "            R[i,j] = np.dot(Q[:,i].T,A[:,j])\n",
    "            V[:,j] = V[:,j] - R[i,j]*Q[:,i]\n",
    "        \n",
    "        R[j,j] = np.linalg.norm(V[:,j],2)\n",
    "        Q[:,j] = V[:,j]/R[j,j]            \n",
    "    \n",
    "    return Q, R"
   ]
  },
  {
   "cell_type": "markdown",
   "id": "519b9c0d",
   "metadata": {},
   "source": [
    "un algorithme de Gram-Schmidt modifié"
   ]
  },
  {
   "cell_type": "code",
   "execution_count": 22,
   "id": "882ee601",
   "metadata": {},
   "outputs": [],
   "source": [
    "def ModifiedGramSchmidt(A):\n",
    "\n",
    "    n = A.shape[1]\n",
    "    R = np.zeros([n,n])\n",
    "    V = np.zeros(A.shape)\n",
    "    Q = np.zeros(A.shape)\n",
    "    for i in range(n):\n",
    "        V[:,i] = A[:,i]\n",
    "    for i in range(n):\n",
    "        R[i,i] = np.linalg.norm(V[:,i],2)\n",
    "        Q[:,i] = V[:,i]/R[i,i]\n",
    "        for j in range(i,n):\n",
    "            R[i,j] = np.dot(Q[:,i].T,V[:,j])\n",
    "            V[:,j] = V[:,j] - R[i,j]*Q[:,i]\n",
    "    return Q, R"
   ]
  },
  {
   "cell_type": "markdown",
   "id": "07582a86",
   "metadata": {},
   "source": [
    "et une factorisation QR par Householder sur la factorisation QR d'une matrice de Hilbert de taille croissante."
   ]
  },
  {
   "cell_type": "code",
   "execution_count": 23,
   "id": "d2fca981",
   "metadata": {},
   "outputs": [
    {
     "data": {
      "image/png": "[encoded data removed]",
      "text/plain": [
       "<Figure size 1200x300 with 2 Axes>"
      ]
     },
     "metadata": {},
     "output_type": "display_data"
    }
   ],
   "source": [
    "import matplotlib.pyplot as plt\n",
    "from scipy.linalg import hilbert\n",
    "ortho =[]\n",
    "orthos = []\n",
    "orthoh = []\n",
    "\n",
    "diagR = []\n",
    "diagRs = []\n",
    "diagRh = []\n",
    "\n",
    "x = np.arange(10, 200,100)\n",
    "for n in x:\n",
    "    H = hilbert(n)\n",
    "    Q, R = GramSchmidt(H)\n",
    "    Qs,Rs = ModifiedGramSchmidt(H)\n",
    "    Qh, Rh = np.linalg.qr(H)\n",
    "    ortho.append(np.linalg.norm(np.dot(Q.T,Q)-np.eye(n)))\n",
    "    orthos.append(np.linalg.norm(np.dot(Qs.T,Qs)-np.eye(n)))\n",
    "    orthoh.append(np.linalg.norm(np.dot(Qh.T,Qh)-np.eye(n)))\n",
    "    diagR.append(np.diag(R))\n",
    "    diagR.append(np.diag(Rs))\n",
    "    diagR.append(np.diag(Rh))\n",
    "\n",
    "\n",
    "\n",
    "fig, axs = plt.subplots(1, 2, figsize=(12, 3))\n",
    "axs[0].plot(x,ortho,'r',label='GS classique')\n",
    "axs[0].plot(x,orthoh,'b',label='Householder')\n",
    "axs[0].plot(x,orthos,'g',label='GS modifié')\n",
    "axs[0].legend()\n",
    "axs[0].set_xlabel('$n$')\n",
    "axs[0].set_ylabel('$||Q^TQ-I||$')\n",
    "plt.tight_layout()\n",
    "\n",
    "axs[1].semilogy(x,orthoh,'b',label='Householder')\n",
    "axs[1].semilogy(x,orthos,'g',label='GS modifié')\n",
    "axs[1].legend()\n",
    "plt.xlabel('$n$')\n",
    "plt.ylabel('log($||Q^TQ-I||$)')\n",
    "plt.suptitle(\"Test d'orthogonalité de $Q^TQ : log(||Q^TQ-I||)(n)$\")\n",
    "plt.tight_layout()"
   ]
  }
 ],
 "metadata": {
  "jupytext": {
   "formats": "md:myst",
   "text_representation": {
    "extension": ".md",
    "format_name": "myst"
   }
  },
  "kernelspec": {
   "display_name": "Python 3",
   "language": "python",
   "name": "python3"
  },
  "language_info": {
   "codemirror_mode": {
    "name": "ipython",
    "version": 3
   },
   "file_extension": ".py",
   "mimetype": "text/x-python",
   "name": "python",
   "nbconvert_exporter": "python",
   "pygments_lexer": "ipython3",
   "version": "3.9.19"
  },
  "source_map": [
   13,
   20,
   56,
   62,
   66,
   69,
   72,
   79,
   82,
   154,
   179,
   182,
   185,
   188,
   192,
   198,
   204,
   211,
   215,
   221,
   225,
   227,
   245,
   248,
   252,
   255,
   393,
   415,
   421,
   425,
   427,
   431,
   449,
   453,
   469,
   472
  ]
 },
 "nbformat": 4,
 "nbformat_minor": 5
}