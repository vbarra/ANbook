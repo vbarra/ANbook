{
 "cells": [
  {
   "cell_type": "markdown",
   "id": "b10994d1",
   "metadata": {},
   "source": [
    "# Matrices\n",
    "\n",
    "## Définitions\n",
    "\n",
    "````{prf:definition} Matrice \n",
    "```{index} Matrice\n",
    "```\n",
    "Une matrice $m\\times n$ à coefficients réels est un tableau de\n",
    "scalaires rangés en $m$ lignes et $n$ colonnes.\n",
    "````\n",
    "\n",
    "La définition de matrice se fait simplement en Python à l'aide de la librairie <a href=\"https://numpy.org\" target=\"_blank\">numpy</a>"
   ]
  },
  {
   "cell_type": "code",
   "execution_count": 1,
   "id": "a34d64f6",
   "metadata": {
    "tags": [
     "defmatrice"
    ]
   },
   "outputs": [],
   "source": [
    "import numpy as np\n",
    "import matplotlib.pyplot as plt\n",
    "A = np.array([[4, 3],[2,1]])\n",
    "B = np.array([[3, 0, 4],[-1, -2, 1]])\n",
    "C = np.array([[-2, 1],[4, 1]])\n",
    "D = np.array([[2],[6]])"
   ]
  },
  {
   "cell_type": "markdown",
   "id": "3aaddcab",
   "metadata": {},
   "source": [
    "Les matrices servent principalement à représenter des transformations\n",
    "linéaires de $\\mathbb R^n$ dans $\\mathbb R^m$. \n",
    "\n",
    "On notera $a_{ij}$ les éléments de la matrice ${\\bf A}$,\n",
    "$i\\in [\\![1,m]\\!]$, $j\\in [\\![1,n]\\!]$. La matrice ${\\bf A}$ représente\n",
    "la transformation linéaire de $\\mathbb R^n$ dans $\\mathbb R^m$ suivante\n",
    "\n",
    "$(\\forall {\\bf x}\\in\\mathbb R^n)\\ {\\bf y}=A{\\bf x}\\ \\Leftrightarrow\\ \n",
    "{\\bf y}\\in\\mathbb R^m\\ \\mbox{et}\\ (\\forall i\\in  [\\![ 1, m]\\!])\\quad y_i=a_{i1}x_1+\\cdots+a_{i n}x_n = \\displaystyle\\sum_{j=1}^n a_{ij}x_j$\n",
    "\n",
    "```{margin} \n",
    "![](./images/translin.png)\n",
    "```\n",
    "\n",
    "\n",
    "\n",
    "Si on note ${\\bf A_{\\bullet j}}$, $j\\in [\\![1,n]\\!]$ les colonnes de\n",
    "${\\bf A}$ et $A_{i\\bullet}$, $i\\in[\\![1,m]\\!]$ les vecteurs lignes de\n",
    "${\\bf A}$, la transformation peut aussi s'écrire des deux manières\n",
    "suivantes :\n",
    "${\\bf y}=\\displaystyle\\sum_{j=1}^nx_jA_{\\bullet j}\\qquad\\mbox{ou}\\qquad\n",
    "(\\forall i\\in[\\![1,m]\\!])\\ y_i=A_{i\\bullet}^\\top x.$\n",
    "\n",
    "Dans le cas où les colonnes de ${\\bf A}$ sont les vecteurs de la base\n",
    "canonique, la matrice est appelée matrice identité et est notée\n",
    "${\\bf \\mathbb I}$.\n",
    "\n",
    "Comme mentionné précédemment, l'ensemble $\\mathcal{M}_{m,n}(\\mathbb{R})$\n",
    "des matrices de taille $m\\times n$ à coefficients réels est un espace\n",
    "vectoriel pour les lois '+' et '.' :\n",
    "\n",
    "-   $(\\forall  {\\bf A}, {\\bf B}\\in \\mathcal{M}_{m,n}(\\mathbb{R}))(\\forall i\\in  [\\![ 1,m]\\!])(\\forall j\\in  [\\![ 1, n]\\!])\\quad \\left ( {\\bf A}+ {\\bf B}\\right )_{i,j} =\\left ( {\\bf A}\\right )_{i,j} + \\left ( {\\bf B}\\right )_{i,j}$\n",
    "\n",
    "-   $(\\forall \\lambda\\in\\mathbb R)(\\forall {\\bf A}\\in \\mathcal{M}_{m,n}(\\mathbb{R}))(\\forall i\\in  [\\![ 1, m]\\!])(\\forall j\\in  [\\![ 1, n]\\!])\\quad  \\left ( {\\bf \\lambda.A}\\right )_{i,j} =\\lambda\\left ( {\\bf A}\\right )_{i,j}$\n",
    "\n",
    "et en Python"
   ]
  },
  {
   "cell_type": "code",
   "execution_count": 2,
   "id": "501fdc31",
   "metadata": {
    "tags": [
     "defmatrice"
    ]
   },
   "outputs": [
    {
     "name": "stdout",
     "output_type": "stream",
     "text": [
      "[[12  9]\n",
      " [ 6  3]] \n",
      "\n",
      "[[2 4]\n",
      " [6 2]] \n",
      "\n"
     ]
    }
   ],
   "source": [
    "import numpy as np\n",
    "print(3*A,'\\n')\n",
    "print(A+C,'\\n')"
   ]
  },
  {
   "cell_type": "markdown",
   "id": "8fb379c1",
   "metadata": {},
   "source": [
    "Lorsque $m=n$, $\\mathcal{M}_{m,n}(\\mathbb{R})$ est noté\n",
    "$\\mathcal{M}_{n}(\\mathbb{R})$. C'est l'espace des matrices carrées de\n",
    "taille $n$.\n",
    "\n",
    "Voici quelques exemples de transformations linéaires.\n",
    "\n",
    "\n",
    "### Addition"
   ]
  },
  {
   "cell_type": "code",
   "execution_count": 3,
   "id": "b1ff68d4",
   "metadata": {},
   "outputs": [
    {
     "data": {
      "image/png": "[encoded data removed]",
      "text/plain": [
       "<Figure size 360x360 with 1 Axes>"
      ]
     },
     "metadata": {
      "filenames": {
       "image/png": "/Users/vibarra/Documents/Cours/FISA/envbook/ANbook/_build/jupyter_execute/matrices_5_0.png"
      },
      "needs_background": "light"
     },
     "output_type": "display_data"
    }
   ],
   "source": [
    "from matplotlib.patches import Polygon\n",
    "\n",
    "def plot_vector2d(vector2d, origin=[0, 0], **options):\n",
    "    return plt.arrow(origin[0], origin[1], vector2d[0], vector2d[1],\n",
    "              head_width=0.2, head_length=0.3, length_includes_head=True,\n",
    "              **options)\n",
    "\n",
    "P = np.array([\n",
    "        [3.0, 4.0, 1.0, 4.6],\n",
    "        [0.2, 3.5, 2.0, 0.5]\n",
    "    ])\n",
    "H = np.array([\n",
    "        [ 0.5, -0.2, 0.2, -0.1],\n",
    "        [ 0.4,  0.4, 1.5, 0.6]\n",
    "    ])\n",
    "    \n",
    "P_moved = P + H\n",
    "plt.figure(figsize=(5,5))\n",
    "\n",
    "plt.gca().add_artist(Polygon(P.T, alpha=0.2))\n",
    "plt.gca().add_artist(Polygon(P_moved.T, alpha=0.3, color=\"r\"))\n",
    "for vector, origin in zip(H.T, P.T):\n",
    "    plot_vector2d(vector, origin=origin)\n",
    "\n",
    "plt.text(2.2, 1.8, \"$P$\", color=\"b\", fontsize=18)\n",
    "plt.text(2.0, 3.2, \"$P+H$\", color=\"r\", fontsize=18)\n",
    "plt.text(2.5, 0.5, \"$H_{*,1}$\", color=\"k\", fontsize=18)\n",
    "plt.text(4.1, 3.5, \"$H_{*,2}$\", color=\"k\", fontsize=18)\n",
    "plt.text(0.4, 2.6, \"$H_{*,3}$\", color=\"k\", fontsize=18)\n",
    "plt.text(4.4, 0.2, \"$H_{*,4}$\", color=\"k\", fontsize=18)\n",
    "\n",
    "plt.axis([0, 5, 0, 4])\n",
    "plt.grid()\n",
    "plt.show()"
   ]
  },
  {
   "cell_type": "markdown",
   "id": "8c01eb0f",
   "metadata": {},
   "source": [
    "### Multiplication par un scalaire"
   ]
  },
  {
   "cell_type": "code",
   "execution_count": 4,
   "id": "d8ea2c69",
   "metadata": {},
   "outputs": [
    {
     "data": {
      "image/png": "[encoded data removed]",
      "text/plain": [
       "<Figure size 360x360 with 1 Axes>"
      ]
     },
     "metadata": {
      "filenames": {
       "image/png": "/Users/vibarra/Documents/Cours/FISA/envbook/ANbook/_build/jupyter_execute/matrices_7_0.png"
      },
      "needs_background": "light"
     },
     "output_type": "display_data"
    }
   ],
   "source": [
    "def plot_transformation(P_before, P_after, text_before, text_after, axis = [0, 5, 0, 4], arrows=False):\n",
    "    if arrows:\n",
    "        for vector_before, vector_after in zip(P_before.T, P_after.T):\n",
    "            plot_vector2d(vector_before, color=\"blue\", linestyle=\"--\")\n",
    "            plot_vector2d(vector_after, color=\"red\", linestyle=\"-\")\n",
    "    plt.gca().add_artist(Polygon(P_before.T, alpha=0.2))\n",
    "    plt.gca().add_artist(Polygon(P_after.T, alpha=0.3, color=\"r\"))\n",
    "    plt.text(P_before[0].mean(), P_before[1].mean(), text_before, fontsize=18, color=\"blue\")\n",
    "    plt.text(P_after[0].mean(), P_after[1].mean(), text_after, fontsize=18, color=\"red\")\n",
    "    plt.axis(axis)\n",
    "    plt.grid()\n",
    "\n",
    "P_rescaled = 0.60 * P\n",
    "plt.figure(figsize=(5,5))\n",
    "plot_transformation(P, P_rescaled, \"$P$\", \"$0.6 P$\", arrows=True)\n",
    "plt.show()"
   ]
  },
  {
   "cell_type": "markdown",
   "id": "8373727a",
   "metadata": {},
   "source": [
    "### Rotation"
   ]
  },
  {
   "cell_type": "code",
   "execution_count": 5,
   "id": "447aba26",
   "metadata": {},
   "outputs": [
    {
     "data": {
      "image/png": "[encoded data removed]",
      "text/plain": [
       "<Figure size 360x360 with 1 Axes>"
      ]
     },
     "metadata": {
      "filenames": {
       "image/png": "/Users/vibarra/Documents/Cours/FISA/envbook/ANbook/_build/jupyter_execute/matrices_9_0.png"
      },
      "needs_background": "light"
     },
     "output_type": "display_data"
    }
   ],
   "source": [
    "angle30 = 30 * np.pi / 180  \n",
    "R = np.array([\n",
    "        [np.cos(angle30), np.sin(angle30)],\n",
    "        [-np.sin(angle30), np.cos(angle30)]\n",
    "    ])\n",
    "P_rotated = R.dot(P)\n",
    "plt.figure(figsize=(5,5))\n",
    "plot_transformation(P, P_rotated, \"$P$\", \"$VP$\", [-2, 6, -2, 4], arrows=True)\n",
    "plt.show()"
   ]
  },
  {
   "cell_type": "markdown",
   "id": "1329ceef",
   "metadata": {},
   "source": [
    "### Transvection"
   ]
  },
  {
   "cell_type": "code",
   "execution_count": 6,
   "id": "cef23ea8",
   "metadata": {},
   "outputs": [
    {
     "data": {
      "image/png": "[encoded data removed]",
      "text/plain": [
       "<Figure size 360x360 with 1 Axes>"
      ]
     },
     "metadata": {
      "filenames": {
       "image/png": "/Users/vibarra/Documents/Cours/FISA/envbook/ANbook/_build/jupyter_execute/matrices_11_0.png"
      },
      "needs_background": "light"
     },
     "output_type": "display_data"
    }
   ],
   "source": [
    "F_transvection = np.array([\n",
    "        [1, 1.5],\n",
    "        [0, 1]\n",
    "    ])\n",
    "plt.figure(figsize=(5,5))\n",
    "plot_transformation(P, F_transvection.dot(P), \"$P$\", \"$F_{transvection} P$\",\n",
    "                    axis=[0, 10, 0, 7])\n",
    "plt.show()"
   ]
  },
  {
   "cell_type": "markdown",
   "id": "eb2200dc",
   "metadata": {},
   "source": [
    "### Compression"
   ]
  },
  {
   "cell_type": "code",
   "execution_count": 7,
   "id": "4dc6bc9b",
   "metadata": {},
   "outputs": [
    {
     "data": {
      "image/png": "[encoded data removed]",
      "text/plain": [
       "<Figure size 360x360 with 1 Axes>"
      ]
     },
     "metadata": {
      "filenames": {
       "image/png": "/Users/vibarra/Documents/Cours/FISA/envbook/ANbook/_build/jupyter_execute/matrices_13_0.png"
      },
      "needs_background": "light"
     },
     "output_type": "display_data"
    }
   ],
   "source": [
    "F_compression = np.array([\n",
    "        [1.8, 0],\n",
    "        [0, 1/1.4]\n",
    "    ])\n",
    "plt.figure(figsize=(5,5))\n",
    "plot_transformation(P, F_compression.dot(P), \"$P$\", \"$F_{compression} P$\",\n",
    "                    axis=[0, 7, 0, 5])\n",
    "plt.show()"
   ]
  },
  {
   "cell_type": "markdown",
   "id": "86307fd9",
   "metadata": {},
   "source": [
    "### Réflexion"
   ]
  },
  {
   "cell_type": "code",
   "execution_count": 8,
   "id": "5edb7f61",
   "metadata": {},
   "outputs": [
    {
     "data": {
      "image/png": "[encoded data removed]",
      "text/plain": [
       "<Figure size 360x360 with 1 Axes>"
      ]
     },
     "metadata": {
      "filenames": {
       "image/png": "/Users/vibarra/Documents/Cours/FISA/envbook/ANbook/_build/jupyter_execute/matrices_15_0.png"
      },
      "needs_background": "light"
     },
     "output_type": "display_data"
    }
   ],
   "source": [
    "F_reflex = np.array([\n",
    "        [1, 0],\n",
    "        [0, -1]\n",
    "    ])\n",
    "plt.figure(figsize=(5,5))\n",
    "plot_transformation(P, F_reflex.dot(P), \"$P$\", \"$F_{reflex} P$\",\n",
    "                    axis=[-2, 9, -4.5, 4.5])\n",
    "plt.tight_layout()"
   ]
  },
  {
   "cell_type": "markdown",
   "id": "9d606fa3",
   "metadata": {},
   "source": [
    "Pour évaluer les effets d'une transformation linéaire sur la norme d'un vecteur, \n",
    "on s'arrange pour utiliser des normes de matrices subordonnées\n",
    "aux normes vectorielles, dans le sens suivant :\n",
    "\n",
    "$\\|{\\bf A}\\|=\\displaystyle\\sup_{{\\bf x}\\neq {\\bf 0}}\\frac{\\|{\\bf Ax}\\|}{\\|{\\bf x}\\|}=\\displaystyle\\sup_{\\|{\\bf x}\\|=1}\\|{\\bf Ax}\\|$\n",
    "\n",
    "\n",
    "où $\\|{\\bf A}\\|$ définit une norme subordonnée à la norme vectorielle utilisée dans le calcul des normes vectorielles $\\|{\\bf x}\\|$ et \n",
    "$\\|{\\bf Ax}\\|$. On retrouve la définition usuelle d'une norme d'application linéaire. \n",
    "On a alors la relation $\\|{\\bf Ax}\\|\\leq \\|{\\bf A}\\|\\|{\\bf x}\\|$ pour tout ${\\bf x}$.\n",
    "```{index} Norme matricielle;subordonnée\n",
    "```\n",
    "\n",
    "```{prf:remark}\n",
    "1. Le sup ci-dessus doit être pris dans $\\mathbb{C}^n$, mais coïncide avec le sup \n",
    "dans $\\mathbb R^n$ pour les normes $L_1,L_2$ et $L_\\infty$.\n",
    "2. Par compacité de la sphère unité, le sup est atteint  pour un ${\\bf x}$ non nul.\n",
    "```\n",
    "\n",
    "```{prf:property} Propriétés des normes subordonnées\n",
    "1. $\\|{\\bf A}\\|=\\inf\\left \\{\\rho / \\|{\\bf Ax}\\|\\leq\\rho \\|{\\bf x}\\|\\right \\}$\n",
    "2. $\\|\\mathbb I\\|=1$\n",
    "```` \n",
    "\n",
    "\n",
    "\n",
    "```{prf:example}\n",
    "1. On vérifie que les normes matricielles subordonnées aux normes \n",
    "$L_1$ et $L_\\infty$ sont données par $\\|{\\bf A}\\|_1=\\displaystyle\\max_j\\displaystyle\\sum_i|a_{ij}|$ et\n",
    "$\\|{\\bf A}\\|_\\infty=\\displaystyle\\max_i\\displaystyle\\sum_j|a_{ij}|$\n",
    " 2. La norme matricielle subordonnée à la norme euclidienne est \n",
    "$\\|{\\bf A}\\|_2=\\left[\\lambda_{max}\\right]^\\frac{1}{2}$, où $\\lambda_{max}$ est la plus grande \n",
    "valeur propre de ${\\bf A^\\top} {\\bf A}$.\n",
    "3. La norme euclidienne étant difficile à calculer, on lui préfère souvent \n",
    "la norme de la trace ou norme de Frobenius : \n",
    "\n",
    "$\n",
    "\\|{\\bf A}\\|_F=\\left (Tr({\\bf A^\\top} {\\bf A})\\right)^\\frac{1}{2}\n",
    "           =\\left (\\displaystyle\\sum_i\\displaystyle\\sum_ja_{ij}^2\\right )^\\frac{1}{2}.\n",
    "$ \n",
    "\n",
    "Cette norme n'est subordonnée à aucune norme vectorielle sur $\\mathbb R^n$.\n",
    "```\n",
    "```{index} Norme matricielle;de Frobenius\n",
    "```\n",
    "\n",
    "\n",
    "\n",
    "## Matrice transposée\n",
    "\n",
    "````{prf:definition} Transposée \n",
    "```{index} Matrice ; transposée\n",
    "```\n",
    "```{index} Transposée\n",
    "```\n",
    "Soit ${\\bf A}\\in \\mathcal{M}_{m,n}(\\mathbb{R})$. On appelle\n",
    "matrice transposée de ${\\bf A}$, et on note ${\\bf A^\\top}$, l'unique\n",
    "matrice de $\\mathcal{M}_{n,m}(\\mathbb{R})$ telle que :\n",
    "$(\\forall  {\\bf x} \\in\\mathbb R^n)\\ (\\forall  {\\bf y} \\in\\mathbb R^m)\\quad{\\bf y}^\\top ({\\bf A}{\\bf x})=({\\bf A^\\top }{\\bf y})^\\top {\\bf x} \n",
    "\\label{MatriceTransposee}$\n",
    "````\n",
    "\n",
    "Le premier produit scalaire est dans $\\mathbb R^m$ et le second dans\n",
    "$\\mathbb R^n$. On montre alors que la matrice ${\\bf A^\\top}$ a pour lignes\n",
    "les colonnes de ${\\bf A}$ (et donc pour colonnes les lignes de\n",
    "${\\bf A}$). On remarque que la notation dans est cohérente avec celle du produit\n",
    "scalaire.\n",
    "\n",
    "${\\bf A} = \\begin{pmatrix}\n",
    "1&2&3\\\\4&5&6\\\\7&8&9\n",
    "\\end{pmatrix}$ ${\\bf A^T} = \\begin{pmatrix}\n",
    "1&4&7\\\\2&5&8\\\\3&6&9\n",
    "\\end{pmatrix}$"
   ]
  },
  {
   "cell_type": "code",
   "execution_count": 9,
   "id": "048ec8f3",
   "metadata": {
    "tags": [
     "transpose"
    ]
   },
   "outputs": [
    {
     "name": "stdout",
     "output_type": "stream",
     "text": [
      "A = \n",
      " [[5 4 0]\n",
      " [1 8 3]\n",
      " [6 7 2]] \n",
      "\n",
      "A^T = \n",
      " [[5 1 6]\n",
      " [4 8 7]\n",
      " [0 3 2]]\n"
     ]
    }
   ],
   "source": [
    "A = np.array([[5, 4, 0],[1, 8, 3],[6, 7, 2]])\n",
    "print('A = \\n',A,'\\n' \n",
    ")\n",
    "print('A^T = \\n',A.transpose())"
   ]
  },
  {
   "cell_type": "markdown",
   "id": "cfed69ee",
   "metadata": {},
   "source": [
    "```{prf:remark}\n",
    ":class: dropdown\n",
    "Dans le cas d'une matrice symétrique, on a ${\\bf A} = {\\bf A^\\top}$.\n",
    "```\n",
    "\n",
    "## Trace, déterminant\n",
    "\n",
    "````{prf:definition} Trace \n",
    "```{index} Trace\n",
    "```\n",
    "Soit ${\\bf A}\\in\\mathcal{M}_n(\\mathbb R)$. La trace de ${\\bf A}$,\n",
    "notée $Tr({\\bf A})$, est par définition :\n",
    "$Tr({\\bf A}) = \\displaystyle\\sum_{i=1}^n a_{ii}$\n",
    "````"
   ]
  },
  {
   "cell_type": "code",
   "execution_count": 10,
   "id": "41ec973f",
   "metadata": {
    "tags": [
     "trace"
    ]
   },
   "outputs": [
    {
     "name": "stdout",
     "output_type": "stream",
     "text": [
      "Trace de A :  15\n"
     ]
    }
   ],
   "source": [
    "print(\"Trace de A : \", np.trace(A))"
   ]
  },
  {
   "cell_type": "markdown",
   "id": "f50db3c8",
   "metadata": {},
   "source": [
    "On démontre sans difficulté les propriétés suivantes pour toutes\n",
    "matrices ${\\bf A}$ et ${\\bf B}$ avec les bonnes dimensions :\n",
    "\n",
    "````{prf:property} Propriétés de la trace\n",
    "\n",
    "1.  $Tr({\\bf A})$=$Tr({\\bf A^T})$\n",
    "\n",
    "2.  $Tr({\\bf AB})$=$Tr({\\bf BA})$\n",
    "\n",
    "3.  $Tr({\\bf A+B})$=$Tr({\\bf A}) + Tr({\\bf B})$\n",
    "\n",
    "4.  $(\\forall {\\bf x}\\in \\mathbb R^n)\\ {\\bf x^Tx} = Tr({\\bf xx^T})$\n",
    "````\n",
    "\n",
    "````{prf:definition} Déterminant \n",
    "```{index} Déterminant\n",
    "```\n",
    "oit ${\\bf A}\\in\\mathcal{M}_n(\\mathbb R)$. Le déterminant de\n",
    "${\\bf A}$, noté $det({\\bf A})$ est défini récursivement comme suit :\n",
    "\n",
    "1.  si $n=1$, $det({\\bf A})=a_{11}$\n",
    "\n",
    "2.  si $n>1$\n",
    "    $det({\\bf A})=\\displaystyle\\sum_{j=1}^n (-1)^{j+1}det ({\\bf A_{1j}})$\n",
    "\n",
    "où ${\\bf A_{1j}}\\in \\mathcal{M}_{n-1}(\\mathbb R)$ est obtenue à partir de\n",
    "${\\bf A}$ en supprimant la première ligne et la $j^e$ colonne.\n",
    "````"
   ]
  },
  {
   "cell_type": "code",
   "execution_count": 11,
   "id": "3f551646",
   "metadata": {
    "tags": [
     "det"
    ]
   },
   "outputs": [
    {
     "name": "stdout",
     "output_type": "stream",
     "text": [
      "Déterminant de A :  39.000000000000014\n"
     ]
    }
   ],
   "source": [
    "print(\"Déterminant de A : \", np.linalg.det(A))"
   ]
  },
  {
   "cell_type": "markdown",
   "id": "60d72a42",
   "metadata": {},
   "source": [
    "Le déterminant est la valeur d'une forme multilinéaire sur un ensemble\n",
    "de $n$ vecteurs qui change de signe à chaque permutation des vecteurs et\n",
    "qui vaut 1 pour les $n$ vecteurs d'une base orthonormée. C'est aussi le\n",
    "volume du $n$-parallélépipède engendré par $n$ vecteurs dans $\\mathbb R^n$.\n",
    "L'une des applications principales des déterminants est de mesurer la\n",
    "liberté d'une famille.\n",
    "\n",
    "````{prf:property} Propriétés du déterminant\n",
    "\n",
    "1.  $\\det(\\mathbb I)=1$\n",
    "\n",
    "2.  $\\det({\\bf A})=0\\ \\Leftrightarrow$ ${\\bf A}$ est singulière.\n",
    "\n",
    "3.  $(\\forall \\lambda\\in \\mathbb R)\\ \\det({\\bf \\lambda.A})$ =\n",
    "    $\\lambda^n\\det({\\bf A})$\n",
    "\n",
    "4.  $\\det({\\bf AB})=\\det({\\bf A})\\det({\\bf B})$ (donc\n",
    "    $\\det({\\bf A^{-1}})=(\\det({\\bf A}))^{-1}$).\n",
    "\n",
    "5.  $\\det({\\bf A^\\top} )=\\det({\\bf A})$.\n",
    "\n",
    "6.  Si ${\\bf A}$ est triangulaire,\n",
    "    $\\det({\\bf A})=\\displaystyle\\prod^n_{i=1}a_{ii}.$\n",
    "\n",
    "7.  $\\det({\\bf A})$ change de signe si on permute deux lignes (ou\n",
    "    colonnes) de ${\\bf A}$\n",
    "````\n",
    "\n",
    "## Produit matriciel\n",
    "\n",
    "Le produit matriciel correspond à la composition de deux transformations\n",
    "linéaires.\n",
    "\n",
    "```{margin} \n",
    "![](./images/prodmat.png)\n",
    "```\n",
    "\n",
    "````{prf:definition} Produit matriciel \n",
    "```{index} Matrice ; produit\n",
    "```\n",
    "```{index} Produit  ; matriciel\n",
    "```\n",
    "\n",
    "Soient ${\\bf A}\\in \\mathcal{M}_{m,n}(\\mathbb{R})$ et\n",
    "${\\bf B}\\in \\mathcal{M}_{n,p}(\\mathbb{R})$. Le produit ${\\bf C = AB}$\n",
    "est une matrice de $\\mathcal{M}_{m,p}(\\mathbb{R})$ avec\n",
    "$(\\forall i\\in  [\\![ 1, m]\\!])(\\forall j\\in [\\![ 1, p]\\!])\\quad c_{ij}=\\sum_{k=1}^n a_{ik}b_{kj} = {\\bf A_{i,\\bullet}^T B_{\\bullet,j}}\n",
    "\\label{ProduitMatriciel}$\n",
    "````\n",
    "\n",
    "On note que le nombre de colonnes de ${\\bf A}$ doit être égal au nombre\n",
    "de lignes de ${\\bf B}$ pour que l'opération puisse être réalisée."
   ]
  },
  {
   "cell_type": "code",
   "execution_count": 12,
   "id": "46ad3585",
   "metadata": {
    "tags": [
     "prod"
    ]
   },
   "outputs": [
    {
     "name": "stdout",
     "output_type": "stream",
     "text": [
      "[[ 0 -6 -8]\n",
      " [ 5 -2  9]]\n"
     ]
    }
   ],
   "source": [
    "A = np.array([[1, 3],[2,1]])\n",
    "B = np.array([[3, 0, 7],[-1, -2, -5]])\n",
    "C = A@B\n",
    "print(C)"
   ]
  },
  {
   "cell_type": "markdown",
   "id": "6ebbc114",
   "metadata": {},
   "source": [
    "```{prf:remark}\n",
    ":class: dropdown\n",
    "Plusieurs points d'attention doivent être soulignés :\n",
    "\n",
    "1.  En général le produit n'est pas commutatif.\n",
    "\n",
    "2.  ${\\bf AB}$=${\\bf 0}$ n'implique pas ${\\bf A}$=${\\bf 0}$ ou\n",
    "    ${\\bf B}$=${\\bf 0}$\n",
    "\n",
    "3.  ${\\bf AB}$=${\\bf AC}$ n'implique pas ${\\bf B}$=${\\bf C}$\n",
    "````\n",
    "\n",
    "On trouve là le premier calcul sérieux du point de vue de la complexité.\n",
    "Ce qui permet d'introduire une unité de mesure de la complexité d'une\n",
    "opération et d'un algorithme.\n",
    "\n",
    "````{prf:definition} Flop \n",
    "```{index} Flop\n",
    "```\n",
    "On appelle flop l'opération élémentaire d'un produit scalaire : une\n",
    "multiplication suivie d'une addition et d'une substitution.\n",
    "````\n",
    "\n",
    "Un flop revient donc à mettre à jour une somme $s$ en lui rajoutant le\n",
    "produit de deux nombres $a$ et $b$, *i.e.* $s:=s+a\\ast b.$ Le coût\n",
    "d'un produit scalaire de deux vecteurs de longueur $n$ est donc de $n$\n",
    "flops.\n",
    "\n",
    "Avec cette définition, le nombre d'opérations nécessaires pour effectuer\n",
    "le produit est de l'ordre de $n^3$ flops. On verra\n",
    "plus loin que ce coût, très élevé, est en fait équivalent au coût de la\n",
    "résolution d'un système linéaire à $n$ inconnues.\n",
    "\n",
    "````{prf:property}  Propriétés du produit matriciel\n",
    "\n",
    "1.  ${\\bf A(BC)}$ = ${\\bf (AB)C}$ \\[associativité du produit\\]\n",
    "\n",
    "2.  ${\\bf A(B+C)}$ = ${\\bf AB}$ + ${\\bf AC}$ \\[distributivité par\n",
    "    rapport à la somme\\]\n",
    "\n",
    "3.  $({\\bf AB})^\\top ={\\bf B}^\\top {\\bf A}^\\top$ \\[transposition du\n",
    "    produit\\]\n",
    "\n",
    "4.  Si ${\\bf A}\\in \\mathcal{M}_{m,n}(\\mathbb{R})$, ${\\bf A\\mathbb I}$ =\n",
    "    ${\\bf\\mathbb I A}$ = ${\\bf A}$ \\[la première matrice identité est de\n",
    "    taille $n$, la seconde de taille $m$\\]\n",
    "````\n",
    "\n",
    "Le produit matriciel correspond à une composition de transformations linéaires."
   ]
  },
  {
   "cell_type": "code",
   "execution_count": 13,
   "id": "5555be00",
   "metadata": {},
   "outputs": [
    {
     "data": {
      "image/png": "[encoded data removed]",
      "text/plain": [
       "<Figure size 720x360 with 2 Axes>"
      ]
     },
     "metadata": {
      "filenames": {
       "image/png": "/Users/vibarra/Documents/Cours/FISA/envbook/ANbook/_build/jupyter_execute/matrices_25_0.png"
      },
      "needs_background": "light"
     },
     "output_type": "display_data"
    }
   ],
   "source": [
    "A = np.array([[1, 3],[2,1]])\n",
    "B = np.array([[-2, 1],[1, 1]])\n",
    "\n",
    "def plot_vector2d(vector2d, origin=[0, 0], **options):\n",
    "    return plt.arrow(origin[0], origin[1], vector2d[0], vector2d[1],\n",
    "              head_width=0.2, head_length=0.3, length_includes_head=True,\n",
    "              **options)\n",
    "u = np.array([2, 5])\n",
    "v = np.dot(B,u)\n",
    "w = np.dot(A,v)\n",
    "C = A@B\n",
    "z = np.dot(C,u)\n",
    "\n",
    "fig, ax = plt.subplots(figsize=(10,5))\n",
    "plt.subplot(1, 2, 1)  \n",
    "plot_vector2d(u, color=\"r\")\n",
    "plt.text(2.1, 5.1, \"u\", color=\"r\", fontsize=18)\n",
    "plot_vector2d(v, color=\"g\")\n",
    "plt.text(1.1, 7.1, \"v=Bu\", color=\"g\", fontsize=18)\n",
    "plot_vector2d(w, color=\"b\")\n",
    "plt.text(18,8.5, \"Av\", color=\"b\", fontsize=18)\n",
    "\n",
    "\n",
    "plt.grid()\n",
    "plt.subplot(1, 2, 2)  \n",
    "plot_vector2d(u, color=\"r\")\n",
    "plt.text(2.1, 5.1, \"u\", color=\"r\", fontsize=18)\n",
    "plot_vector2d(z, color=\"y\")\n",
    "plt.text(18,8.5, \"ABu\", color=\"y\", fontsize=18)\n",
    "\n",
    "plt.grid()\n",
    "plt.tight_layout()"
   ]
  },
  {
   "cell_type": "markdown",
   "id": "e7849c4a",
   "metadata": {},
   "source": [
    "## Produit par blocs\n",
    "\n",
    "Soient deux matrices :\n",
    "\n",
    "- ${\\bf A} = ({\\bf A_{ij}}), i\\in[\\![1,m]\\!], j\\in[\\![1, n]\\!]$ où ${\\bf A_{ij}}\\in \\mathcal{M}_{m_i,n_j}(\\mathbb R)$\n",
    "- ${\\bf B} = ({\\bf B_{kl}}),   k\\in[\\![1, n]\\!], l\\in[\\![1, p]\\!]$ où ${\\bf B_{kl}}\\in \\mathcal{M}_{n_k,p_l}(\\mathbb R)$\n",
    "```{index} Produit  ; par blocs\n",
    "```\n",
    "\n",
    "Tous les produits ${\\bf A_{ik}}{\\bf B_{kl}}$ sont bien définis. Le\n",
    "produit par blocs des matrices ${\\bf A}$ et ${\\bf B}$ est défini par\n",
    "${\\bf AB}= (({\\bf AB})_{il})$ avec :\n",
    "$(\\forall i\\in  [\\![ 1, m]\\!])(\\forall l\\in  [\\![ 1, p]\\!])\\quad ({\\bf AB})_{il}  = \\displaystyle\\sum_{k=1}^n {\\bf A_{ik}B_{kl}}$\n",
    "\n",
    "L'écriture du produit est la même que dans le paragraphe précédent, mais\n",
    "la somme fait intervenir des produits de matrices, et non de scalaires.\n",
    "C'est pourquoi il faut prendre garde à la non commutativité des produits\n",
    "${\\bf A_{ik}B_{kl}}$ et respecter l'ordre des facteurs.\n",
    "\n",
    "## Inverse d'une matrice\n",
    "\n",
    "````{prf:definition} Inverse \n",
    "```{index} Inverse\n",
    "```\n",
    "```{index} Matrice ; inverse\n",
    "```\n",
    "Soit ${\\bf A}\\in \\mathcal{M}_{n}(\\mathbb{R})$ une matrice carrée\n",
    "de taille $n$. L'inverse de ${\\bf A}$, notée ${\\bf A^{-1}}$, est\n",
    "l'unique matrice (lorsqu'elle existe) telle que\n",
    "${\\bf A}{\\bf A^{-1}}={\\bf A^{-1}}{\\bf A}=\\mathbb I.$\n",
    "````\n",
    "\n",
    "A noter que l'inverse d'une matrice (carrée) n'existe pas toujours. Pour\n",
    "assurer l'existence, il faut et il suffit que\n",
    "${\\bf A}{\\bf x}={\\bf 0}\\quad\\Leftrightarrow\\quad {\\bf x}={\\bf 0}.$"
   ]
  },
  {
   "cell_type": "code",
   "execution_count": 14,
   "id": "1e0cef69",
   "metadata": {
    "tags": [
     "inv"
    ]
   },
   "outputs": [
    {
     "name": "stdout",
     "output_type": "stream",
     "text": [
      "[[ 0.70588235  0.82352941  0.41176471]\n",
      " [-0.20588235 -0.32352941  0.08823529]\n",
      " [-0.05882353 -0.23529412 -0.11764706]]\n"
     ]
    }
   ],
   "source": [
    "A = np.array([[2, 0, 7],[-1, -2, -5],[1, 4, -2]])\n",
    "B = np.linalg.inv(A)\n",
    "print(B)"
   ]
  },
  {
   "cell_type": "markdown",
   "id": "78801773",
   "metadata": {},
   "source": [
    "````{prf:property} Propriétés de l'inverse\n",
    "\n",
    "1.  (${\\bf A^{-1}})^{-1}={\\bf A}$\n",
    "\n",
    "2.  $({\\bf AB})^{-1}={\\bf B^{-1}}{\\bf A^{-1}}$\n",
    "\n",
    "3.  $({\\bf A^\\top )^{-1}}=({\\bf A^{-1}})^\\top$\n",
    "\n",
    "4.  Si ${\\bf C}$ inversible et ${\\bf AC}={\\bf BC}$ alors\n",
    "    ${\\bf A}={\\bf B}$.\n",
    "````\n",
    "\n",
    "## Matrices particulières\n",
    "\n",
    "-   Quand $m=n$, on parle de matrice carrée.\n",
    "\n",
    "-   Si $m=n$, la matrice ${\\bf A}$ telle que $(\\forall i\\neq j) a_{ij}=0$ est une matrice diagonale.\n",
    "\n",
    "-   Si $m=n$, la matrice ${\\bf A}$ telle que\n",
    "    $(\\forall i\\in  [\\![ 1,n]\\!]) (\\forall j\\in  [\\![ 1, i-1]\\!])$\n",
    "    (resp. $(\\forall j\\in  [\\![ i+1,n]\\!])$) $a_{ij}=0$ est une matrice\n",
    "    triangulaire supérieure (resp. inférieure).\n",
    "\n",
    "-   Si $m=n$ et $(\\forall i,j\\in  [\\![ 1, m]\\!]) a_{ij} = a_{ji}$, la\n",
    "    matrice ${\\bf A}$ est dite symétrique.\n",
    "\n",
    "-   Si $m=n$ et ${\\bf A^T}{\\bf A} = {\\bf A}{\\bf A^T} = \\mathbb I$,\n",
    "    ${\\bf A}$ est une matrice orthogonale\n",
    "\n",
    "-   si $m=1$, la matrice est un vecteur ligne. C'est la transposée d'un\n",
    "    vecteur de $\\mathbb R^n$.\n",
    "\n",
    "-   si $n=1$, la matrice est un vecteur de $\\mathbb R^m$.\n",
    "\n",
    "-   Une sous-matrice d'une matrice ${\\bf A}$ est une matrice obtenue en\n",
    "    supprimant certaines lignes et certaines colonnes de ${\\bf A}$. En\n",
    "    particulier, si on supprime les lignes et colonnes associées au même\n",
    "    sous-ensemble d'indices de $[\\![1,n]\\!]$ d'une matrice carrée de\n",
    "    taille $n$, on obtient une sous-matrice principale. Les déterminants\n",
    "    des sous-matrices principales sont les mineurs de la matrice.\n",
    "\n",
    "````{tab-set}\n",
    "```{tab-item} Diagonale \n",
    "$\\begin{pmatrix}3&0&0\\\\0&-4&0\\\\0&0&1\\end{pmatrix}$ \n",
    "```\n",
    "\n",
    "```{tab-item} Triang. sup. \n",
    "$\\begin{pmatrix} 3&2&1\\\\0&-4&2\\\\0&0&1 \\end{pmatrix}$\n",
    "\n",
    "```\n",
    "\n",
    "```{tab-item} Triang. inf.\n",
    "$\\begin{pmatrix}3&0&0\\\\1&-4&0\\\\5&8&1 \\end{pmatrix}$\n",
    "```\n",
    "```{tab-item} Vecteur ligne \n",
    "$\\begin{pmatrix}3&2&1&-4&0&3.5 \\end{pmatrix}$ \n",
    "```\n",
    "````\n",
    "\n",
    "## Image de ${\\bf A}$\n",
    "\n",
    "Une matrice ${\\bf A}\\in\\mathcal{M}_{m,n}(\\mathbb{R})$ représente une\n",
    "transformation linéaire de $\\mathbb R^n$ dans $\\mathbb R^m$. Pour tout\n",
    "${\\bf x}\\in\\mathbb R^n$, on définit l'image de ${\\bf x}$ par la\n",
    "transformation ${\\bf A}$ comme le vecteur ${\\bf y}\\in \\mathbb R^m$ tel que\n",
    "${\\bf y}={\\bf A}{\\bf x}=\\sum_{j=1}^n {\\bf A_{\\bullet j}}x_j,\\quad {\\bf A_{\\bullet j}}\\in\\mathbb R^m,\\ j\\in  [\\![ 1, n]\\!].$\n",
    "\n",
    "````{prf:definition}  Image d'une matrice \n",
    "```{index} Image\n",
    "```\n",
    "```{index} Matrice ; image\n",
    "```\n",
    "Le sous-espace de $\\mathbb R^m$ engendré par les\n",
    "colonnes de ${\\bf A}$ est appelé *sous-espace image* de ${\\bf A}$, noté\n",
    "$\\mathrm{Im}({\\bf A})$.\n",
    "````\n",
    "\n",
    "C'est donc l'ensemble des ${\\bf y}$ de $\\mathbb R^m$ qui s'écrivent sous la\n",
    "forme ${\\bf A}{\\bf x}$ pour un certain ${\\bf x}$ de $\\mathbb R^n$.\\\n",
    "$\\mathrm{Im}({\\bf A})$ est clairement un sous-espace vectoriel de\n",
    "$\\mathbb R^m$."
   ]
  },
  {
   "cell_type": "code",
   "execution_count": 15,
   "id": "ffaea886",
   "metadata": {
    "tags": [
     "im"
    ]
   },
   "outputs": [
    {
     "name": "stdout",
     "output_type": "stream",
     "text": [
      "L'image de A est le sous-espace engendré par \n"
     ]
    },
    {
     "data": {
      "text/latex": [
       "$\\displaystyle \\left[ \\left[\\begin{matrix}1\\\\1\\\\1\\end{matrix}\\right], \\  \\left[\\begin{matrix}2\\\\1\\\\2\\end{matrix}\\right]\\right]$"
      ],
      "text/plain": [
       "⎡⎡1⎤  ⎡2⎤⎤\n",
       "⎢⎢ ⎥  ⎢ ⎥⎥\n",
       "⎢⎢1⎥, ⎢1⎥⎥\n",
       "⎢⎢ ⎥  ⎢ ⎥⎥\n",
       "⎣⎣1⎦  ⎣2⎦⎦"
      ]
     },
     "execution_count": 15,
     "metadata": {},
     "output_type": "execute_result"
    }
   ],
   "source": [
    "from sympy import init_printing, Matrix, symbols\n",
    "init_printing(use_latex = 'mathjax') \n",
    "\n",
    "A = Matrix([[1, 2, 3, 1], [1, 1, 2, 1], [1, 2, 3, 1]])\n",
    "imA = A.columnspace() \n",
    "print(\"L'image de A est le sous-espace engendré par \")\n",
    "imA"
   ]
  },
  {
   "cell_type": "markdown",
   "id": "8476b473",
   "metadata": {},
   "source": [
    "````{prf:definition} Rang d'une matrice \n",
    "```{index} Rang\n",
    "```\n",
    "```{index} Matrice ; rang\n",
    "```\n",
    "Soit ${\\bf A}\\in \\mathcal{M}_{m,n}(\\mathbb{R})$ Le\n",
    "rang de ${\\bf A}$, noté $\\mathrm{rang}({\\bf A})$, est le nombre maximal\n",
    "de colonnes de ${\\bf A}$ linéairement indépendantes. C'est aussi le\n",
    "nombre maximal de lignes linéairement indépendantes. On a donc\n",
    "$\\mathrm{rang}({\\bf A})\\le \\min\\{m,n\\}.$\n",
    "````"
   ]
  },
  {
   "cell_type": "code",
   "execution_count": 16,
   "id": "581f741b",
   "metadata": {
    "tags": [
     "im"
    ]
   },
   "outputs": [
    {
     "name": "stdout",
     "output_type": "stream",
     "text": [
      "Rang de A =  3\n"
     ]
    }
   ],
   "source": [
    "A = np.array([[2, 0, 7],[-1, -2, -5],[1, 4, -2]])\n",
    "print(\"Rang de A = \",np.linalg.matrix_rank(A))"
   ]
  },
  {
   "cell_type": "markdown",
   "id": "b9d99fd1",
   "metadata": {},
   "source": [
    "De la définition précédente, on tire le résultat fondamental suivant\n",
    "$\\dim\\left(\\mathrm{Im}({\\bf A})\\right)=\\mathrm{rang}({\\bf A}).$\n",
    "\n",
    "````{prf:example} \n",
    "\n",
    "Soit ${\\bf A}=\\begin{pmatrix} 1&0&-2\\\\0&1&0\\\\-1&0&2\\end{pmatrix}$.\\\n",
    "Manifestement, la première et la troisième colonne sont liées, tandis que\n",
    "les deux premières sont linéairement indépendantes. ${\\bf A}$, qui\n",
    "réalise une transformation linéaire de $\\mathbb R^3$ dans $\\mathbb R^3$, a\n",
    "donc pour image le plan\n",
    "$lin\\left (\\begin{pmatrix}1\\\\0\\\\-1 \\end{pmatrix},\\begin{pmatrix} 0\\\\1\\\\0 \\end{pmatrix}  \\right )$.\\\n",
    "${\\bf A}$ est donc de rang 2.\n",
    "````"
   ]
  }
 ],
 "metadata": {
  "jupytext": {
   "formats": "md:myst",
   "text_representation": {
    "extension": ".md",
    "format_name": "myst"
   }
  },
  "kernelspec": {
   "display_name": "Python 3",
   "language": "python",
   "name": "python3"
  },
  "language_info": {
   "codemirror_mode": {
    "name": "ipython",
    "version": 3
   },
   "file_extension": ".py",
   "mimetype": "text/x-python",
   "name": "python",
   "nbconvert_exporter": "python",
   "pygments_lexer": "ipython3",
   "version": "3.9.13"
  },
  "source_map": [
   11,
   25,
   34,
   73,
   79,
   91,
   127,
   130,
   147,
   150,
   160,
   164,
   173,
   177,
   186,
   190,
   199,
   277,
   284,
   301,
   305,
   337,
   341,
   399,
   405,
   458,
   491,
   531,
   536,
   621,
   631,
   647,
   651
  ]
 },
 "nbformat": 4,
 "nbformat_minor": 5
}