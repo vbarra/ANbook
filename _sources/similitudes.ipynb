{
 "cells": [
  {
   "cell_type": "code",
   "execution_count": 1,
   "id": "984fc936",
   "metadata": {},
   "outputs": [
    {
     "name": "stdout",
     "output_type": "stream",
     "text": [
      "Requirement already satisfied: sympy in /usr/local/lib/python3.11/site-packages (1.12)\r\n",
      "Requirement already satisfied: numpy in /usr/local/lib/python3.11/site-packages (1.23.5)\r\n",
      "Requirement already satisfied: matplotlib in /usr/local/lib/python3.11/site-packages (3.8.1)\r\n",
      "Requirement already satisfied: mpmath>=0.19 in /usr/local/lib/python3.11/site-packages (from sympy) (1.3.0)\r\n"
     ]
    },
    {
     "name": "stdout",
     "output_type": "stream",
     "text": [
      "Requirement already satisfied: contourpy>=1.0.1 in /usr/local/lib/python3.11/site-packages (from matplotlib) (1.0.7)\r\n",
      "Requirement already satisfied: cycler>=0.10 in /usr/local/lib/python3.11/site-packages (from matplotlib) (0.11.0)\r\n",
      "Requirement already satisfied: fonttools>=4.22.0 in /usr/local/lib/python3.11/site-packages (from matplotlib) (4.39.4)\r\n",
      "Requirement already satisfied: kiwisolver>=1.3.1 in /usr/local/lib/python3.11/site-packages (from matplotlib) (1.4.4)\r\n",
      "Requirement already satisfied: packaging>=20.0 in /usr/local/lib/python3.11/site-packages (from matplotlib) (23.1)\r\n",
      "Requirement already satisfied: pillow>=8 in /usr/local/lib/python3.11/site-packages (from matplotlib) (10.1.0)\r\n",
      "Requirement already satisfied: pyparsing>=2.3.1 in /usr/local/lib/python3.11/site-packages (from matplotlib) (3.0.9)\r\n",
      "Requirement already satisfied: python-dateutil>=2.7 in /usr/local/lib/python3.11/site-packages (from matplotlib) (2.8.2)\r\n"
     ]
    },
    {
     "name": "stdout",
     "output_type": "stream",
     "text": [
      "Requirement already satisfied: six>=1.5 in /usr/local/lib/python3.11/site-packages (from python-dateutil>=2.7->matplotlib) (1.16.0)\r\n"
     ]
    },
    {
     "name": "stdout",
     "output_type": "stream",
     "text": [
      "\r\n",
      "\u001b[1m[\u001b[0m\u001b[34;49mnotice\u001b[0m\u001b[1;39;49m]\u001b[0m\u001b[39;49m A new release of pip is available: \u001b[0m\u001b[31;49m23.2.1\u001b[0m\u001b[39;49m -> \u001b[0m\u001b[32;49m23.3.1\u001b[0m\r\n",
      "\u001b[1m[\u001b[0m\u001b[34;49mnotice\u001b[0m\u001b[1;39;49m]\u001b[0m\u001b[39;49m To update, run: \u001b[0m\u001b[32;49mpython3.11 -m pip install --upgrade pip\u001b[0m\r\n"
     ]
    }
   ],
   "source": [
    "# n'exécuter qu'une fois\n",
    "!pip3 install sympy numpy matplotlib\n"
   ]
  },
  {
   "cell_type": "markdown",
   "id": "0e85916c",
   "metadata": {},
   "source": [
    "# Similitudes\n",
    "\n",
    "L'objectif est encore une fois de transformer une matrice par des transformations simples en une matrice dont on connaît les valeurs propres, c'est-à-dire, une matrice triangulaire ou diagonale. Les transformations qui maintiennent le spectre d'une matrice sont des similitudes.\n",
    "\n",
    "\n",
    "```{prf:definition} Similitude\n",
    "Deux matrices carrées $A$ et $B$ sont dites *semblables* \n",
    "s'il existe une matrice $S$ non singulière telle que \n",
    "\n",
    "$B=S^{-1}AS$\n",
    "```\n",
    "```{index} Matrice;semblable\n",
    "```\n",
    "\n",
    "La transformation de $A$ vers $B$ est une *similitude*. En l'écrivant sous la forme $AS=SB$, on retrouve une généralisation de la définition des valeurs propres et des vecteurs propres. On a d'ailleurs le résultat fondamental :\n",
    "\n",
    "```{prf:property}\n",
    "Deux matrices semblables ont les mêmes valeurs propres\n",
    "```\n",
    "En effet, soit $x$ un vecteur propre de $A$ associé à la valeur propre $\\lambda$. On a donc $Ax=\\lambda x$, qui s'écrit $SBS^{-1}x=\\lambda x$, ce qui veut dire que $\\lambda$ est valeur propre de $B$ associé au vecteur propre $S^{-1}x$."
   ]
  },
  {
   "cell_type": "code",
   "execution_count": 2,
   "id": "ea7d66f6",
   "metadata": {},
   "outputs": [],
   "source": [
    "from sympy import Matrix\n",
    "A = Matrix([[2, 1], [1, 2]])\n",
    "S = Matrix([[1, 4], [0, 1]])"
   ]
  },
  {
   "cell_type": "markdown",
   "id": "24da923e",
   "metadata": {},
   "source": [
    "Pour $\\bf S$ inversible, on construit donc $\\bf{B=S^{-1}AS}$ semblable."
   ]
  },
  {
   "cell_type": "code",
   "execution_count": 3,
   "id": "5f566651",
   "metadata": {},
   "outputs": [],
   "source": [
    "B = S.inv() * A * S"
   ]
  },
  {
   "cell_type": "markdown",
   "id": "811bc2ee",
   "metadata": {},
   "source": [
    "On vérifie que $\\bf A$ et $\\bf B$ ont le même spectre"
   ]
  },
  {
   "cell_type": "code",
   "execution_count": 4,
   "id": "a9ece78f",
   "metadata": {},
   "outputs": [
    {
     "data": {
      "text/plain": [
       "({3: 1, 1: 1}, {3: 1, 1: 1})"
      ]
     },
     "execution_count": 4,
     "metadata": {},
     "output_type": "execute_result"
    }
   ],
   "source": [
    "A.eigenvals(), B.eigenvals()"
   ]
  },
  {
   "cell_type": "markdown",
   "id": "8d42725c",
   "metadata": {},
   "source": [
    "Les valeurs propres sont donc 1 et 3, de multiplicité 1 chacune.\n",
    "\n",
    "En revanche, les vecteurs propres sont différents"
   ]
  },
  {
   "cell_type": "code",
   "execution_count": 5,
   "id": "304b0381",
   "metadata": {},
   "outputs": [
    {
     "data": {
      "text/plain": [
       "[(1,\n",
       "  1,\n",
       "  [Matrix([\n",
       "   [-1],\n",
       "   [ 1]])]),\n",
       " (3,\n",
       "  1,\n",
       "  [Matrix([\n",
       "   [1],\n",
       "   [1]])])]"
      ]
     },
     "execution_count": 5,
     "metadata": {},
     "output_type": "execute_result"
    }
   ],
   "source": [
    "A.eigenvects()"
   ]
  },
  {
   "cell_type": "code",
   "execution_count": 6,
   "id": "1855f368",
   "metadata": {},
   "outputs": [
    {
     "data": {
      "text/plain": [
       "[(1,\n",
       "  1,\n",
       "  [Matrix([\n",
       "   [-5],\n",
       "   [ 1]])]),\n",
       " (3,\n",
       "  1,\n",
       "  [Matrix([\n",
       "   [-3],\n",
       "   [ 1]])])]"
      ]
     },
     "execution_count": 6,
     "metadata": {},
     "output_type": "execute_result"
    }
   ],
   "source": [
    "B.eigenvects()"
   ]
  },
  {
   "cell_type": "markdown",
   "id": "4dad3b0a",
   "metadata": {},
   "source": [
    "L'intérêt de ces transformations est double : \n",
    "- les valeurs propres sont inchangées\n",
    "- en supposant les vecteurs propres linéairement indépendants, la similitude associée à la matrice $X$ dont les colonnes sont les vecteurs propres transforme $A$ en une matrice diagonale dont les éléments diagonaux sont les valeurs propres de $A$ : $X^{-1}AX = \\Lambda$.\n",
    "\n",
    "\n",
    "Montrons maintenant sur un exemple que deux matrices semblables représentent la même transformation linéaire sur deux bases différentes : soit $P$ la matrice de projection dans $\\mathbb{R}^2$ sur la droite $L$ d'angle $\\theta$ : \n",
    "$P =\n",
    "\\left[\n",
    "\\begin{array}{cc}\n",
    "\\cos^2(\\theta) & \\cos(\\theta)\\sin(\\theta)\\\\\n",
    "\\cos(\\theta)\\sin(\\theta)& \\sin^2(\\theta)\n",
    "\\end{array}\n",
    "\\right]\n",
    "=uu^\\top \\quad\\mbox{avec}\\quad u=\\begin{pmatrix}\\cos(\\theta)\\\\ \\sin(\\theta)\\end{pmatrix}\n",
    "$\n",
    "\n",
    "Si on fait maintenant tourner la base canonique orthonormée d'un angle $\\theta$, la projection devient maintenant une projection sur l'axe horizontal et s'écrit\n",
    "\n",
    "$Q =\n",
    "\\left[\n",
    "\\begin{array}{cc}\n",
    "1&0\\\\\n",
    "0&0\\\\\n",
    "\\end{array}\n",
    "\\right]\n",
    "$\n",
    "\n",
    "Pour passer de $P$ à $Q$, on utilise la matrice de rotation d'angle $\\theta$ \n",
    "\n",
    "$R =\n",
    "\\left[\n",
    "\\begin{array}{cc}\n",
    "\\cos(\\theta) & -\\sin(\\theta)\\\\\n",
    "\\sin(\\theta)& \\cos(\\theta)\n",
    "\\end{array}\n",
    "\\right]\n",
    "$\n",
    "\n",
    "Le changement de base se traduit par : si $x$ est le vecteur de coordonnées dans la base de départ, et $u$ le vecteur de coordonnées dans la base d'arrivée, on a \n",
    "$=Ru$.\n",
    "\n",
    "Soit $y$ la projection de $x$ sur $L$ dans la base de départ, et $v$ ses coordonnées dans la base d'arrivée. Alors \n",
    "\n",
    "$\\begin{align*}\n",
    "y &= Px\\\\\n",
    "Rv&= PRu\\\\ \\Rightarrow v&=R^{-1}PRu=Qu\n",
    "\\end{align*}$\n",
    "\n",
    "et donc $Q=R^{-1}PR$ et $P$ et $Q$ ont les mêmes valeurs propres. Comme $Q$ est diagonale, on retrouve ici le résultat connu : toute matrice de projection sur une droite dans $\\mathbb{R}^2$ a pour valeurs propres 1 et 0, et pour vecteurs propres associés les colonnes de la matrice de rotation $R$, c'est-à-dire les directions de $L$ et $L^{\\bot}$ respectivement."
   ]
  }
 ],
 "metadata": {
  "jupytext": {
   "formats": "md:myst",
   "text_representation": {
    "extension": ".md",
    "format_name": "myst"
   }
  },
  "kernelspec": {
   "display_name": "Python 3",
   "language": "python",
   "name": "python3"
  },
  "language_info": {
   "codemirror_mode": {
    "name": "ipython",
    "version": 3
   },
   "file_extension": ".py",
   "mimetype": "text/x-python",
   "name": "python",
   "nbconvert_exporter": "python",
   "pygments_lexer": "ipython3",
   "version": "3.9.18"
  },
  "source_map": [
   13,
   17,
   42,
   46,
   49,
   51,
   54,
   56,
   62,
   66,
   68
  ]
 },
 "nbformat": 4,
 "nbformat_minor": 5
}