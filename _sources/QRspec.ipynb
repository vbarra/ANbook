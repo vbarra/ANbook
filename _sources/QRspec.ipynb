{
 "cells": [
  {
   "cell_type": "markdown",
   "id": "a6c6d6a9",
   "metadata": {},
   "source": [
    "# Puissances groupées et méthode QR\n",
    "\n",
    "On peut généraliser la méthode des puissances itérées à des itérations dites groupées, permettant d'identifier les vecteurs propres associés aux $p$ plus grandes valeurs propres\n",
    "en valeur absolue. A chaque itération, on applique la transformation $A$ à chacun des vecteurs orthonormés, et on orthogonalise (par Gram-Schmidt ou Householder, {\\it cf.} chapitre 4) le système résultant.\n",
    "\n",
    "\\subsection{Itération des puissances itérées}\n",
    "\n",
    "Soit $\\{q_1^{(k)}\\cdots q_p^{(k)}\\}$ un système de $p$ vecteurs orthonormés obtenu à l'itération $k$\n",
    "\\begin{itemize}\n",
    "    \\item construire le système $\\{Aq_1^{(k)}\\cdots Aq_p^{(k)}\\}$\n",
    "    \\item calculer les quotients de Rayleigh : $\\lambda_i={q^{(k)}_i}^\\top Aq_i^{(k)},\\quad 1\\leq i\\leq p$\n",
    "    \\item tester la convergence : $\\displaystyle\\max_{1\\leq i\\leq p} \\|Aq_i^{(k)}-\\lambda_i q_i^{(k)} \\|<Tol$\n",
    "    \\item orthogonaliser $\\{Aq_1^{(k)}\\cdots Aq_p^{(k)}\\} \\rightarrow \\{q_1^{(k+1)}\\cdots q_p^{(k+1)}\\}$\n",
    "\\end{itemize}\n",
    "\n",
    "%-----------------------------------\n",
    "\\subsection{Méthode QR}  %----------\n",
    "%-----------------------------------\n",
    "\n",
    "La méthode QR correspond au cas $p=n$ : soit $Q_k$ la matrice ($n\\times n$) dont les colonnes sont les vecteurs orthogonaux $q_i^{(k)}$ et soit $A_k=Q_k^\\top AQ_k$ la représentation de $A$ sur la base des $\\{q_i^{(k)}\\}$. On peut écrire alors (Gram-Schmidt) : \n",
    "$$\n",
    "AQ_k=Q_{k+1}R_{k+1}\n",
    "$$ \n",
    "où $R_{k+1}$ est triangulaire supérieure. Et ainsi \n",
    "\\begin{align*}\n",
    "A_k&=Q_k^\\top Q_{k+1}R_{k+1}=QR_{k+1}\\\\\n",
    "A_{k+1}&=Q_{k+1}^\\top AQ_{k+1}=R_{k+1}Q_k^\\top Q_{k+1}=R_{k+1}Q\n",
    "\\end{align*}\n",
    "En résumé, $Q$ est la matrice orthogonale qui permet de triangulariser $A_k$ et on écrit $A_{k+1}$ en inversant le produit $QR$. La méthode QR prend alors la forme particulièrement simple suivante :\n",
    "\\begin{itemize}\n",
    "    \\item $A_0=A$\n",
    "    \\item $A_k=Q_kR_k$ (par Gram-Schmidt par exemple)\n",
    "    \\item $A_{k+1}=R_kQ_k$\n",
    "    \\item test sur le plus grand élément non diagonal\n",
    "\\end{itemize}\n",
    "\\vskip 10pt\n",
    "Observons que $A_{k+1}=Q^\\top A_kQ$, ce qui implique que les matrices sont toutes semblables et que la suite des matrices  $Q$ converge vers la matrice des vecteurs propres. La matrice $A_k$ converge vers une matrice diagonale où les valeurs propres sont rangées dans l'ordre décroissant (Figure \\ref{52}). \n",
    "\n",
    "\\begin{figure}[htpb]\n",
    "\\begin{center}\n",
    "    \\includegraphics[width=22em]{QR.eps}\n",
    "\\end{center}\n",
    "\\caption{diagonalisation d'une matrice 8$\\times$8 par QR d'après \\cite{LGT:89}}\n",
    "\\label{52}\n",
    "\\end{figure}\n",
    "\n",
    "Les performances sont considérablement améliorées si on intègre deux modifications :\n",
    "\\begin{itemize}\n",
    "    \\item {\\gr décalage} de la matrice en prenant comme approximation de la plus petite valeur propre l'élément ($n\\times n$) de $A_k$\n",
    "    \\item transformation préalable de $A$ en une matrice {\\gr tridiagonale}. Les matrices $A_k$ restent tridiagonales et l'orthogonalisation s'effectue en $O(n)$ flops.\n",
    "\\end{itemize}"
   ]
  }
 ],
 "metadata": {
  "jupytext": {
   "formats": "md:myst",
   "text_representation": {
    "extension": ".md",
    "format_name": "myst"
   }
  },
  "kernelspec": {
   "display_name": "Python 3",
   "language": "python",
   "name": "python3"
  },
  "language_info": {
   "codemirror_mode": {
    "name": "ipython",
    "version": 3
   },
   "file_extension": ".py",
   "mimetype": "text/x-python",
   "name": "python",
   "nbconvert_exporter": "python",
   "pygments_lexer": "ipython3",
   "version": "3.9.13"
  },
  "source_map": [
   11
  ]
 },
 "nbformat": 4,
 "nbformat_minor": 5
}