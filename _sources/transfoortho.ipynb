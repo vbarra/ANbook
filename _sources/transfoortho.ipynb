{
 "cells": [
  {
   "cell_type": "markdown",
   "id": "89b1afd8",
   "metadata": {},
   "source": [
    "# Transformations orthogonales\n",
    "## Matrices orthogonales\n",
    "````{prf:definition} Matrice orthogonale\n",
    "Une matrice carrée ${\\bf H}$ est dite {orthogonale}\n",
    "si et seulement si ${\\bf H^\\top}{\\bf H}={\\bf H}{\\bf H^\\top} = \\mathbb I$\n",
    "````\n",
    "```{index} Matrice;orthogonale\n",
    "```\n",
    "```{index} Orthogonale;matrice\n",
    "```\n",
    "\n",
    "Une matrice orthogonale est donc une matrice carrée dont les colonnes sont orthonormées. Les matrices de rotation, de symétrie, de permutation et l'identité sont des exemples de matrices orthogonales.\n",
    "\n",
    "Une matrice orthogonale ${\\bf H}$ est naturellement inversible par définition, et l'inverse est ${\\bf H^{-1}}={\\bf H^\\top} $.\n",
    "\n",
    "````{prf:property} Propriété fondamentale\n",
    "Les transformations orthogonales\n",
    "sont des isométries, les normes (euclidiennes), les produits scalaires et les angles sont conservés : \n",
    "\n",
    "$({\\bf H} \\textrm{ orthogonale}) \\Leftrightarrow (\\forall {\\bf x}\\in \\mathbb R^n)\\\\|{\\bf Hx}\\|=\\|{\\bf x}\\|$\n",
    "````\n",
    "```{index} Transformation;orthogonale\n",
    "```\n",
    "```{index} Orthogonale;transformation\n",
    "```\n",
    "\n",
    "En effet, $\\|{\\bf Hx}\\|^2=({\\bf Hx)^\\top} ({\\bf Hx})={\\bf x^\\top H^\\top Hx}={\\bf x^\\top x}=\\|{\\bf x}\\|^2$.\n",
    "\n",
    "Cette propriété entraîne une stabilité numérique des méthodes utilisant ces transformations. On les utilise principalement pour :\n",
    "- orthonormaliser un système de générateurs,\n",
    "- résoudre un systèmes aux équations normales,\n",
    "- triangulariser un système mal conditionné,\n",
    "- calculer les valeurs propres d'une matrice."
   ]
  },
  {
   "cell_type": "code",
   "execution_count": 1,
   "id": "2a44e90a",
   "metadata": {},
   "outputs": [
    {
     "data": {
      "text/latex": [
       "$\\displaystyle \\left[\\begin{matrix}1 & 0 & 0\\\\0 & 1 & 0\\\\0 & 0 & 1\\end{matrix}\\right]$"
      ],
      "text/plain": [
       "Matrix([\n",
       "[1, 0, 0],\n",
       "[0, 1, 0],\n",
       "[0, 0, 1]])"
      ]
     },
     "execution_count": 1,
     "metadata": {},
     "output_type": "execute_result"
    }
   ],
   "source": [
    "from sympy import init_printing, symbols, Matrix, sin, cos, sqrt, Rational\n",
    "\n",
    "Q = Matrix([[0, 0, 1], [1, 0, 0], [0, 1, 0]])\n",
    "Q.transpose() * Q"
   ]
  },
  {
   "cell_type": "code",
   "execution_count": 2,
   "id": "87f3d81f",
   "metadata": {},
   "outputs": [
    {
     "data": {
      "text/latex": [
       "$\\displaystyle \\left[\\begin{matrix}\\sin^{2}{\\left(\\theta \\right)} + \\cos^{2}{\\left(\\theta \\right)} & 0\\\\0 & \\sin^{2}{\\left(\\theta \\right)} + \\cos^{2}{\\left(\\theta \\right)}\\end{matrix}\\right]$"
      ],
      "text/plain": [
       "Matrix([\n",
       "[sin(theta)**2 + cos(theta)**2,                             0],\n",
       "[                            0, sin(theta)**2 + cos(theta)**2]])"
      ]
     },
     "execution_count": 2,
     "metadata": {},
     "output_type": "execute_result"
    }
   ],
   "source": [
    "theta = symbols('theta')\n",
    "R = Matrix([[cos(theta), -sin(theta)], [sin(theta), cos(theta)]])\n",
    "R.transpose() * R"
   ]
  },
  {
   "cell_type": "markdown",
   "id": "bb46dfa8",
   "metadata": {},
   "source": [
    "Si les colonnes sont orthogonales mais pas normées, la matrice n'est pas orthogonale"
   ]
  },
  {
   "cell_type": "code",
   "execution_count": 3,
   "id": "a936e6d0",
   "metadata": {},
   "outputs": [
    {
     "data": {
      "text/latex": [
       "$\\displaystyle \\left[\\begin{matrix}2 & 0\\\\0 & 2\\end{matrix}\\right]$"
      ],
      "text/plain": [
       "Matrix([\n",
       "[2, 0],\n",
       "[0, 2]])"
      ]
     },
     "execution_count": 3,
     "metadata": {},
     "output_type": "execute_result"
    }
   ],
   "source": [
    "Q = Matrix([[1, 1], [1, -1]])\n",
    "Q.transpose() * Q"
   ]
  },
  {
   "cell_type": "markdown",
   "id": "461b3204",
   "metadata": {},
   "source": [
    " Il est cependant facile de les normer pour obtenir une base orthonormée de $\\mathbb{R}^2$\n",
    "\n",
    "$\\sqrt { { \\left( 1 \\right)  }^{ 2 }+{ \\left( 1 \\right)  }^{ 2 } } =\\sqrt { 2 } \\\\ \\sqrt { { \\left( 1 \\right)  }^{ 2 }+{ \\left( -1 \\right)  }^{ 2 } } =\\sqrt { 2 }$\n",
    "$Q=\\frac { 1 }{ \\sqrt { 2 }  } \\begin{bmatrix} 1 & 1 \\\\ 1 & -1 \\end{bmatrix}$"
   ]
  },
  {
   "cell_type": "code",
   "execution_count": 4,
   "id": "6cdd051f",
   "metadata": {},
   "outputs": [
    {
     "data": {
      "text/latex": [
       "$\\displaystyle \\left[\\begin{matrix}\\frac{\\sqrt{2}}{2} & \\frac{\\sqrt{2}}{2}\\\\\\frac{\\sqrt{2}}{2} & - \\frac{\\sqrt{2}}{2}\\end{matrix}\\right]$"
      ],
      "text/plain": [
       "Matrix([\n",
       "[sqrt(2)/2,  sqrt(2)/2],\n",
       "[sqrt(2)/2, -sqrt(2)/2]])"
      ]
     },
     "execution_count": 4,
     "metadata": {},
     "output_type": "execute_result"
    }
   ],
   "source": [
    "Q = (1 / sqrt(2)) * Matrix([[1, 1], [1, -1]])\n",
    "Q "
   ]
  },
  {
   "cell_type": "markdown",
   "id": "3f4eea1d",
   "metadata": {},
   "source": [
    "Soit ${\\bf Q}\\in\\mathcal{M}_n(\\mathbb R)$ orthogonale, de colonnes \n",
    "${\\bf q_1},{\\bf q_2},\\ldots,{\\bf q_n}$. On a alors, pour tout ${\\bf x}\\in\\mathbb R^n$, une représentation unique sur la base \n",
    "orthonormée telle que\n",
    "\n",
    "${\\bf x}=\\displaystyle\\sum_{i=1}^n ({\\bf q_i^\\top} {\\bf x}){\\bf q_i}$\n",
    "\n",
    " $({\\bf q_i^\\top} {\\bf x}){\\bf q_i}$ est la projection orthogonale de ${\\bf x}$ sur l'axe ${\\bf q_i}$. Cette représentation se\n",
    "généralise aisement à une base orthonormée quelconque ${\\bf q_1},{\\bf q_2},\\ldots,{\\bf q_r}$ d'un sous-espace de dimension $r$. \n",
    "\n",
    "## Orthogonalisation de Gram-Schmidt\n",
    "```{index} Orthogonalisation de Gram-Schmidt\n",
    "```\n",
    "```{index} Gram-Schmidt;orthogonalisation\n",
    "```\n",
    "\n",
    "### Algorithme\n",
    "A partir d'une famille de $p$ vecteurs linéairement indépendants de $\\mathbb R^n$, représentés par une matrice ${\\bf A}\\in\\mathcal{M}_{n,p}(\\mathbb R)$ de rang $p$, on peut construire une famille $\\{{\\bf q_1}\\cdots {\\bf q_p}\\}$, base orthonormée de $Im({\\bf A})$. C'est un outil fondamental pour la résolution de systèmes surdéterminés.\n",
    "\n",
    "L'idée générale est donc de construire une base orthonormée du sous-espace image d'un ensemble de vecteurs. L'intérêt numérique est que cette construction équivaut à triangulariser la matrice formée par ces vecteurs. L'algorithme {prf:ref}`GS` et la figure suivante présentent le procédé d'orthonormalisation de Gram-Schmidt qui, s'il est simple à comprendre, ne présente qu'un intérêt académique puisqu'il est très coûteux. En pratique, on utilise la méthode de factorisation QR qui permet d'atteindre le même objectif grâce à des transformations orthogonales élémentaires (rotations de Givens ou transformations de  Householder) numériquement stables et seulement deux fois plus chères que la méthode de Gauss.\n",
    "\n",
    "Le principe de Gram-Schmidt est de calculer, pour $j\\in[\\![2,p]\\!]$,  chaque vecteur ${\\bf q_j}$ en soustrayant à  ${\\bf  A_{\\bullet,j}}$ ses projections orthogonales sur les $j-1$\n",
    " premiers vecteurs de la base orthonormée déjà calculés, puis en normant le résultat.\n",
    "\n",
    "\n",
    "```{prf:algorithm} Procédé d'orthonormalisation de Gram-Schmidt - version de base\n",
    ":label: GS\n",
    "**Entrée : **  ${\\bf A}\\in\\mathcal{M}_{n,p}(\\mathbb R)$ de rang $p$\n",
    "\n",
    "**Sortie : ** ${\\bf Q_1}\\in\\mathcal{M}_{n,p}(\\mathbb R)$ à colonnes orthonormées, ${\\bf R_1}\\in\\mathcal{M}_{p}(\\mathbb R)$ triangulaire supérieure\n",
    "\n",
    "1. $r_{11} = \\\\{\\bf A_{\\bullet,1}}\\|$\n",
    "2. ${\\bf q_{{1}}} = \\frac{{\\bf A_{\\bullet,1}}}{r_{11}}$\n",
    "3. Pour $j$=2 à $p$\n",
    "    1. ${\\bf p_j}={\\bf A_{\\bullet,j}}$\n",
    "    2. Pour $i$=1 à $j-1$\n",
    "        1. $r_{ij}={\\bf A_{\\bullet,j}^\\top}{\\bf q_{{i}}}$\n",
    "        2. ${\\bf p_j}={\\bf p_j}- r_{ij}{\\bf q_{{i}}}$\n",
    "    3. $r_{jj} = \\|{\\bf p_j}\\|$\n",
    "    4. ${\\bf q_{{j}}} = \\frac{{\\bf p_j}}{r_{jj}}$\n",
    "```\n",
    "\n",
    "\n",
    "![](./images/gs.png)\n",
    "\n",
    "\n",
    "\n",
    "On remarque (voir boucles de l'algorithme) que la matrice ${\\bf R_1}$ est triangulaire supérieure. \n",
    "\n",
    "Gram-Schmidt construit donc une matrice ${\\bf Q_1}\\in\\mathcal{M}_{n,p}(\\mathbb R)$ à colonnes orthormées et une matrice ${\\bf R_1}\\in\\mathcal{M}_{p}(\\mathbb R)$ telles que ${\\bf Q_1^\\top}{\\bf A} = {\\bf R_1}$ soit ${\\bf A}$=${\\bf Q_1R_1}$.\n",
    "\n",
    "````{prf:example}\n",
    "Soit ${\\bf A} = \\begin{pmatrix} 1&1\\\\1&0\\\\1&1\\end{pmatrix}$. \n",
    "\n",
    "Alors ${\\bf A} ={\\bf QR}$ avec ${\\bf Q} = \\begin{pmatrix} \\textcolor{blue}{\\frac{1}{\\sqrt{3}}}&\\textcolor{magenta}{\\frac{1}{\\sqrt{6}}}\\\\\\textcolor{blue}{\\frac{1}{\\sqrt{3}}}&\\textcolor{magenta}{-\\frac{\\sqrt 2}{\\sqrt 3}}\\\\\\textcolor{blue}{\\frac{1}{\\sqrt{3}}}&\\textcolor{magenta}{\\frac{1}{\\sqrt{6}}}\\end{pmatrix}$ et ${\\bf R} = \\begin{pmatrix} \\textcolor{red}{\\sqrt{3}}&\\textcolor{orange}{\\frac{2}{\\sqrt{3}}}\\\\0&\\textcolor{cyan}{\\sqrt{\\frac{2}{3}}}\\end{pmatrix}$. En effet : \n",
    "\n",
    "1. $\\textcolor{red}{r_{11}} = \\|{\\bf A_{\\bullet,1}}\\| = \\textcolor{red}{\\sqrt{3}}$\n",
    "2. $\\textcolor{blue}{{\\bf q_{1}}}= \\frac{1}{\\sqrt{3}}{\\bf A_{\\bullet,1}}= \\textcolor{blue}{\\frac{1}{\\sqrt{3}}\\begin{pmatrix}1\\\\1\\\\1\\end{pmatrix}}$\n",
    "3. $\\textcolor{orange}{r_{12}}={\\bf A_{\\bullet,2}^\\top q_1}=\\begin{pmatrix}1&0&1\\end{pmatrix}.\\frac{1}{\\sqrt{3}}\\begin{pmatrix}1\\\\1\\\\1\\end{pmatrix} =  \\textcolor{orange}{\\frac{2}{\\sqrt{3}}}$\n",
    "4. ${\\bf p_2}={\\bf A_{\\bullet,2}}- r_{12}{\\bf q_{{1}}}=\\begin{pmatrix}1\\\\0\\\\1\\end{pmatrix}-\\frac{2}{\\sqrt{3}}.\\frac{1}{\\sqrt{3}}\\begin{pmatrix}1\\\\1\\\\1\\end{pmatrix}=\\begin{pmatrix}\\frac{1}{3}\\\\-\\frac{2}{3}\\\\\\frac{1}{3}\\end{pmatrix}$\n",
    "5. $\\textcolor{cyan}{r_{22}} = \\|{\\bf p_2}\\|= \\textcolor{cyan}{\\sqrt{\\frac{2}{3}}}$\n",
    "6. $\\textcolor{magenta}{{\\bf q_{2}}} = \\frac{{\\bf p_2}}{r_{22}} = \\textcolor{magenta}{\\begin{pmatrix}\\frac{1}{\\sqrt{6}}\\\\-\\frac{\\sqrt 2}{\\sqrt 3}\\\\\\frac{1}{\\sqrt{6}}\\end{pmatrix}}$ \n",
    "````"
   ]
  },
  {
   "cell_type": "code",
   "execution_count": 5,
   "id": "7915ae15",
   "metadata": {},
   "outputs": [
    {
     "name": "stdout",
     "output_type": "stream",
     "text": [
      "A= [[0.2016 0.3931 0.7607 0.5575]\n",
      " [0.3255 0.9278 0.4887 0.9957]\n",
      " [0.7993 0.7302 0.9729 0.0213]\n",
      " [0.0384 0.2897 0.2959 0.9919]] \n",
      "\n",
      "Q= [[ 0.2272  0.2203  0.8669 -0.3852]\n",
      " [ 0.3669  0.8069 -0.4027 -0.2284]\n",
      " [ 0.901  -0.402  -0.0684  0.1478]\n",
      " [ 0.0433  0.3726  0.2858  0.8818]] \n",
      "\n",
      "R= [[0.8871 1.1003 1.2416 0.5541]\n",
      " [0.     0.6495 0.281  1.2872]\n",
      " [0.     0.     0.4806 0.3643]\n",
      " [0.     0.     0.     0.4356]] \n",
      "\n",
      "Q^TQ= [[ 1.0000e+00 -4.0042e-16 -6.9860e-17  1.0468e-15]\n",
      " [-4.0042e-16  1.0000e+00  8.8235e-16 -8.3187e-16]\n",
      " [-6.9860e-17  8.8235e-16  1.0000e+00 -2.6940e-15]\n",
      " [ 1.0468e-15 -8.3187e-16 -2.6940e-15  1.0000e+00]] \n",
      "\n",
      "Q^TQ= [[ 1.0000e+00 -4.0042e-16 -6.9860e-17  1.0468e-15]\n",
      " [-4.0042e-16  1.0000e+00  8.8235e-16 -8.3187e-16]\n",
      " [-6.9860e-17  8.8235e-16  1.0000e+00 -2.6940e-15]\n",
      " [ 1.0468e-15 -8.3187e-16 -2.6940e-15  1.0000e+00]] \n",
      "\n",
      "Norme de I-Q^TQ =  2.693977384921376e-15\n",
      "Norme infinie de QR-A =  1.1102230246251565e-16\n"
     ]
    }
   ],
   "source": [
    "import numpy as np\n",
    "np.set_printoptions(precision=4)\n",
    "\n",
    "def GramSchmidt(A):\n",
    "    n = A.shape[1] \n",
    "    R = np.zeros([n,n])\n",
    "    p = np.zeros(A.shape)\n",
    "    Q = np.zeros(A.shape)\n",
    "    \n",
    "    for j in range(n):     \n",
    "        p[:,j] = A[:,j]\n",
    "        for i in range(j):  \n",
    "            R[i,j] = np.dot(Q[:,i].T,A[:,j])\n",
    "            p[:,j] = p[:,j] - R[i,j]*Q[:,i]\n",
    "        \n",
    "        R[j,j] = np.linalg.norm(p[:,j],2)\n",
    "        Q[:,j] = p[:,j]/R[j,j]             \n",
    "    \n",
    "    return Q, R\n",
    "\n",
    "n = 4\n",
    "A = np.random.rand(n,n)\n",
    "Q, R = GramSchmidt(A)\n",
    "print(\"A=\",A,\"\\n\")\n",
    "print(\"Q=\",Q,\"\\n\")\n",
    "print(\"R=\",R,\"\\n\")\n",
    "print(\"Q^TQ=\",Q.transpose()@Q,\"\\n\")\n",
    "\n",
    "# On vérifie à quel point Q est orthogonale\n",
    "print(\"Q^TQ=\",Q.transpose()@Q,\"\\n\")\n",
    "print(\"Norme de I-Q^TQ = \", np.max(np.abs(np.dot(Q.T,Q)-np.eye(n))))\n",
    "\n",
    "#On vérifie à quel point A=QR\n",
    "print(\"Norme infinie de QR-A = \", np.max(np.abs(np.dot(Q,R)-A)))"
   ]
  },
  {
   "cell_type": "markdown",
   "id": "9f00e57e",
   "metadata": {},
   "source": [
    "Suivant la matrice $\\bf A$, la méthode de Gram-Schmidt classique précédente peut être instable.\n",
    "\n",
    "Considérons par exemple la matrice suivante, dite matrice de Hilbert"
   ]
  },
  {
   "cell_type": "code",
   "execution_count": 6,
   "id": "4dd32107",
   "metadata": {},
   "outputs": [],
   "source": [
    "def Hilbert(n):\n",
    "    A = np.zeros([n,n])\n",
    "    for i in range(n):\n",
    "        for j in range(n):\n",
    "            A[i,j] = 1./(i+j+1)\n",
    "    return A"
   ]
  },
  {
   "cell_type": "markdown",
   "id": "514fd4db",
   "metadata": {},
   "source": [
    "On applique la méthode de Gram-Schmidt, et on vérifie à quel point $\\bf QR$ est proche de $\\bf A$, et $\\bf Q$ est orthogonale."
   ]
  },
  {
   "cell_type": "code",
   "execution_count": 7,
   "id": "5bfbf16e",
   "metadata": {},
   "outputs": [
    {
     "name": "stdout",
     "output_type": "stream",
     "text": [
      "Norme de QR-A =  5.551115123125783e-17 \n",
      "\n",
      "Norme de Q^T*Q-I =  0.9999670638304938\n"
     ]
    }
   ],
   "source": [
    "n = 8\n",
    "A = Hilbert(n)\n",
    "Q, R = GramSchmidt(A)\n",
    "print('Norme de QR-A = ',np.max(np.abs(np.dot(Q,R)-A)),\"\\n\")\n",
    "print(\"Norme de Q^T*Q-I = \",np.max(np.abs(np.dot(Q.T,Q)-np.eye(n))))"
   ]
  },
  {
   "cell_type": "markdown",
   "id": "3d1af1ea",
   "metadata": {},
   "source": [
    "La factorisation est précise, mais $\\bf Q$ est loin d'être orthogonale."
   ]
  },
  {
   "cell_type": "code",
   "execution_count": 8,
   "id": "fbbc7fdb",
   "metadata": {},
   "outputs": [
    {
     "name": "stdout",
     "output_type": "stream",
     "text": [
      "[[ 2.2204e-16 -7.1907e-16  2.1061e-16  1.2854e-13 -3.8781e-12  6.2623e-11\n",
      "   9.3604e-10 -1.1228e-09]\n",
      " [-7.1907e-16 -1.1102e-16  3.3479e-14 -3.8756e-13  2.9006e-12 -4.7162e-12\n",
      "  -7.8626e-10  8.3957e-10]\n",
      " [ 2.1061e-16  3.3479e-14 -2.2204e-16 -7.5044e-12  1.8006e-10 -3.3977e-09\n",
      "   6.5369e-08 -6.7247e-08]\n",
      " [ 1.2854e-13 -3.8756e-13 -7.5044e-12 -2.2204e-16  5.2271e-09 -2.0147e-07\n",
      "   6.2067e-06 -6.4720e-06]\n",
      " [-3.8781e-12  2.9006e-12  1.8006e-10  5.2271e-09 -1.1102e-16 -1.1055e-05\n",
      "   7.0152e-04 -7.4979e-04]\n",
      " [ 6.2623e-11 -4.7162e-12 -3.3977e-09 -2.0147e-07 -1.1055e-05  0.0000e+00\n",
      "   5.7672e-02 -6.5681e-02]\n",
      " [ 9.3604e-10 -7.8626e-10  6.5369e-08  6.2067e-06  7.0152e-04  5.7672e-02\n",
      "  -3.3307e-16 -9.9997e-01]\n",
      " [-1.1228e-09  8.3957e-10 -6.7247e-08 -6.4720e-06 -7.4979e-04 -6.5681e-02\n",
      "  -9.9997e-01  0.0000e+00]]\n"
     ]
    }
   ],
   "source": [
    "print(np.dot(Q.T,Q)-np.eye(n))"
   ]
  },
  {
   "cell_type": "markdown",
   "id": "fedb4a9c",
   "metadata": {},
   "source": [
    "### Gram-Schmidt sur $\\mathbb{R}^n$\n",
    "Il est possible de compléter ${\\bf q_1}\\cdots {\\bf q_p}$ en une base orthonormée de $\\mathbb R^n$, en continuant la procédure de Gram-Schmidt avec $n-p$ vecteurs arbitraires, mais tels que les $n$ colonnes formées avec les ${\\bf A_{\\bullet,j}}$ soient linéairement indépendantes. Soit ${\\bf Q_2}$ la matrice des $n-p$ derniers vecteurs orthonormés. On a alors bien :\n",
    "\n",
    "${\\bf A^\\top} {\\bf Q_2}={\\bf R_1^\\top} {\\bf Q_1^\\top} {\\bf Q_2}=0$ ce qui montre que :\n",
    "\n",
    "${\\bf A}={\\bf QR}=[{\\bf Q_1}\\ {\\bf Q_2}]\\cdot\\left [\\begin{array}{c}{\\bf R_1} \\\\{\\bf 0} \\\\\\end{array}\\right]={\\bf Q_1R_1}$.\n",
    "\n",
    "```{important}\n",
    "Les colonnes de ${\\bf Q_1}$ forment une base orthonormée de $Im({\\bf A})$, et les colonnes de ${\\bf Q_2}$ forment \n",
    "une base orthonormée de $Ker({\\bf A^\\top})$.\n",
    "```"
   ]
  },
  {
   "cell_type": "code",
   "execution_count": 9,
   "id": "f5628305",
   "metadata": {},
   "outputs": [
    {
     "data": {
      "text/latex": [
       "$\\displaystyle \\left[\\begin{matrix}\\frac{1}{3} & - \\frac{2}{3}\\\\\\frac{2}{3} & - \\frac{1}{3}\\\\\\frac{2}{3} & \\frac{2}{3}\\end{matrix}\\right]$"
      ],
      "text/plain": [
       "Matrix([\n",
       "[1/3, -2/3],\n",
       "[2/3, -1/3],\n",
       "[2/3,  2/3]])"
      ]
     },
     "execution_count": 9,
     "metadata": {},
     "output_type": "execute_result"
    }
   ],
   "source": [
    "Q = Rational(1, 3) * Matrix([[1, -2], [2, -1], [2, 2]])\n",
    "Q"
   ]
  },
  {
   "cell_type": "markdown",
   "id": "cb427bfe",
   "metadata": {},
   "source": [
    "Les colonnes de $Q$ forment une base de $\\mathbb{R}^2$ (dans $\\mathbb{R}^3$). Pour obtenir une matrice orthogonale, il faut compléter par un vecteur normal au plan défini par ces deux colonnes, et unitaire."
   ]
  },
  {
   "cell_type": "code",
   "execution_count": 10,
   "id": "a63c2f27",
   "metadata": {},
   "outputs": [
    {
     "data": {
      "text/latex": [
       "$\\displaystyle \\left[\\begin{matrix}\\frac{1}{3} & - \\frac{2}{3} & \\frac{2}{3}\\\\\\frac{2}{3} & - \\frac{1}{3} & - \\frac{2}{3}\\\\\\frac{2}{3} & \\frac{2}{3} & \\frac{1}{3}\\end{matrix}\\right]$"
      ],
      "text/plain": [
       "Matrix([\n",
       "[1/3, -2/3,  2/3],\n",
       "[2/3, -1/3, -2/3],\n",
       "[2/3,  2/3,  1/3]])"
      ]
     },
     "execution_count": 10,
     "metadata": {},
     "output_type": "execute_result"
    }
   ],
   "source": [
    "Q = Rational(1, 3) * Matrix([[1, -2, 2], [2, -1, -2], [2, 2, 1]])\n",
    "Q"
   ]
  },
  {
   "cell_type": "markdown",
   "id": "e8c89b01",
   "metadata": {},
   "source": [
    "### Retour sur le problème aux moindres carrés\n",
    "Appliqué au problème des moindres carrés, le système aux équations normales s'écrit donc \n",
    "\n",
    "$\\begin{eqnarray*}\n",
    "{\\bf A^\\top Ax}&=& {\\bf A^\\top b}\\\\\n",
    "{\\bf (Q_1R_1)^\\top (Q_1R_1)x}&=& {\\bf (Q_1R_1)^\\top b}\\\\\n",
    "{\\bf R_1^\\top Q_1^\\top Q_1R_1x}&=& {\\bf R_1^\\top Q_1^\\top b}\\\\\n",
    "{\\bf R_1^\\top R_1x}&=& {\\bf R_1^\\top Q_1^\\top b}\\\\\n",
    "{\\bf R_1x}&=& {\\bf Q_1^\\top b}\n",
    "\\end{eqnarray*}$\n",
    "\n",
    "La dernière simplification étant possible car ${\\bf R_1}$ est inversible (trangulaire supérieure, les éléments de la diagonale étant des normes, donc strictement positifs). La solution du \n",
    "problème des moindres carrés est solution du système triangulaire \n",
    "\n",
    "${\\bf R_1x}= {\\bf Q_1^\\top b}$\n",
    "et le calcul de l'erreur donne\n",
    "\n",
    "$\\|{\\bf e}\\|^2=\\|{\\bf b}\\|^2-\\displaystyle\\sum_{i=1}^p  ({\\bf b^\\top} {\\bf q_i})^2$\n",
    "\n",
    "## Transformations de Householder\n",
    "```{index} Transformation;de Householder\n",
    "```\n",
    "On peut interpréter la méthode de Gram-Schmidt comme une méthode de triangularisation de la matrice ${\\bf A}$, au même titre que la méthode de Gauss. Il est possible de réorganiser les calculs en construisant des transformations élémentaires orthogonales qui effectuent cette triangularisation colonne par colonne (ou élément par élément). Les symétries de Householder\n",
    "et les rotations de Givens sont des exemples simples et intéressants de telles transformations, car elles conduisent à des algorithmes numériquement plus stables que la méthode de Gram-Schmidt.\n",
    "\n",
    "```{margin} \n",
    "![](./images/householder.png)\n",
    "```\n",
    "````{prf:definition} Matrice de Householder\n",
    "Une matrice de Householder\n",
    "est une matrice carrée ${\\bf H}$ qui s'écrit ${\\bf H}=\\mathbb I-2{\\bf P}$, où ${\\bf P}$ est\n",
    "la matrice de projection\n",
    "sur la droite engendrée par un vecteur ${\\bf v}$ non nul.\n",
    "````\n",
    "```{index} Matrice;de projection\n",
    "```\n",
    "```{index} Matrice;de Householder\n",
    "```\n",
    "On vérifie  que ${\\bf H}$ représente une symétrie\n",
    "par rapport au sous-espace ${\\bf v^\\perp}$.\n",
    "```{index} Symétrie\n",
    "```\n",
    "\n",
    "\n",
    "Le théorème suivant montre qu'il est toujours possible de trouver une matrice de Householder\n",
    "permettant de transformer un vecteur quelconque en un vecteur colinéaire à un vecteur donné.\n",
    "\n",
    "````{prf:theorem} \n",
    "Soient ${\\bf f}$ et ${\\bf e}$ deux vecteurs non colinéaires de $\\mathbb{R}^n$; avec $\\|{\\bf e}\\|_2=1$. Il est alors possible de trouver ${\\bf u}\\in \\mathbb{R}^n$ tel que :\n",
    "1. $\\|{\\bf u}\\|_2=1$\n",
    "2. ${\\bf H(u)f}=\\alpha {\\bf e}$\n",
    "````\n",
    "\n",
    "````{prf:proof}\n",
    "Remarquons tout d'abord que si ${\\bf H(u)}$ est une matrice de Householder, alors ${\\bf H(u)f}={\\bf f-2u(u^\\top f)}$ et $\\|{\\bf H(u)f}\\|_2=\\|{\\bf f}\\|_2$.\n",
    "\n",
    "Posons alors $\\mid\\alpha\\mid=\\|{\\bf f}\\|_2$. On cherche alors ${\\bf u}$ tel que ${\\bf H(u)f}=\\alpha {\\bf e}$, soit \n",
    "\n",
    "$\\begin{align*}\n",
    "{\\bf f-2u(u^\\top f)}&=\\alpha {\\bf e}\\\\\n",
    "{\\bf u}&=\\frac{1}{2{\\bf u^\\top f}}({\\bf f-}\\alpha {\\bf e})\n",
    "\\end{align*}$\n",
    "\n",
    "Si $\\beta={\\bf u^\\top f}$, en multipliant à gauche par ${\\bf f^\\top} $ :\n",
    "$2\\beta^2=\\alpha^2-\\alpha {\\bf f^\\top e}$\n",
    "\n",
    "et $\\beta$ existe si $\\alpha^2-\\alpha {\\bf f^\\top e}>0$. Or l'inégalité de Cauchy-Schwarz donne\n",
    "\n",
    "$\\mid {\\bf f^\\top e}\\mid\\leq\\|{\\bf f}\\|_2\\|{\\bf e}\\|_2=\\|\\alpha\\|$\n",
    "\n",
    "et l'inégalité est de plus stricte par hypothèse (${\\bf f}$ et ${\\bf e}$ non colinéaires). Ainsi :\n",
    "\n",
    "${\\bf u}=\\frac{1}{2\\beta}({\\bf f}-\\alpha {\\bf e)}$ répond à la question.\n",
    "````\n",
    " \n",
    "```{prf:remark}\n",
    ":class: dropdown\n",
    "Si ${\\bf f}$ et ${\\bf  e}$ sont colinéaires, ${\\bf H}=\\mathbb I$ ou ${\\bf H}=\\mathbb I-2{\\bf ee^\\top }$ répondent à la question.\n",
    "``` \n",
    "\n",
    "L'algorithme d'orthonormalisation  de ${\\bf A}$ par matrices de Householder  opère alors colonne par colonne, et transforme itérativement ${\\bf A}$ en une matrice triangulaire supérieure.\n",
    "\n",
    "\n",
    "On l'illustre dans la suite (algorithme {prf:ref}`QR`) dans le cas où ${\\bf A}\\in\\mathcal{M}_n(\\mathbb R)$ est de rang plein.\n",
    "\n",
    "```{prf:algorithm} Factorisation QR par matrices de Householder\n",
    ":label: QR\n",
    "**Entrée : **  ${\\bf A}\\in\\mathcal{M}_n(\\mathbb R)$\n",
    "\n",
    "**Sortie : **  ${\\bf Q}\\in\\mathcal{M}_n(\\mathbb R)$ orthogonale, ${\\bf R}\\in\\mathcal{M}_n(\\mathbb R)$ triangulaire supérieure\n",
    "\n",
    "1. ${\\bf A^{(1)}}={\\bf A}$\n",
    "2. Pour $j=1$ à $n-1$\n",
    "    1. Soit ${\\bf f_j}\\in \\mathbb R^{n-j+1}$ le vecteur commençant à l'élément $(j,j)$ de ${\\bf A^{(j)}}$\n",
    "    2. On construit ${\\bf {\\tilde H^{(j)}}}\\in\\mathcal{M}_{n-j+1}(\\mathbb R)$ telle que ${\\bf \\tilde{H^{(j)}}f_j} = \\|{\\bf f_j}\\ {\\bf e^{(j)}_1}$, ${\\bf e^{(j)}_1}$ premier vecteur de la base canonique de $\\mathbb R^{n-j+1}$\n",
    "    3. On construit \n",
    "    ![](./images/h.png)\n",
    "    4. On calcule ${\\bf A^{(j+1)}} = {{\\bf H^{(j)}}\\bf A^{(j)}}$\n",
    "\n",
    "3. ${\\bf R}={\\bf A^{(n-1)}}$ et ${\\bf Q} =  {\\bf {H^{(1)}}^\\top}{\\bf {H^{(2)}}^\\top} \\cdots  {\\bf {H^{(n-1)}}^\\top}$\n",
    "```\n",
    "\n",
    "A l'issue des $n-1$ itérations, on a effectué les produits ${\\bf H^{(n-1)}} \\cdots {\\bf H^{(2)}} {\\bf H^{(1)}}$ pour obtenir une matrice triangulaire supérieure ${\\bf R}\\in\\mathcal{M}_n(\\mathbb R)$ à partir de ${\\bf A}$. Donc :\n",
    "\n",
    "${\\bf H^{(n-1)}} \\cdots {\\bf H^{(2)}} {\\bf H^{(1)}}{\\bf A} = {\\bf R}$\n",
    "\n",
    "De plus les ${\\bf H^{(j)}}, j\\in[\\![1, n-1]\\!]$ sont orthogonales donc\n",
    "\n",
    "${\\bf A} ={\\bf {H^{(1)}}^\\top}{\\bf {H^{(2)}}^\\top} \\cdots  {\\bf {H^{(n-1)}}^\\top} {\\bf R}$\n",
    "\n",
    "Le produit des matrices ${\\bf{ H^{(j)}}^\\top}$ est également une matrice orthogonale, et on pose \n",
    "\n",
    "${\\bf Q} = {\\bf {H^{(1)}}^\\top}{\\bf {H^{(2)}}^\\top} \\cdots  {\\bf {H^{(n-1)}}^\\top}$\n",
    "\n",
    "pour finalement obtenir  ${\\bf A} = {\\bf QR}$\n",
    "\n",
    "On illustre cet algorithme sur les deux premières itérations :\n",
    "1. $j=1$ : \n",
    "- On construit ${\\bf H^{(1)}}$ telle que ${\\bf H^{(1)}A^{(1)}_{\\bullet,1}}$ =${\\bf e_1}$, premier vecteur de la base canonique de $\\mathbb R^n$\n",
    "- ${\\bf A^{(2)}}={\\bf H^{(1)}A^{(1)}} = \\begin{pmatrix}{\\|{\\bf A^{(1)}_{\\bullet,1}}\\|}&a^{(2)}_{12}&*&\\cdots &*\\\\0&a^{(2)}_{22}&*&\\cdots &*\\\\0&\\vdots&\\vdots&\\vdots&\\vdots\\\\0&a^{(2)}_{n2}&*&\\cdots &*\\end{pmatrix}$\n",
    "2. $j=2$ : \n",
    "- Soit ${\\bf f_2} = \\begin{pmatrix}a^{(2)}_{22}\\\\\\vdots\\\\a^{(2)}_{n2}\\end{pmatrix}\\in \\mathbb R^{n-1}$\n",
    "- On construit ${\\bf \\tilde{H^{(2)}}}\\in\\mathcal{M}_{n-1}(\\mathbb R)$ telle que ${\\bf \\tilde{H^{(2)}}f_2} = \\|{\\bf f_2}\\| {\\bf e^{(2)}_1}$ avec ${\\bf e^{(2)}_1}$ premier vecteur de la base canonique de $\\mathbb R^{n-1}$\n",
    "- On construit\n",
    "${\\bf H^{(2)}} =\\left (\n",
    "\\begin{array}{l|l}\n",
    "1&{\\bf 0}\\\\\n",
    "\\hline\n",
    " {\\bf 0} & {\\bf \\tilde{H^{(2)}}}\\\\\n",
    "\\end{array}\n",
    "\\right )\\in\\mathcal{M}_n(\\mathbb R)\n",
    "$ telle que \n",
    "${\\bf A^{(3)}}={\\bf H^{(2)}A^{(2)}}\\begin{pmatrix}{\\|{\\bf A^{(1)}_{\\bullet,1}}\\|}&\\ast&\\ast&\\cdots &\\ast\\\\0&\\|{\\bf f_2}\\|&a^{(3)}_{23}&\\cdots &\\ast\\\\0&0&a^{(3)}_{33}&\\vdots&\\vdots\\\\0&0&a^{(3)}_{n3}&\\cdots &*\\end{pmatrix}$"
   ]
  },
  {
   "cell_type": "code",
   "execution_count": 11,
   "id": "01a7cf7a",
   "metadata": {},
   "outputs": [
    {
     "name": "stdout",
     "output_type": "stream",
     "text": [
      "(3, 3)\n",
      "(3, 1, 1, 3)\n"
     ]
    },
    {
     "ename": "ValueError",
     "evalue": "non-broadcastable output operand with shape (3,3) doesn't match the broadcast shape (3,1,3,3)",
     "output_type": "error",
     "traceback": [
      "\u001b[0;31m---------------------------------------------------------------------------\u001b[0m",
      "\u001b[0;31mValueError\u001b[0m                                Traceback (most recent call last)",
      "Input \u001b[0;32mIn [11]\u001b[0m, in \u001b[0;36m<module>\u001b[0;34m\u001b[0m\n\u001b[1;32m     20\u001b[0m     \u001b[38;5;28;01mreturn\u001b[39;00m Q, A\n\u001b[1;32m     23\u001b[0m A \u001b[38;5;241m=\u001b[39m np\u001b[38;5;241m.\u001b[39marray([[\u001b[38;5;241m12\u001b[39m, \u001b[38;5;241m-\u001b[39m\u001b[38;5;241m51\u001b[39m, \u001b[38;5;241m4\u001b[39m], [\u001b[38;5;241m6\u001b[39m, \u001b[38;5;241m167\u001b[39m, \u001b[38;5;241m-\u001b[39m\u001b[38;5;241m68\u001b[39m], [\u001b[38;5;241m-\u001b[39m\u001b[38;5;241m4\u001b[39m, \u001b[38;5;241m24\u001b[39m, \u001b[38;5;241m-\u001b[39m\u001b[38;5;241m41\u001b[39m]])\n\u001b[0;32m---> 24\u001b[0m Q, R \u001b[38;5;241m=\u001b[39m \u001b[43mhouseholder\u001b[49m\u001b[43m(\u001b[49m\u001b[43mA\u001b[49m\u001b[43m)\u001b[49m\n\u001b[1;32m     26\u001b[0m \u001b[38;5;28mprint\u001b[39m (\u001b[38;5;124m\"\u001b[39m\u001b[38;5;124mA=\u001b[39m\u001b[38;5;124m\"\u001b[39m,A,\u001b[38;5;124m\"\u001b[39m\u001b[38;5;130;01m\\n\u001b[39;00m\u001b[38;5;124m\"\u001b[39m)\n\u001b[1;32m     27\u001b[0m \u001b[38;5;28mprint\u001b[39m (\u001b[38;5;124m\"\u001b[39m\u001b[38;5;124mQ=\u001b[39m\u001b[38;5;124m\"\u001b[39m,Q,\u001b[38;5;124m\"\u001b[39m\u001b[38;5;130;01m\\n\u001b[39;00m\u001b[38;5;124m\"\u001b[39m)\n",
      "Input \u001b[0;32mIn [11]\u001b[0m, in \u001b[0;36mhouseholder\u001b[0;34m(a)\u001b[0m\n\u001b[1;32m      7\u001b[0m toto2 \u001b[38;5;241m=\u001b[39m np\u001b[38;5;241m.\u001b[39mdot(v[:, \u001b[38;5;28;01mNone\u001b[39;00m], v[\u001b[38;5;28;01mNone\u001b[39;00m, :])\n\u001b[1;32m      8\u001b[0m \u001b[38;5;28mprint\u001b[39m(toto2\u001b[38;5;241m.\u001b[39mshape)\n\u001b[0;32m----> 9\u001b[0m H \u001b[38;5;241m-\u001b[39m\u001b[38;5;241m=\u001b[39m (toto1 \u001b[38;5;241m*\u001b[39m toto2)\n\u001b[1;32m     10\u001b[0m \u001b[38;5;28;01mreturn\u001b[39;00m H\n",
      "\u001b[0;31mValueError\u001b[0m: non-broadcastable output operand with shape (3,3) doesn't match the broadcast shape (3,1,3,3)"
     ]
    }
   ],
   "source": [
    "def householder(a):\n",
    "    v = a / (a[0] + np.copysign(np.linalg.norm(a), a[0]))\n",
    "    v[0] = 1\n",
    "    H = np.eye(a.shape[0])\n",
    "    toto1 = 2 / np.dot(v, v) \n",
    "    print(toto1.shape)\n",
    "    toto2 = np.dot(v[:, None], v[None, :])\n",
    "    print(toto2.shape)\n",
    "    H -= (toto1 * toto2)\n",
    "    return H\n",
    "\n",
    "def qr(A):\n",
    "    m, n = A.shape\n",
    "    Q = np.eye(m)\n",
    "    for i in range(n - (m == n)):\n",
    "        H = np.eye(m)\n",
    "        H[i:, i:] = make_householder(A[i:, i])\n",
    "        Q = np.dot(Q, H)\n",
    "        A = np.dot(H, A)\n",
    "    return Q, A\n",
    "\n",
    "\n",
    "A = np.array([[12, -51, 4], [6, 167, -68], [-4, 24, -41]])\n",
    "Q, R = householder(A)\n",
    "\n",
    "print (\"A=\",A,\"\\n\")\n",
    "print (\"Q=\",Q,\"\\n\")\n",
    "print (\"R=\",R,\"\\n\")"
   ]
  }
 ],
 "metadata": {
  "jupytext": {
   "formats": "md:myst",
   "text_representation": {
    "extension": ".md",
    "format_name": "myst"
   }
  },
  "kernelspec": {
   "display_name": "Python 3",
   "language": "python",
   "name": "python3"
  },
  "language_info": {
   "codemirror_mode": {
    "name": "ipython",
    "version": 3
   },
   "file_extension": ".py",
   "mimetype": "text/x-python",
   "name": "python",
   "nbconvert_exporter": "python",
   "pygments_lexer": "ipython3",
   "version": "3.9.13"
  },
  "source_map": [
   11,
   46,
   52,
   56,
   59,
   62,
   69,
   72,
   139,
   174,
   180,
   187,
   191,
   197,
   201,
   203,
   219,
   222,
   226,
   229,
   365
  ]
 },
 "nbformat": 4,
 "nbformat_minor": 5
}