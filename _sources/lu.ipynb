{
 "cells": [
  {
   "cell_type": "code",
   "execution_count": 1,
   "id": "8a88d49a",
   "metadata": {},
   "outputs": [
    {
     "name": "stdout",
     "output_type": "stream",
     "text": [
      "\u001b[33mDEPRECATION: Configuring installation scheme with distutils config files is deprecated and will no longer work in the near future. If you are using a Homebrew or Linuxbrew Python, please see discussion at https://github.com/Homebrew/homebrew-core/issues/76621\u001b[0m\u001b[33m\r\n",
      "\u001b[0m"
     ]
    },
    {
     "name": "stdout",
     "output_type": "stream",
     "text": [
      "Requirement already satisfied: sympy in /usr/local/lib/python3.9/site-packages (1.8)\r\n",
      "Requirement already satisfied: numpy in /usr/local/lib/python3.9/site-packages (1.21.4)\r\n",
      "Requirement already satisfied: matplotlib in /usr/local/lib/python3.9/site-packages (3.6.3)\r\n",
      "Requirement already satisfied: mpmath>=0.19 in /usr/local/lib/python3.9/site-packages (from sympy) (1.2.1)\r\n",
      "Requirement already satisfied: pyparsing>=2.2.1 in /usr/local/lib/python3.9/site-packages (from matplotlib) (2.4.7)\r\n",
      "Requirement already satisfied: fonttools>=4.22.0 in /usr/local/lib/python3.9/site-packages (from matplotlib) (4.29.1)\r\n",
      "Requirement already satisfied: cycler>=0.10 in /usr/local/lib/python3.9/site-packages (from matplotlib) (0.10.0)\r\n",
      "Requirement already satisfied: kiwisolver>=1.0.1 in /usr/local/lib/python3.9/site-packages (from matplotlib) (1.3.1)\r\n",
      "Requirement already satisfied: packaging>=20.0 in /usr/local/lib/python3.9/site-packages (from matplotlib) (20.9)\r\n",
      "Requirement already satisfied: contourpy>=1.0.1 in /usr/local/lib/python3.9/site-packages (from matplotlib) (1.0.6)\r\n",
      "Requirement already satisfied: python-dateutil>=2.7 in /usr/local/lib/python3.9/site-packages (from matplotlib) (2.8.1)\r\n"
     ]
    },
    {
     "name": "stdout",
     "output_type": "stream",
     "text": [
      "Requirement already satisfied: pillow>=6.2.0 in /usr/local/lib/python3.9/site-packages (from matplotlib) (9.1.0)\r\n",
      "Requirement already satisfied: six in /usr/local/lib/python3.9/site-packages (from cycler>=0.10->matplotlib) (1.15.0)\r\n"
     ]
    },
    {
     "name": "stdout",
     "output_type": "stream",
     "text": [
      "\u001b[33mDEPRECATION: Configuring installation scheme with distutils config files is deprecated and will no longer work in the near future. If you are using a Homebrew or Linuxbrew Python, please see discussion at https://github.com/Homebrew/homebrew-core/issues/76621\u001b[0m\u001b[33m\r\n",
      "\u001b[0m"
     ]
    },
    {
     "name": "stdout",
     "output_type": "stream",
     "text": [
      "\u001b[33mWARNING: There was an error checking the latest version of pip.\u001b[0m\u001b[33m\r\n",
      "\u001b[0m"
     ]
    }
   ],
   "source": [
    "# n'exécuter qu'une fois\n",
    "!pip3 install sympy numpy matplotlib\n"
   ]
  },
  {
   "cell_type": "markdown",
   "id": "108cce3b",
   "metadata": {},
   "source": [
    "# Facteurs LU d'une matrice non singulière\n",
    "\n",
    "## Méthode\n",
    "Quand on a plusieurs systèmes linéaires à résoudre avec la même matrice \n",
    "et des seconds membres différents, on a intérêt lors de la première \n",
    "résolution à garder les coefficients des pivotages successifs en mémoire.\n",
    "Cela correspond à garder la factorisation $LU$ de la matrice.\n",
    "```{index} factorisation;LU\n",
    "```\n",
    "```{index} LU\n",
    "```\n",
    "En effet,\n",
    "chaque pivotage peut être représenté par une matrice élémentaire qui\n",
    "ne diffère de l'identité que par une sous-colonne.\n",
    "\n",
    "Reprenons le pivotage de la matrice ${\\bf A^{(k)}}$ à l'étape $k$. Soit ${\\bf \\eta_k}$\n",
    "le vecteur de $\\mathbb R^{n-k}$ dont les composantes sont\n",
    "$\\eta_{ik}=a^{(k)}_{ik}/a^{(k)}_{kk}$. On a donc (en supposant \n",
    "$a^{(k)}_{kk}\\ne 0$)\n",
    "\n",
    "$\n",
    "{\\bf A^{(k+1)}}={\\bf E_kA^{(k)}}\n",
    "$\n",
    "\n",
    "où ${\\bf E_k}$ est la matrice élémentaire suivante\n",
    "\n",
    "![](./images/LU.png)\n",
    "\n",
    "On a donc, après $n-1$ pivotages\n",
    "\n",
    "$\\begin{equation}\n",
    "{\\bf A^{(n-1)}}={\\bf E_{n-1}E_{n-2}}\\cdots {\\bf E_1 A}.\\label{MatriceU}\n",
    "\\end{equation}$\n",
    "\n",
    "Notons ${\\bf U}$ la matrice triangulaire supérieure ${\\bf A^{(n-1)}}$ et\n",
    "réécrivons la relation précédente\n",
    "\n",
    "$ {\\bf A}={\\bf E_1^{-1}}\\cdots {\\bf E_{n-1}^{-1} U}$ \n",
    "\n",
    "On vérifie que la matrice inverse ${\\bf E_k^{-1}}$ a la même forme que\n",
    "${\\bf E_k}$ avec les éléments de la sous-colonne $k$ changés de signe et que les \n",
    "produits ${\\bf E_k^{-1}E_{k+1}^{-1}}$ s'effectuent sans calcul en accolant les\n",
    "vecteurs ${\\bf \\eta_k}$ et ${\\bf \\eta_{k+1}}$ dans les colonnes $k$ et $k+1$. On peut donc\n",
    "écrire ${\\bf A}={\\bf LU}$ où ${\\bf L}$ est une matrice triangulaire inférieure dont les éléments\n",
    "diagonaux sont égaux à 1 et les éléments sous la diagonale sont $l_{ij}=\\eta_{ij}.$\n",
    "\n",
    "````{prf:example}\n",
    "Soit ${\\bf A} = \\begin{pmatrix}1&4&7\\\\2&5&8\\\\3&6&10\\end{pmatrix}$. \n",
    "\n",
    "1. On pivote tout d'abord selon $a_{11}$. La matrice de transformation élémentaire est \n",
    "${\\bf E_1} = \\begin{pmatrix}1&0&0\\\\\\textcolor{red}{-2}&1&0\\\\\\textcolor{red}{-3}&0&1\\end{pmatrix}$\n",
    "avec ${\\bf \\eta_1} = \\begin{pmatrix} \\textcolor{red}{2}\\\\\\textcolor{red}{3}\\end{pmatrix}$ et $ {\\bf E_1A} =\\begin{pmatrix}1&4&7\\\\0&-3&-6\\\\0&-6&-11\\end{pmatrix}$\n",
    "2. On pivote ensuite selon $a^{(2)}_{22}$. La matrice de transformation élémentaire est  \n",
    "${\\bf E_2} = \\begin{pmatrix}1&0&0\\\\0&1&0\\\\0&\\textcolor{blue}{-2}&1\\end{pmatrix}$, avec ${\\bf \\eta_2} = \\begin{pmatrix} \\textcolor{blue}{2}\\end{pmatrix}$ et $ {\\bf E_2E_1A} =\\begin{pmatrix}1&4&7\\\\0&-3&-6\\\\0&0&1\\end{pmatrix}={\\bf U}$\n",
    "3. Finalement ${\\bf L} = \\begin{pmatrix}1&0&0\\\\\\textcolor{red}{2}&1&0\\\\\\textcolor{red}{3}&\\textcolor{blue}{2}&1\\end{pmatrix}$\n",
    "````\n",
    "\n",
    "Observons que les éléments non diagonaux de ${\\bf L}$ peuvent être rangés\n",
    "directement à la place des éléments de ${\\bf A}$ correspondants. La matrice ${\\bf A}$\n",
    "est donc recouverte par sa factorisation ${\\bf LU}$ et le coût de stockage est\n",
    "en $n^2$.\n",
    "\n",
    "Grâce à cette factorisation (qui ne coûte donc pas plus cher que la\n",
    "triangularisation), tout nouveau système linéaire ${\\bf Ax}={\\bf b'}$ peut être\n",
    "résolu par la résolution de deux systèmes triangulaires (donc en $O(n^2)$ flops).\n",
    "En effet, pour résoudre ${\\bf LUx}={\\bf b'}$, on résout d'abord ${\\bf Ly}={\\bf b'}$ puis ${\\bf Ux}={\\bf y}$.\n",
    "\n",
    "````{prf:example}\n",
    "Soit ${\\bf A} = \\begin{pmatrix}1&4&7\\\\2&5&8\\\\3&6&10\\end{pmatrix}$. \n",
    "\n",
    "En appliquant l'algorithme de factorisation ${\\bf LU}$ (cf. ci-dessus), on obtient \n",
    "\n",
    "${\\bf L} = \\begin{pmatrix}1&0&0\\\\2&1&0\\\\3&2&1\\end{pmatrix}\\quad {\\bf U} = \\begin{pmatrix}1&4&7\\\\0&-3&-6\\\\0&0&1\\end{pmatrix}$\n",
    "\n",
    "Si ${\\bf b} = \\begin{pmatrix}1\\\\1\\\\1\\end{pmatrix}$, ${\\bf Ly}={\\bf b}$ donne ${\\bf y} = \\begin{pmatrix}1\\\\-1\\\\0\\end{pmatrix}$ et ${\\bf Ux}={\\bf y}$ donne ${\\bf x} =\\frac{1}{3} \\begin{pmatrix}-1\\\\1\\\\0\\end{pmatrix}$\n",
    "````\n",
    "\n",
    "Quand aucun pivot nul n'est rencontré, ${\\bf A}$ peut se mettre sous la forme ${\\bf LU}$\n",
    "et cette factorisation est unique. En effet, s'il existe deux factorisations\n",
    "${\\bf L_1U_1}$ et ${\\bf L_2U_2}$ de ${\\bf A}$, on a alors\n",
    "${\\bf L_1U_1}={\\bf L_2U_2}$. Ce qui implique que ${\\bf L_2^{-1}L_1}={\\bf U_2U_1^{-1}}$ et le produit\n",
    "de deux matrices inférieures (resp. supérieures) étant une matrice triangulaire\n",
    "inférieure (resp. supérieure), ces produits sont nécessairement une matrice \n",
    "diagonale. C'est l'identité car $(l_1)_{ii}=(l_2)_{ii}=1$ pour tout $i$.\n",
    "\n",
    "Dans le cas d'une stratégie de pivot partiel, si ${\\bf P_k}$ est la matrice de \n",
    "permutation des lignes à l'itération $k$, on peut écrire\n",
    "\n",
    "${\\bf A^{(k+1)}}={\\bf E_kP_kA^{(k)}}.$\n",
    "\n",
    "En fait, les différentes permutations peuvent être résumées dans la matrice\n",
    "\n",
    "${\\bf P}={\\bf P_{n-1}P_{n-2}}\\cdots {\\bf P_1}$\n",
    "\n",
    "et on obtient la décomposition générale suivante :\n",
    "\n",
    "````{prf:theorem} Factorisation ${\\bf PA} = {\\bf LU}$\n",
    "Pour toute matrice ${\\bf A}$ non singulière de taille $n$, il existe\n",
    "une matrice de permutation ${\\bf P}$, une matrice triangulaire inférieure ${\\bf L}$ telle\n",
    "que $l_{ii}=1$, pour tout $i$, et une matrice triangulaire supérieure ${\\bf U}$, telles\n",
    "que\n",
    "\n",
    "${\\bf PA}={\\bf LU}.$ \n",
    "````\n",
    "\n",
    "\n",
    "L'algorithme {prf:ref}`FactLU` montre les différentes étapes de la factorisation ${\\bf LU}$\n",
    "avec recherche du pivot partiel. En sortie, ${\\bf A}$ contient les facteurs ${\\bf L}$ et ${\\bf U}$ de la matrice\n",
    "et $\\sigma$ les permutations de lignes éventuelles. \n",
    "\n",
    "\n",
    "```{prf:algorithm} Factorisation LU\n",
    ":label: FactLU\n",
    "\n",
    "**Entrée :** La matrice ${\\bf A}$\n",
    "\n",
    "**Sortie :** Les facteurs ${\\bf L}$ et ${\\bf U}$, les permutations $\\sigma$\n",
    "\n",
    "1. $\\sigma(i)=i$, $i\\in[\\![1,n]\\!]$ (initialisation du vecteur des permutations)\n",
    "2. Pour $k=1,\\ldots, n-1$\n",
    "\n",
    "    `Recherche du pivot`\n",
    "\n",
    "    1. $c_p\\leftarrow |a_{kk}|$\n",
    "    2. $i_p\\leftarrow k$\n",
    "    3. Pour $i=k+1,\\ldots, n$\n",
    "        1. Si $ |a_{ik}|> c_p$\n",
    "            1. $c_p\\leftarrow |a_{ik}|$\n",
    "            2.  $i_p\\leftarrow i$\n",
    "  \n",
    "    `Permutation`\n",
    "\n",
    "    4. Si $i_p\\ne k$\n",
    "        1. $\\sigma(k)=i_p$\n",
    "        2. $\\sigma_{i_p} = k$\n",
    "    5. Pour $i=k+1,\\ldots, n$\n",
    "    \n",
    "        `Remplissage de la colonne k`\n",
    "\n",
    "        1. $a_{ik}\\leftarrow \\frac{a_{ik}}{a_{kk}}$\n",
    "        \n",
    "        `Modification des lignes qui n'ont pas encore été ligne-pivot`\n",
    "\n",
    "        2. Pour $j=k+1,\\ldots,n+1$\n",
    "            1. $a_{ij} \\leftarrow  a_{ij}- a_{ik}a_{kj}$\n",
    "```\n",
    "\n",
    "\n",
    "\n",
    "\n",
    "Si $\\sigma_i=j$ alors les lignes\n",
    "$i$ et $j$ ont été permutées. Les permutations doivent être repercutées sur le second\n",
    "membre lors de la résolution de ${\\bf Ly}={\\bf b}$.\n",
    "\n",
    "\n",
    "## Exemple numérique"
   ]
  },
  {
   "cell_type": "code",
   "execution_count": 2,
   "id": "930f3741",
   "metadata": {},
   "outputs": [],
   "source": [
    "from fractions import Fraction\n",
    "from sympy import *\n",
    "init_printing(use_latex = 'mathjax')"
   ]
  },
  {
   "cell_type": "markdown",
   "id": "9aaab0e6",
   "metadata": {},
   "source": [
    "Soit \n",
    " A = $\\begin{bmatrix} 1 & -2 & 1 \\\\ 3 & 2 & -2 \\\\ 6 & -1 & -1 \\end{bmatrix} $. \n",
    "L'idée de la décomposition LU est d'appliquer une suite de transformations élémentaires E pour transformer $A$ en $U$. Les matrices $E$ sont calculées en faisant subir à l'identité les mêmes opérations de pivotage qu'à la matrice traitée.\n",
    "\n",
    "\n",
    "La première étape consiste à mettre un 0 en position (2,1). La transformation élémentaire correspondante $E_{21}$ est donc"
   ]
  },
  {
   "cell_type": "code",
   "execution_count": 3,
   "id": "1428bed2",
   "metadata": {},
   "outputs": [
    {
     "name": "stdout",
     "output_type": "stream",
     "text": [
      "Résultat de la première transformation élémentaire\n"
     ]
    },
    {
     "data": {
      "text/latex": [
       "$\\displaystyle \\left[\\begin{matrix}1.0 & -1.0 & 1.0\\\\0 & 5.0 & -5.0\\\\6.0 & -1.0 & -1.0\\end{matrix}\\right]$"
      ],
      "text/plain": [
       "⎡1.0  -1.0  1.0 ⎤\n",
       "⎢               ⎥\n",
       "⎢ 0   5.0   -5.0⎥\n",
       "⎢               ⎥\n",
       "⎣6.0  -1.0  -1.0⎦"
      ]
     },
     "execution_count": 3,
     "metadata": {},
     "output_type": "execute_result"
    }
   ],
   "source": [
    "A = Matrix([[1., -1., 1.], [3., 2., -2.], [6., -1., -1.]])\n",
    "E21 = Matrix([[1, 0, 0], [-3, 1, 0], [0, 0, 1]])\n",
    "print ('Résultat de la première transformation élémentaire') \n",
    "E21 * A "
   ]
  },
  {
   "cell_type": "markdown",
   "id": "508cb012",
   "metadata": {},
   "source": [
    "On met ensuite un 0 en position (3,1). La transformation élémentaire est  $E_{31}$ et le résultat $E_{31}.E_{21}.A$"
   ]
  },
  {
   "cell_type": "code",
   "execution_count": 4,
   "id": "32f7f184",
   "metadata": {},
   "outputs": [
    {
     "name": "stdout",
     "output_type": "stream",
     "text": [
      "Résultat de la deuxième transformation élémentaire\n"
     ]
    },
    {
     "data": {
      "text/latex": [
       "$\\displaystyle \\left[\\begin{matrix}1.0 & -1.0 & 1.0\\\\0 & 5.0 & -5.0\\\\0 & 5.0 & -7.0\\end{matrix}\\right]$"
      ],
      "text/plain": [
       "⎡1.0  -1.0  1.0 ⎤\n",
       "⎢               ⎥\n",
       "⎢ 0   5.0   -5.0⎥\n",
       "⎢               ⎥\n",
       "⎣ 0   5.0   -7.0⎦"
      ]
     },
     "execution_count": 4,
     "metadata": {},
     "output_type": "execute_result"
    }
   ],
   "source": [
    "E31 = Matrix([[1, 0, 0], [0, 1, 0], [-6, 0, 1]])\n",
    "print ('Résultat de la deuxième transformation élémentaire') \n",
    "E31 * E21 * A "
   ]
  },
  {
   "cell_type": "markdown",
   "id": "6c706400",
   "metadata": {},
   "source": [
    "On procède de même sur la deuxième colonne, en position (3,2)"
   ]
  },
  {
   "cell_type": "code",
   "execution_count": 5,
   "id": "cbc05916",
   "metadata": {},
   "outputs": [
    {
     "name": "stdout",
     "output_type": "stream",
     "text": [
      "Résultat de la troisième transformation élémentaire\n"
     ]
    },
    {
     "data": {
      "text/latex": [
       "$\\displaystyle \\left[\\begin{matrix}1.0 & -1.0 & 1.0\\\\0 & 5.0 & -5.0\\\\0 & -1.875 & -0.125\\end{matrix}\\right]$"
      ],
      "text/plain": [
       "⎡1.0   -1.0    1.0  ⎤\n",
       "⎢                   ⎥\n",
       "⎢ 0    5.0     -5.0 ⎥\n",
       "⎢                   ⎥\n",
       "⎣ 0   -1.875  -0.125⎦"
      ]
     },
     "execution_count": 5,
     "metadata": {},
     "output_type": "execute_result"
    }
   ],
   "source": [
    "E32 = Matrix([[1, 0 , 0], [0, 1, 0], [0, str(Fraction(-11./8.)), 1]])\n",
    "print ('Résultat de la troisième transformation élémentaire') \n",
    "U = E32 * E31 * E21 * A\n",
    "U"
   ]
  },
  {
   "cell_type": "markdown",
   "id": "04df442b",
   "metadata": {},
   "source": [
    "On a alors\n",
    "\n",
    "$  E ^{ -1 }_{ 21 }E^{ -1 }_{ 31 } E^{ -1 }_{ 32 }E_{ 32 }E_{ 31 }E_{ 21 }A=A $\n",
    "- Les inverses des transformations élémentaires sont calculées simplement en changeant de signe sous la diagonale\n",
    "- les produits de matrices élémentaires sont simplement obtenus en concaténant les colonnes successives des matrices élémentaires \n",
    "\n",
    "Ainsi"
   ]
  },
  {
   "cell_type": "code",
   "execution_count": 6,
   "id": "6d5fac96",
   "metadata": {},
   "outputs": [
    {
     "data": {
      "text/latex": [
       "$\\displaystyle \\left( \\left[\\begin{matrix}1 & 0 & 0\\\\-3 & 1 & 0\\\\0 & 0 & 1\\end{matrix}\\right], \\  \\left[\\begin{matrix}1 & 0 & 0\\\\3 & 1 & 0\\\\0 & 0 & 1\\end{matrix}\\right]\\right)$"
      ],
      "text/plain": [
       "⎛⎡1   0  0⎤  ⎡1  0  0⎤⎞\n",
       "⎜⎢        ⎥  ⎢       ⎥⎟\n",
       "⎜⎢-3  1  0⎥, ⎢3  1  0⎥⎟\n",
       "⎜⎢        ⎥  ⎢       ⎥⎟\n",
       "⎝⎣0   0  1⎦  ⎣0  0  1⎦⎠"
      ]
     },
     "execution_count": 6,
     "metadata": {},
     "output_type": "execute_result"
    }
   ],
   "source": [
    "E21, E21.inv()"
   ]
  },
  {
   "cell_type": "markdown",
   "id": "890de4b1",
   "metadata": {},
   "source": [
    "et par exemple"
   ]
  },
  {
   "cell_type": "code",
   "execution_count": 7,
   "id": "616642a6",
   "metadata": {},
   "outputs": [
    {
     "data": {
      "text/latex": [
       "$\\displaystyle \\left( \\left[\\begin{matrix}1 & 0 & 0\\\\0 & 1 & 0\\\\-6 & 0 & 1\\end{matrix}\\right], \\  \\left[\\begin{matrix}1 & 0 & 0\\\\0 & 1 & 0\\\\0 & - \\frac{11}{8} & 1\\end{matrix}\\right], \\  \\left[\\begin{matrix}1 & 0 & 0\\\\0 & 1 & 0\\\\-6 & - \\frac{11}{8} & 1\\end{matrix}\\right]\\right)$"
      ],
      "text/plain": [
       "⎛⎡1   0  0⎤  ⎡1    0    0⎤  ⎡1     0    0⎤⎞\n",
       "⎜⎢        ⎥  ⎢           ⎥  ⎢            ⎥⎟\n",
       "⎜⎢0   1  0⎥, ⎢0    1    0⎥, ⎢0     1    0⎥⎟\n",
       "⎜⎢        ⎥  ⎢           ⎥  ⎢            ⎥⎟\n",
       "⎝⎣-6  0  1⎦  ⎣0  -11/8  1⎦  ⎣-6  -11/8  1⎦⎠"
      ]
     },
     "execution_count": 7,
     "metadata": {},
     "output_type": "execute_result"
    }
   ],
   "source": [
    "E31,E32,E31*E32"
   ]
  },
  {
   "cell_type": "markdown",
   "id": "18a47652",
   "metadata": {},
   "source": [
    "Alors \n",
    "\n",
    "$A = E ^{ -1 }_{ 21 }E^{ -1 }_{ 31 } E^{ -1 }_{ 32 }E_{ 32 }E_{ 31 }E_{ 21 }A=E ^{ -1 }_{ 21 }E^{ -1 }_{ 31 } E^{ -1 }_{ 32 }U$\n",
    "\n",
    "On pose $L=E ^{ -1 }_{ 21 }E^{ -1 }_{ 31 } E^{ -1 }_{ 32 }$\n",
    "de sorte que $A=LU$"
   ]
  },
  {
   "cell_type": "code",
   "execution_count": 8,
   "id": "b8788cb4",
   "metadata": {},
   "outputs": [
    {
     "data": {
      "text/latex": [
       "$\\displaystyle \\left[\\begin{matrix}1 & 0 & 0\\\\3 & 1 & 0\\\\6 & \\frac{11}{8} & 1\\end{matrix}\\right]$"
      ],
      "text/plain": [
       "⎡1   0    0⎤\n",
       "⎢          ⎥\n",
       "⎢3   1    0⎥\n",
       "⎢          ⎥\n",
       "⎣6  11/8  1⎦"
      ]
     },
     "execution_count": 8,
     "metadata": {},
     "output_type": "execute_result"
    }
   ],
   "source": [
    "L = E21.inv() * E31.inv() * E32.inv()\n",
    "L"
   ]
  },
  {
   "cell_type": "markdown",
   "id": "a1632332",
   "metadata": {},
   "source": [
    "On vérifie le résultat"
   ]
  },
  {
   "cell_type": "code",
   "execution_count": 9,
   "id": "5ddffab4",
   "metadata": {},
   "outputs": [
    {
     "data": {
      "text/latex": [
       "$\\displaystyle \\left( \\left[\\begin{matrix}1.0 & -1.0 & 1.0\\\\3.0 & 2.0 & -2.0\\\\6.0 & -1.0 & -1.0\\end{matrix}\\right], \\  \\left[\\begin{matrix}1.0 & -1.0 & 1.0\\\\3.0 & 2.0 & -2.0\\\\6.0 & -1.0 & -1.0\\end{matrix}\\right]\\right)$"
      ],
      "text/plain": [
       "⎛⎡1.0  -1.0  1.0 ⎤  ⎡1.0  -1.0  1.0 ⎤⎞\n",
       "⎜⎢               ⎥  ⎢               ⎥⎟\n",
       "⎜⎢3.0  2.0   -2.0⎥, ⎢3.0  2.0   -2.0⎥⎟\n",
       "⎜⎢               ⎥  ⎢               ⎥⎟\n",
       "⎝⎣6.0  -1.0  -1.0⎦  ⎣6.0  -1.0  -1.0⎦⎠"
      ]
     },
     "execution_count": 9,
     "metadata": {},
     "output_type": "execute_result"
    }
   ],
   "source": [
    "A, L * U "
   ]
  },
  {
   "cell_type": "markdown",
   "id": "bcce804b",
   "metadata": {},
   "source": [
    "## Cas particuliers\n",
    "\n",
    "\n",
    "### Matrices symétriques\n",
    "Dans ce cas, ${\\bf U}$ peut s'écrire ${\\bf U}={\\bf DL^\\top} $ où \n",
    "${\\bf D}$ est la matrice diagonale contenant les pivots successifs.  On a donc\n",
    "la factorisation ${\\bf A}={\\bf LDL^\\top }$.\n",
    "```{index} Factorisation! ; LDL^T\n",
    "```\n",
    "La complexité de \n",
    "l'algorithme est alors de $n^3/6$ flops.\n",
    "\n",
    "\n",
    "### Matrices bandes\n",
    "Ce sont des matrices symétriques telles que \n",
    "$a_{ij}=0$ pour $|i-j|>p$ ($p$ est la largeur de bande de la matrice, $p<n$). \n",
    "Ces matrices interviennent couramment dans la discrétisation d'équations \n",
    "différentielles.  Il est alors facile de montrer que les facteurs ${\\bf LU}$ respectent\n",
    "la bande. On a alors intérêt de stocker la matrice (et ses facteurs ${\\bf LU}$) sous\n",
    "la forme de tableau à $n$ lignes et $p$ colonnes et la complexité est en $np^2/2$\n",
    "flops.\n",
    "\n",
    "### Matrices symétriques définies positives\n",
    "Les matrices définies positives possèdent une factorisation unique ${\\bf LDL^\\top} $ avec des pivots\n",
    "successifs strictement positifs. La factorisation peut s'effectuer directement sans\n",
    "pivotage par identification terme à terme en $n^3/6$ flops par l'algorithme de Cholesky. \n",
    "\n",
    "\n",
    "# Autres applications\n",
    "\n",
    "## Calcul de l'inverse d'une matrice\n",
    "On a vu précédemment que la résolution d'un système linéaire ne nécessite pas le\n",
    "calcul explicite de l'inverse d'une matrice. Quand on a besoin néanmoins de la \n",
    "calculer, on peut procéder de la manière suivante, basée sur la factorisation ${\\bf LU}$\n",
    "de la matrice :\n",
    "\n",
    "- Calculer les facteurs ${\\bf LU}$ de la matrice : ${\\bf PA}={\\bf LU}$\n",
    "- Résoudre les $n$ systèmes linéaires ${\\bf LUx^i}={\\bf Pe_i}$, où ${\\bf e_i}$, $i\\in [\\![1, n]\\!]$,\n",
    "est le $i^e$ vecteur de la base canonique de $\\mathbb R^n$. La solution ${\\bf x^i}$ est la\n",
    "$i^e$ colonne de ${\\bf A^{-1}}$. \n",
    "\n",
    "\n",
    "\n",
    "Le coût total apparent est de $n^3/3+n^3=4n^3/3$ flops.\n",
    "Mais on peut montrer que, grâce à la structure particulière des seconds membres des\n",
    "systèmes linéaires successifs, le coût réel n'est que de $n^3$ flops.\n",
    "\n",
    "Une approche équivalente couramment utilisée, mais qui ne passe pas par le calcul \n",
    "des facteurs ${\\bf LU}$, est la méthode dite de Gauss-Jordan qui consiste à pivoter\n",
    "complètement le système paramétré ${\\bf Ax-y}={\\bf 0}$.\n",
    "\n",
    "On pivote cette fois sur la colonne entière de façon à transformer le système\n",
    "en un système diagonal ${\\bf x}-{\\bf A^{-1}y}={\\bf 0}$. On peut observer que cette technique consiste\n",
    "à effectuer en parallèle à partir de la matrice identité les pivotages nécessaires\n",
    "à la transformation de ${\\bf A}$ en la matrice identité.\n",
    "\n",
    "\n",
    "## Calcul du déterminant\n",
    "\n",
    "\n",
    "Le calcul du déterminant d'une  matrice $2\\times 2$ est bien connu:\n",
    "\n",
    "$\\begin{equation}\n",
    "\\det\\left[\\begin{array}{rr} a & b \\\\ c & d\\end{array}\\right]=ad-bc \\label{DetMat2x2}\n",
    "\\end{equation}$\n",
    "\n",
    "ce qui permet de déterminer explicitement l'inverse d'une matrice $2\\times 2$ :\n",
    "$\\begin{equation}\n",
    "\\left[\\begin{array}{rr} a & b \\\\ c & d\\end{array}\\right]^{-1}=\\frac{1}{ad-bc}\n",
    "\\left[\\begin{array}{rr} d & -b \\\\ -c & a\\end{array}\\right]. \\label{InvMat2x2}\n",
    "\\end{equation}$\n",
    "\n",
    "La généralisation des formules précédentes au cas des matrices\n",
    "$n\\times n$ conduit aux fameuses formules de Cramer que nous ne reproduirons pas\n",
    "ici car elles ont une complexité exponentielle, ce qui les rend impraticables. A titre d'exemple, pour calculer le déterminant d'une matrice\n",
    "$20\\times 20$ par la formule de Cramer il faut à peu près 15400 ans de calcul sur une\n",
    "machine de 100 Mips (soit $10^8$ instructions par seconde). Avec la méthode des pivots\n",
    "le coût n'est que de $3\\cdot 10^{-5}$ secondes! \n",
    "\n",
    "En pratique on calculera le  déterminant après pivotage:\n",
    "\n",
    "$\n",
    "\\det({\\bf A})=(-1)^p\\prod_{i=1}^nu_{ii}\n",
    "$\n",
    "\n",
    "où les $u_{ii}, i\\in[\\![1, n]\\!]$ sont les pivots et $p$ le nombre de permutations\n",
    "effectuées au cours de la factorisation."
   ]
  }
 ],
 "metadata": {
  "jupytext": {
   "formats": "md:myst",
   "text_representation": {
    "extension": ".md",
    "format_name": "myst"
   }
  },
  "kernelspec": {
   "display_name": "Python 3",
   "language": "python",
   "name": "python3"
  },
  "language_info": {
   "codemirror_mode": {
    "name": "ipython",
    "version": 3
   },
   "file_extension": ".py",
   "mimetype": "text/x-python",
   "name": "python",
   "nbconvert_exporter": "python",
   "pygments_lexer": "ipython3",
   "version": "3.9.13"
  },
  "source_map": [
   13,
   17,
   177,
   181,
   190,
   195,
   200,
   204,
   207,
   212,
   223,
   225,
   228,
   230,
   240,
   243,
   247,
   249
  ]
 },
 "nbformat": 4,
 "nbformat_minor": 5
}